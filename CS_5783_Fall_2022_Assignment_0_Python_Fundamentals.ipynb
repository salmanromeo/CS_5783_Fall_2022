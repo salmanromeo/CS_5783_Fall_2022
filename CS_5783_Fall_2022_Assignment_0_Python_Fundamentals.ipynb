{
  "nbformat": 4,
  "nbformat_minor": 0,
  "metadata": {
    "colab": {
      "provenance": [],
      "collapsed_sections": [],
      "authorship_tag": "ABX9TyP6nBdMDda6kqvF0Ticr6jz",
      "include_colab_link": true
    },
    "kernelspec": {
      "name": "python3",
      "display_name": "Python 3"
    },
    "language_info": {
      "name": "python"
    }
  },
  "cells": [
    {
      "cell_type": "markdown",
      "metadata": {
        "id": "view-in-github",
        "colab_type": "text"
      },
      "source": [
        "<a href=\"https://colab.research.google.com/github/salmanromeo/CS_5783_Fall_2022/blob/main/CS_5783_Fall_2022_Assignment_0_Python_Fundamentals.ipynb\" target=\"_parent\"><img src=\"https://colab.research.google.com/assets/colab-badge.svg\" alt=\"Open In Colab\"/></a>"
      ]
    },
    {
      "cell_type": "markdown",
      "source": [
        "**Problem 1**"
      ],
      "metadata": {
        "id": "a73wxSLFe-Lt"
      }
    },
    {
      "cell_type": "markdown",
      "source": [
        "#####In this part of the assignment, you will work with file I/O operations, dictionaries, Numpy arrays and visualization with Matplotlib. You will write a simple Python script that will read a file named test.txt. You can hard code this into your program for convenience. A sample file is given on Canvas for your reference. Your program should read a text file and print a histogram of the letters present in the document. The code must have the histogram as both a dictionary, where the keys are letters and the values are the corresponding frequencies, as well as a Numpy array, where each index corresponds to a letter in alphabetical order. For example, the letter ‘a’ corresponds to index 0, ‘b’ to index 1, etc. <br>\n",
        "#####An example of a histogram for a line is given below: <br>\n",
        "#####Input: The quick brown fox jumps over the lazy dog <br>\n",
        "#####Output: {'a': 1, 'b': 1, 'c': 1, 'd': 1, 'e': 3, 'f': 1, 'g': 1, 'h': 2, 'i': 1, 'j': 1, 'k': 1, 'l': 1, 'm': 1, 'n': 1, 'o': 4, 'p': 1, 'q': 1, 'r': 2, 's': 1, 't': 2, 'u': 2, 'v': 1, 'w': 1, 'x': 1, 'y': 1, 'z': 1} <br>\n",
        "#####Given the computed histogram, create two bar graphs. In the first, the frequencies should be normalized i.e., the frequencies will sum to 1. In the second, they should be unnormalized. Make sure to generate titles appropriately for the graph and the axes. Display the plots to the user along with printing the histogram(s). <br>\n"
      ],
      "metadata": {
        "id": "6CKJU1QeIEtK"
      }
    },
    {
      "cell_type": "markdown",
      "source": [
        "**Solution 1**"
      ],
      "metadata": {
        "id": "q6FLsTleLoIJ"
      }
    },
    {
      "cell_type": "markdown",
      "source": [
        "**Libraries**"
      ],
      "metadata": {
        "id": "4XcAb0sqNjXb"
      }
    },
    {
      "cell_type": "code",
      "source": [
        "import numpy as np\n",
        "import matplotlib.pyplot as plt\n",
        "import string\n",
        "import re\n",
        "import collections\n",
        "from sklearn import preprocessing"
      ],
      "metadata": {
        "id": "uVx266XAO7Ro"
      },
      "execution_count": 1,
      "outputs": []
    },
    {
      "cell_type": "markdown",
      "source": [
        "**Reading .txt file**"
      ],
      "metadata": {
        "id": "Esnp3aqAPGHo"
      }
    },
    {
      "cell_type": "code",
      "source": [
        "with open(\"test.txt\") as file:\n",
        "    lines = file.readlines()\n",
        "    print(lines)"
      ],
      "metadata": {
        "colab": {
          "base_uri": "https://localhost:8080/"
        },
        "id": "vwZK2JCANieF",
        "outputId": "259f5087-756e-4a3d-8907-be49154894f4"
      },
      "execution_count": 2,
      "outputs": [
        {
          "output_type": "stream",
          "name": "stdout",
          "text": [
            "['The quick brown fox jumps over a lazy dog\\n', 'Waltz, bad nymph, for quick jigs vex\\n', 'Glib jocks quiz nymph to vex dwarf\\n', 'Sphinx of black quartz, judge my vow\\n', 'How vexingly quick daft zebras jump\\n', 'The five boxing wizards jump quickly\\n', 'Jackdaws love my big sphinx of quartz\\n', 'Pack my box with five dozen liquor jugs\\n', 'Waltz, bad nymph, for quick jigs vex\\n', 'Quick zephyrs blow, vexing daft Jim\\n', 'Sphinx of black quartz, judge my vow\\n', 'Two driven jocks help fax my big quiz\\n', 'Five quacking zephyrs jolt my wax bed\\n', 'The five boxing wizards jump quickly\\n', 'Pack my box with five dozen liquor jugs\\n', 'The quick brown fox jumps over the lazy dog\\n', 'Jinxed wizards pluck ivy from the big quilt\\n', 'Crazy Fredrick bought many very exquisite opal jewels\\n', 'We promptly judged antique ivory buckles for the next prize\\n', 'A mad boxer shot a quick, gloved jab to the jaw of his dizzy opponent\\n', 'Jaded zombies acted quaintly but kept driving their oxen forward\\n', 'The job requires extra pluck and zeal from every young wage earner']\n"
          ]
        }
      ]
    },
    {
      "cell_type": "markdown",
      "source": [
        "**Alphabetical order**"
      ],
      "metadata": {
        "id": "-0lHKDlPPd_Q"
      }
    },
    {
      "cell_type": "code",
      "source": [
        "letter_list = list(string.ascii_lowercase)\n",
        "print(letter_list)"
      ],
      "metadata": {
        "colab": {
          "base_uri": "https://localhost:8080/"
        },
        "id": "vA-W0P55PnBz",
        "outputId": "88399752-2261-4b51-f350-77438b489e73"
      },
      "execution_count": 3,
      "outputs": [
        {
          "output_type": "stream",
          "name": "stdout",
          "text": [
            "['a', 'b', 'c', 'd', 'e', 'f', 'g', 'h', 'i', 'j', 'k', 'l', 'm', 'n', 'o', 'p', 'q', 'r', 's', 't', 'u', 'v', 'w', 'x', 'y', 'z']\n"
          ]
        }
      ]
    },
    {
      "cell_type": "markdown",
      "source": [
        "**Counting letters**"
      ],
      "metadata": {
        "id": "XYWbJ-6mQsmt"
      }
    },
    {
      "cell_type": "code",
      "source": [
        "letter = []\n",
        "letter_index = {}\n",
        "for j in range(len(lines)):\n",
        "    letter_index = {}\n",
        "    for i in range(len(letter_list)):\n",
        "        letter_index[letter_list[i]] = len(re.findall(letter_list[i], lines[j].lower()))\n",
        "    letter.append(letter_index)\n",
        "key = collections.Counter()\n",
        "for k in letter: \n",
        "    key.update(k)     \n",
        "frequency = dict(key)\n",
        "print(\"Output:\", frequency)"
      ],
      "metadata": {
        "colab": {
          "base_uri": "https://localhost:8080/"
        },
        "id": "ToSZmQN-QyCk",
        "outputId": "f722948d-aea4-442b-d4f6-886fafda9d50"
      },
      "execution_count": 4,
      "outputs": [
        {
          "output_type": "stream",
          "name": "stdout",
          "text": [
            "Output: {'a': 44, 'b': 24, 'c': 23, 'd': 30, 'e': 63, 'f': 22, 'g': 23, 'h': 25, 'i': 56, 'j': 23, 'k': 22, 'l': 26, 'm': 22, 'n': 28, 'o': 50, 'p': 25, 'q': 22, 'r': 40, 's': 25, 't': 36, 'u': 38, 'v': 22, 'w': 22, 'x': 22, 'y': 27, 'z': 23}\n"
          ]
        }
      ]
    },
    {
      "cell_type": "markdown",
      "source": [
        "**Normalized histogram**"
      ],
      "metadata": {
        "id": "__6QUpMM6iZK"
      }
    },
    {
      "cell_type": "code",
      "source": [
        "values = list(frequency.values())\n",
        "x = sum(values)\n",
        "print(\"Sum of frequencies:\", x)\n",
        "norm = [y / x for y in values]\n",
        "print(\"Normalized:\", norm)\n",
        "z = round(sum(norm),2)\n",
        "print(\"Normalized sum of frequencies:\", z)\n",
        "bins = range(len(frequency))\n",
        "labels = list(frequency.keys())\n",
        "plt.bar(bins, norm, width=0.8, color='red', tick_label=labels)\n",
        "plt.xlabel('Letters')\n",
        "plt.ylabel('Frequency')\n",
        "plt.title('Normalized Histogram')\n",
        "plt.show()"
      ],
      "metadata": {
        "colab": {
          "base_uri": "https://localhost:8080/",
          "height": 367
        },
        "id": "cZp-YsMT6tHN",
        "outputId": "bc7ef383-ff90-4606-f3f0-6297e6932ee6"
      },
      "execution_count": 7,
      "outputs": [
        {
          "output_type": "stream",
          "name": "stdout",
          "text": [
            "Sum of frequencies: 783\n",
            "Normalized: [0.0561941251596424, 0.03065134099616858, 0.02937420178799489, 0.038314176245210725, 0.08045977011494253, 0.0280970625798212, 0.02937420178799489, 0.031928480204342274, 0.07151979565772669, 0.02937420178799489, 0.0280970625798212, 0.033205619412515965, 0.0280970625798212, 0.035759897828863345, 0.06385696040868455, 0.031928480204342274, 0.0280970625798212, 0.05108556832694764, 0.031928480204342274, 0.04597701149425287, 0.04853128991060025, 0.0280970625798212, 0.0280970625798212, 0.0280970625798212, 0.034482758620689655, 0.02937420178799489]\n",
            "Normalized sum of frequencies: 1.0\n"
          ]
        },
        {
          "output_type": "display_data",
          "data": {
            "text/plain": [
              "<Figure size 432x288 with 1 Axes>"
            ],
            "image/png": "[encoded data removed]"
          },
          "metadata": {
            "needs_background": "light"
          }
        }
      ]
    },
    {
      "cell_type": "markdown",
      "source": [
        "**Unnormalized histogram**"
      ],
      "metadata": {
        "id": "qCbo8kAh57Zf"
      }
    },
    {
      "cell_type": "code",
      "source": [
        "plt.bar(bins, values, width=0.8, color='red', tick_label=labels)\n",
        "plt.xlabel('Letters')\n",
        "plt.ylabel('Frequency')\n",
        "plt.title('Unnormalized Histogram')\n",
        "plt.show()"
      ],
      "metadata": {
        "colab": {
          "base_uri": "https://localhost:8080/",
          "height": 295
        },
        "id": "cnnAIVNSrWqe",
        "outputId": "f77128c7-4131-4942-f699-66acd6b05ed0"
      },
      "execution_count": 9,
      "outputs": [
        {
          "output_type": "display_data",
          "data": {
            "text/plain": [
              "<Figure size 432x288 with 1 Axes>"
            ],
            "image/png": "[encoded data removed]"
          },
          "metadata": {
            "needs_background": "light"
          }
        }
      ]
    },
    {
      "cell_type": "markdown",
      "source": [
        "**Problem 2**"
      ],
      "metadata": {
        "id": "198ep-V4KLb6"
      }
    },
    {
      "cell_type": "markdown",
      "source": [
        "#####In this part of the assignment, you will be working with arrays using NumPy. You will be working with an image (test.png) that was provided on Canvas for convenience. You can read the image using OpenCV (installed by default on Colab) as follows. <br>\n",
        "#####import cv2 <br>\n",
        "#####img = cv2.imread(‘input.png’) <br>\n",
        "#####Perform the following operations: <br>\n",
        "1. For each pixel in the image, i.e., every element in the array img,compute the Euclidean distance to the following points [255, 0, 0], [0, 255, 0] and [0, 0, 255]. Once computed, set the value of the pixel to the point with the least distance. Save the image as output1.png <br>\n",
        "2. Set the pixels that fall within a square (whose sides are of length 50) at the center of the image to be [0,0,0]. Save the image as output2.png <br>"
      ],
      "metadata": {
        "id": "rcpZOKG2KhJy"
      }
    },
    {
      "cell_type": "markdown",
      "source": [
        "**Solution 2**"
      ],
      "metadata": {
        "id": "OrE4xKxsLuSs"
      }
    },
    {
      "cell_type": "markdown",
      "source": [
        "**Libraries**"
      ],
      "metadata": {
        "id": "pZhMO8fl-t88"
      }
    },
    {
      "cell_type": "code",
      "source": [
        "import numpy as np\n",
        "import cv2 \n",
        "from google.colab.patches import cv2_imshow\n",
        "from PIL import Image\n",
        "import matplotlib.pylab as plt"
      ],
      "metadata": {
        "id": "vApcQw5Gv0G0"
      },
      "execution_count": 27,
      "outputs": []
    },
    {
      "cell_type": "markdown",
      "source": [
        "**Read image and pixel details**"
      ],
      "metadata": {
        "id": "rIHYSCgR-3Pl"
      }
    },
    {
      "cell_type": "code",
      "source": [
        "img = cv2.imread('/content/test.png')\n",
        "cv2_imshow(img)\n",
        "# Check the image matrix data type (could know the bit depth of the image)\n",
        "print(\"Data type:\", img.dtype)\n",
        "# Check the height of image \n",
        "print(\"Height of image:\",img.shape[0])\n",
        "# Check the width of image \n",
        "print(\"Width of image:\",img.shape[1])\n",
        "# Check the number of channels of the image\n",
        "print(\"Number of channels of the image:\",img.shape[2])\n",
        "print(\"Pixels:\",img)"
      ],
      "metadata": {
        "id": "dLq-1gYW-60p"
      },
      "execution_count": null,
      "outputs": []
    },
    {
      "cell_type": "markdown",
      "source": [
        "**Calculate Euclidean distance**"
      ],
      "metadata": {
        "id": "H9hLq_j4AXzd"
      }
    },
    {
      "cell_type": "code",
      "source": [
        "a = [255,0,0]\n",
        "b = [0,255,0]\n",
        "c = [0,0,255]\n",
        "# Euclidean distance\n",
        "for i in range(img.shape[0]):\n",
        "  for j in range(img.shape[1]):\n",
        "    new_a = np.linalg.norm(img[i,j,:] - a)\n",
        "    new_b = np.linalg.norm(img[i,j,:] - b)\n",
        "    new_c = np.linalg.norm(img[i,j,:] - c)\n",
        "# Find least distance        \n",
        "    least_dist = np.argmin([new_a,new_b,new_c])\n",
        "    # print(least_dist)\n",
        "    if least_dist == 0:\n",
        "      img[i,j,:] = [255,0,0]\n",
        "    elif least_dist == 1:\n",
        "      img[i,j,:] = [0,255,0]\n",
        "    elif least_dist == 2:\n",
        "      img[i,j,:] = [0,0,255]"
      ],
      "metadata": {
        "id": "WkMXtT4xAZtn"
      },
      "execution_count": null,
      "outputs": []
    },
    {
      "cell_type": "markdown",
      "source": [
        "**Output1.png**"
      ],
      "metadata": {
        "id": "doC1jznOCCaq"
      }
    },
    {
      "cell_type": "code",
      "source": [
        "plt.imshow(img)\n",
        "plt.title(\"Output1.png\")\n",
        "plt.savefig(\"Output1.png\")\n",
        "plt.show()"
      ],
      "metadata": {
        "colab": {
          "base_uri": "https://localhost:8080/",
          "height": 281
        },
        "id": "ilWDjGv0CD3b",
        "outputId": "ecdc556d-a325-46a6-b545-5db7e34e8b4b"
      },
      "execution_count": 30,
      "outputs": [
        {
          "output_type": "display_data",
          "data": {
            "text/plain": [
              "<Figure size 432x288 with 1 Axes>"
            ],
            "image/png": "[encoded data removed]"
          },
          "metadata": {
            "needs_background": "light"
          }
        }
      ]
    },
    {
      "cell_type": "markdown",
      "source": [
        "**Set a square in the image**"
      ],
      "metadata": {
        "id": "f9KIxL_rDbAW"
      }
    },
    {
      "cell_type": "code",
      "source": [
        "# Find the center of the image and add a square of length 50 (25 left and 25 right)\n",
        "for i in range(int((img.shape[0]/2)-25), int((img.shape[0]/2)+25)):\n",
        "  for j in range(int((img.shape[1]/2)-25), int((img.shape[1]/2)+25)):\n",
        "    img[i,j,:] = [0,0,0]"
      ],
      "metadata": {
        "id": "Ab7VztJqDsBB"
      },
      "execution_count": 34,
      "outputs": []
    },
    {
      "cell_type": "markdown",
      "source": [
        "**Output2.png**"
      ],
      "metadata": {
        "id": "tTpG3v7WUBda"
      }
    },
    {
      "cell_type": "code",
      "source": [
        "plt.imshow(img)\n",
        "plt.title(\"Output2.png\")\n",
        "plt.savefig(\"Output2.png\")\n",
        "plt.show()"
      ],
      "metadata": {
        "colab": {
          "base_uri": "https://localhost:8080/",
          "height": 281
        },
        "id": "CeH_mF_2UC6J",
        "outputId": "a69b69b0-7cdc-4366-998a-1ff691eec378"
      },
      "execution_count": 35,
      "outputs": [
        {
          "output_type": "display_data",
          "data": {
            "text/plain": [
              "<Figure size 432x288 with 1 Axes>"
            ],
            "image/png": "[encoded data removed]"
          },
          "metadata": {
            "needs_background": "light"
          }
        }
      ]
    },
    {
      "cell_type": "markdown",
      "source": [
        "**Problem 3**"
      ],
      "metadata": {
        "id": "hYigwqMeXx1b"
      }
    },
    {
      "cell_type": "markdown",
      "source": [
        "#####In this part of the assignment, you will be using NumPy to solve the following word problem. Specifically, you can use the LinAlg package from Numpy to solve the system of equations. <br>\n",
        "#####Problem statement: <br>\n",
        "#####You and a friend go to buy tacos. You get three soft tacos and three burritos and your total bill is 11.25 dollar. Your friend's bill is 10.00 dollar for four soft tacos and two burritos. How much do soft tacos cost? How much do burritos cost? <br>"
      ],
      "metadata": {
        "id": "zYLlHL1QLHn8"
      }
    },
    {
      "cell_type": "markdown",
      "source": [
        "**Solution 3**"
      ],
      "metadata": {
        "id": "MS0kz9BhLxSm"
      }
    },
    {
      "cell_type": "markdown",
      "source": [
        "#####Let assume, <br>\n",
        "#####<dd>The cost of one soft taco = $x$ <br>\n",
        "#####<dd>and the cost of one burrito = $y$ </dd> <br>\n",
        "#####So, we have this system of equations: <br>\n",
        "#####<dd>$3x+3y=11.25$ <br>\n",
        "#####<dd>$4x+2y=10$ </dd> <br>\n",
        "#####Now, we can arrange these equations by Inverse of a Matrix formulation to solve the unknow (x and y). <br>\n"
      ],
      "metadata": {
        "id": "froD_33ZYB_O"
      }
    },
    {
      "cell_type": "markdown",
      "source": [
        "**Libraries**"
      ],
      "metadata": {
        "id": "Cpi10SmZMAvO"
      }
    },
    {
      "cell_type": "code",
      "source": [
        "import numpy as np"
      ],
      "metadata": {
        "id": "eD_ZTat3MTNY"
      },
      "execution_count": 10,
      "outputs": []
    },
    {
      "cell_type": "markdown",
      "source": [
        "**Array from the system of equations**"
      ],
      "metadata": {
        "id": "DKPc_pO4MYC4"
      }
    },
    {
      "cell_type": "code",
      "source": [
        "Coeff = [[3, 3], [4, 2]]        # 3x+3y=11.25 and 4x+2y=10\n",
        "A = np.array(Coeff)\n",
        "B = np.array([11.25, 10])"
      ],
      "metadata": {
        "id": "uJucN8TvMlYa"
      },
      "execution_count": 11,
      "outputs": []
    },
    {
      "cell_type": "markdown",
      "source": [
        "**Validation**"
      ],
      "metadata": {
        "id": "14cwOx2OMwa2"
      }
    },
    {
      "cell_type": "code",
      "source": [
        "print(np.linalg.det(A))"
      ],
      "metadata": {
        "colab": {
          "base_uri": "https://localhost:8080/"
        },
        "id": "6UELW6DjMvYK",
        "outputId": "6d47a23b-9e8c-4c42-8ce2-6892c547b522"
      },
      "execution_count": 12,
      "outputs": [
        {
          "output_type": "stream",
          "name": "stdout",
          "text": [
            "-6.0\n"
          ]
        }
      ]
    },
    {
      "cell_type": "markdown",
      "source": [
        "**Inverse of a Matrix formulation**"
      ],
      "metadata": {
        "id": "DjyEfP7XNBbF"
      }
    },
    {
      "cell_type": "code",
      "source": [
        "inv_A = np.linalg.inv(A)        # A*X=B\n",
        "X = np.linalg.inv(A).dot(B)     # X=inv(A)*B"
      ],
      "metadata": {
        "id": "fcb_jRD_NDTn"
      },
      "execution_count": 13,
      "outputs": []
    },
    {
      "cell_type": "markdown",
      "source": [
        "**Final Answers**"
      ],
      "metadata": {
        "id": "wPS6pKq3NIR2"
      }
    },
    {
      "cell_type": "code",
      "source": [
        "print(X)\n",
        "print(\"Each soft tacos costs: $\",round(X[0],2))\n",
        "print(\"Each burritos costs: $\",round(X[1],2))"
      ],
      "metadata": {
        "colab": {
          "base_uri": "https://localhost:8080/"
        },
        "id": "SrLxafldNLCK",
        "outputId": "9a584b10-58f9-47e5-ed89-7fd5f9ffd7d3"
      },
      "execution_count": 14,
      "outputs": [
        {
          "output_type": "stream",
          "name": "stdout",
          "text": [
            "[1.25 2.5 ]\n",
            "Each soft tacos costs: $ 1.25\n",
            "Each burritos costs: $ 2.5\n"
          ]
        }
      ]
    }
  ]
}