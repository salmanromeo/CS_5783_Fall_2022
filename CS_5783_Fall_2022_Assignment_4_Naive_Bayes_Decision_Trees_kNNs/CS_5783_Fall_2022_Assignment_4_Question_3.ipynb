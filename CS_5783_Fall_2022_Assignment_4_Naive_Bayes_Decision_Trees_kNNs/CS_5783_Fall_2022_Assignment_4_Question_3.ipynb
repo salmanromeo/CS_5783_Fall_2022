{
  "nbformat": 4,
  "nbformat_minor": 0,
  "metadata": {
    "colab": {
      "provenance": [],
      "authorship_tag": "ABX9TyMJ6G+o6v2oLDEcjv5ClEBJ",
      "include_colab_link": true
    },
    "kernelspec": {
      "name": "python3",
      "display_name": "Python 3"
    },
    "language_info": {
      "name": "python"
    }
  },
  "cells": [
    {
      "cell_type": "markdown",
      "metadata": {
        "id": "view-in-github",
        "colab_type": "text"
      },
      "source": [
        "<a href=\"https://colab.research.google.com/github/salmanromeo/CS_5783_Machine_Learning_Fall_2022/blob/main/CS_5783_Fall_2022_Assignment_4_Naive_Bayes_Decision_Trees_kNNs/CS_5783_Fall_2022_Assignment_4_Question_3.ipynb\" target=\"_parent\"><img src=\"https://colab.research.google.com/assets/colab-badge.svg\" alt=\"Open In Colab\"/></a>"
      ]
    },
    {
      "cell_type": "markdown",
      "source": [
        "**Question 3**"
      ],
      "metadata": {
        "id": "_GaOsozLjUqk"
      }
    },
    {
      "cell_type": "markdown",
      "source": [
        "#####Using the same housing data (Asssignment4_Data.xlsx), implement the k-nearest neighbor algorithm to perform classification. Your program should take in the number of neighbors k as input and classify each example in the test set based on the majority vote from the chosen neighbors. Compute the accuracy of your approach for different number of neighbors, ranging from 1 to 5 and explain the results briefly using a plot. You can use Euclidean distance to choose the neighbor points."
      ],
      "metadata": {
        "id": "IfrnL8htjZAM"
      }
    },
    {
      "cell_type": "markdown",
      "source": [
        "**Answer 3**"
      ],
      "metadata": {
        "id": "U-zOoF_vjkYH"
      }
    },
    {
      "cell_type": "markdown",
      "source": [
        "**Libraries**"
      ],
      "metadata": {
        "id": "jSdEdn01jtVu"
      }
    },
    {
      "cell_type": "code",
      "source": [
        "import numpy as np\n",
        "import matplotlib.pyplot as plt\n",
        "import math\n",
        "import pandas as pd"
      ],
      "metadata": {
        "id": "MgWtmPZHjuNC"
      },
      "execution_count": 112,
      "outputs": []
    },
    {
      "cell_type": "markdown",
      "source": [
        "**Loading Data**"
      ],
      "metadata": {
        "id": "I42ANkDljuac"
      }
    },
    {
      "cell_type": "code",
      "source": [
        "housing_data = pd.ExcelFile(\"/content/drive/MyDrive/Asssignment4_Data.xlsx\")\n",
        "train_df = pd.read_excel(housing_data, 'Train', index_col = 'House ID')\n",
        "test_df = pd.read_excel(housing_data, 'Test', index_col = 'House ID')"
      ],
      "metadata": {
        "id": "Gxw11RbDjwdO"
      },
      "execution_count": 113,
      "outputs": []
    },
    {
      "cell_type": "markdown",
      "source": [
        "**Training and Test Data Generation**"
      ],
      "metadata": {
        "id": "d-M7i1ANkHtV"
      }
    },
    {
      "cell_type": "code",
      "source": [
        "train_df['Construction type'] = train_df['Construction type'].map({'Apartment':0,'Condo':1,'House':2}) \n",
        "test_df['Construction type']  = test_df['Construction type'].map({'Apartment':0,'Condo':1,'House':2})"
      ],
      "metadata": {
        "id": "Db8P1BLHkIhJ"
      },
      "execution_count": 114,
      "outputs": []
    },
    {
      "cell_type": "code",
      "source": [
        "train_df"
      ],
      "metadata": {
        "colab": {
          "base_uri": "https://localhost:8080/",
          "height": 537
        },
        "id": "PMRjVLjUkoaL",
        "outputId": "cf535148-f095-4a3f-85be-5d63bc66e535"
      },
      "execution_count": 115,
      "outputs": [
        {
          "output_type": "execute_result",
          "data": {
            "text/plain": [
              "          Local Price  Bathrooms  Land Area  Living area  # Garages  # Rooms  \\\n",
              "House ID                                                                       \n",
              "1              4.9176        1.0     3.4720        0.998        1.0        7   \n",
              "2              5.0208        1.0     3.5310        1.500        2.0        7   \n",
              "3              4.5429        1.0     2.2750        1.175        1.0        6   \n",
              "4              4.5573        1.0     4.0500        1.232        1.0        6   \n",
              "5              5.0597        1.0     4.4550        1.121        1.0        6   \n",
              "6              3.8910        1.0     4.4550        0.988        1.0        6   \n",
              "7              5.8980        1.0     5.8500        1.240        1.0        7   \n",
              "8              5.6039        1.0     9.5200        1.501        0.0        6   \n",
              "9             16.4202        2.5     9.8000        3.420        2.0       10   \n",
              "10            14.4598        2.5    12.8000        3.000        2.0        9   \n",
              "11             5.8282        1.0     6.4350        1.225        2.0        6   \n",
              "12             5.3003        1.0     4.9883        1.552        1.0        6   \n",
              "13             6.2712        1.0     5.5200        0.975        1.0        5   \n",
              "14             5.9592        1.0     6.6660        1.121        2.0        6   \n",
              "15             5.0500        1.0     5.0000        1.020        0.0        5   \n",
              "16             5.6039        1.0     9.5200        1.501        0.0        6   \n",
              "17             8.2464        1.5     5.1500        1.664        2.0        8   \n",
              "18             6.6969        1.5     6.9020        1.488        1.5        7   \n",
              "19             7.7841        1.5     7.1020        1.376        1.0        6   \n",
              "20             9.0384        1.0     7.8000        1.500        1.5        7   \n",
              "\n",
              "          # Bedrooms  Age of home  Construction type  \n",
              "House ID                                              \n",
              "1                  4           42                  0  \n",
              "2                  4           62                  2  \n",
              "3                  3           40                  1  \n",
              "4                  3           54                  0  \n",
              "5                  3           42                  0  \n",
              "6                  3           56                  1  \n",
              "7                  3           51                  1  \n",
              "8                  3           32                  2  \n",
              "9                  5           42                  1  \n",
              "10                 5           14                  0  \n",
              "11                 3           32                  2  \n",
              "12                 3           30                  2  \n",
              "13                 2           30                  2  \n",
              "14                 3           32                  1  \n",
              "15                 2           46                  0  \n",
              "16                 3           32                  2  \n",
              "17                 4           50                  0  \n",
              "18                 3           22                  2  \n",
              "19                 3           17                  1  \n",
              "20                 3           23                  0  "
            ],
            "text/html": [
              "\n",
              "  <div id=\"df-4df55449-da8e-4f32-917c-9d69cfeadfcb\">\n",
              "    <div class=\"colab-df-container\">\n",
              "      <div>\n",
              "<style scoped>\n",
              "    .dataframe tbody tr th:only-of-type {\n",
              "        vertical-align: middle;\n",
              "    }\n",
              "\n",
              "    .dataframe tbody tr th {\n",
              "        vertical-align: top;\n",
              "    }\n",
              "\n",
              "    .dataframe thead th {\n",
              "        text-align: right;\n",
              "    }\n",
              "</style>\n",
              "<table border=\"1\" class=\"dataframe\">\n",
              "  <thead>\n",
              "    <tr style=\"text-align: right;\">\n",
              "      <th></th>\n",
              "      <th>Local Price</th>\n",
              "      <th>Bathrooms</th>\n",
              "      <th>Land Area</th>\n",
              "      <th>Living area</th>\n",
              "      <th># Garages</th>\n",
              "      <th># Rooms</th>\n",
              "      <th># Bedrooms</th>\n",
              "      <th>Age of home</th>\n",
              "      <th>Construction type</th>\n",
              "    </tr>\n",
              "    <tr>\n",
              "      <th>House ID</th>\n",
              "      <th></th>\n",
              "      <th></th>\n",
              "      <th></th>\n",
              "      <th></th>\n",
              "      <th></th>\n",
              "      <th></th>\n",
              "      <th></th>\n",
              "      <th></th>\n",
              "      <th></th>\n",
              "    </tr>\n",
              "  </thead>\n",
              "  <tbody>\n",
              "    <tr>\n",
              "      <th>1</th>\n",
              "      <td>4.9176</td>\n",
              "      <td>1.0</td>\n",
              "      <td>3.4720</td>\n",
              "      <td>0.998</td>\n",
              "      <td>1.0</td>\n",
              "      <td>7</td>\n",
              "      <td>4</td>\n",
              "      <td>42</td>\n",
              "      <td>0</td>\n",
              "    </tr>\n",
              "    <tr>\n",
              "      <th>2</th>\n",
              "      <td>5.0208</td>\n",
              "      <td>1.0</td>\n",
              "      <td>3.5310</td>\n",
              "      <td>1.500</td>\n",
              "      <td>2.0</td>\n",
              "      <td>7</td>\n",
              "      <td>4</td>\n",
              "      <td>62</td>\n",
              "      <td>2</td>\n",
              "    </tr>\n",
              "    <tr>\n",
              "      <th>3</th>\n",
              "      <td>4.5429</td>\n",
              "      <td>1.0</td>\n",
              "      <td>2.2750</td>\n",
              "      <td>1.175</td>\n",
              "      <td>1.0</td>\n",
              "      <td>6</td>\n",
              "      <td>3</td>\n",
              "      <td>40</td>\n",
              "      <td>1</td>\n",
              "    </tr>\n",
              "    <tr>\n",
              "      <th>4</th>\n",
              "      <td>4.5573</td>\n",
              "      <td>1.0</td>\n",
              "      <td>4.0500</td>\n",
              "      <td>1.232</td>\n",
              "      <td>1.0</td>\n",
              "      <td>6</td>\n",
              "      <td>3</td>\n",
              "      <td>54</td>\n",
              "      <td>0</td>\n",
              "    </tr>\n",
              "    <tr>\n",
              "      <th>5</th>\n",
              "      <td>5.0597</td>\n",
              "      <td>1.0</td>\n",
              "      <td>4.4550</td>\n",
              "      <td>1.121</td>\n",
              "      <td>1.0</td>\n",
              "      <td>6</td>\n",
              "      <td>3</td>\n",
              "      <td>42</td>\n",
              "      <td>0</td>\n",
              "    </tr>\n",
              "    <tr>\n",
              "      <th>6</th>\n",
              "      <td>3.8910</td>\n",
              "      <td>1.0</td>\n",
              "      <td>4.4550</td>\n",
              "      <td>0.988</td>\n",
              "      <td>1.0</td>\n",
              "      <td>6</td>\n",
              "      <td>3</td>\n",
              "      <td>56</td>\n",
              "      <td>1</td>\n",
              "    </tr>\n",
              "    <tr>\n",
              "      <th>7</th>\n",
              "      <td>5.8980</td>\n",
              "      <td>1.0</td>\n",
              "      <td>5.8500</td>\n",
              "      <td>1.240</td>\n",
              "      <td>1.0</td>\n",
              "      <td>7</td>\n",
              "      <td>3</td>\n",
              "      <td>51</td>\n",
              "      <td>1</td>\n",
              "    </tr>\n",
              "    <tr>\n",
              "      <th>8</th>\n",
              "      <td>5.6039</td>\n",
              "      <td>1.0</td>\n",
              "      <td>9.5200</td>\n",
              "      <td>1.501</td>\n",
              "      <td>0.0</td>\n",
              "      <td>6</td>\n",
              "      <td>3</td>\n",
              "      <td>32</td>\n",
              "      <td>2</td>\n",
              "    </tr>\n",
              "    <tr>\n",
              "      <th>9</th>\n",
              "      <td>16.4202</td>\n",
              "      <td>2.5</td>\n",
              "      <td>9.8000</td>\n",
              "      <td>3.420</td>\n",
              "      <td>2.0</td>\n",
              "      <td>10</td>\n",
              "      <td>5</td>\n",
              "      <td>42</td>\n",
              "      <td>1</td>\n",
              "    </tr>\n",
              "    <tr>\n",
              "      <th>10</th>\n",
              "      <td>14.4598</td>\n",
              "      <td>2.5</td>\n",
              "      <td>12.8000</td>\n",
              "      <td>3.000</td>\n",
              "      <td>2.0</td>\n",
              "      <td>9</td>\n",
              "      <td>5</td>\n",
              "      <td>14</td>\n",
              "      <td>0</td>\n",
              "    </tr>\n",
              "    <tr>\n",
              "      <th>11</th>\n",
              "      <td>5.8282</td>\n",
              "      <td>1.0</td>\n",
              "      <td>6.4350</td>\n",
              "      <td>1.225</td>\n",
              "      <td>2.0</td>\n",
              "      <td>6</td>\n",
              "      <td>3</td>\n",
              "      <td>32</td>\n",
              "      <td>2</td>\n",
              "    </tr>\n",
              "    <tr>\n",
              "      <th>12</th>\n",
              "      <td>5.3003</td>\n",
              "      <td>1.0</td>\n",
              "      <td>4.9883</td>\n",
              "      <td>1.552</td>\n",
              "      <td>1.0</td>\n",
              "      <td>6</td>\n",
              "      <td>3</td>\n",
              "      <td>30</td>\n",
              "      <td>2</td>\n",
              "    </tr>\n",
              "    <tr>\n",
              "      <th>13</th>\n",
              "      <td>6.2712</td>\n",
              "      <td>1.0</td>\n",
              "      <td>5.5200</td>\n",
              "      <td>0.975</td>\n",
              "      <td>1.0</td>\n",
              "      <td>5</td>\n",
              "      <td>2</td>\n",
              "      <td>30</td>\n",
              "      <td>2</td>\n",
              "    </tr>\n",
              "    <tr>\n",
              "      <th>14</th>\n",
              "      <td>5.9592</td>\n",
              "      <td>1.0</td>\n",
              "      <td>6.6660</td>\n",
              "      <td>1.121</td>\n",
              "      <td>2.0</td>\n",
              "      <td>6</td>\n",
              "      <td>3</td>\n",
              "      <td>32</td>\n",
              "      <td>1</td>\n",
              "    </tr>\n",
              "    <tr>\n",
              "      <th>15</th>\n",
              "      <td>5.0500</td>\n",
              "      <td>1.0</td>\n",
              "      <td>5.0000</td>\n",
              "      <td>1.020</td>\n",
              "      <td>0.0</td>\n",
              "      <td>5</td>\n",
              "      <td>2</td>\n",
              "      <td>46</td>\n",
              "      <td>0</td>\n",
              "    </tr>\n",
              "    <tr>\n",
              "      <th>16</th>\n",
              "      <td>5.6039</td>\n",
              "      <td>1.0</td>\n",
              "      <td>9.5200</td>\n",
              "      <td>1.501</td>\n",
              "      <td>0.0</td>\n",
              "      <td>6</td>\n",
              "      <td>3</td>\n",
              "      <td>32</td>\n",
              "      <td>2</td>\n",
              "    </tr>\n",
              "    <tr>\n",
              "      <th>17</th>\n",
              "      <td>8.2464</td>\n",
              "      <td>1.5</td>\n",
              "      <td>5.1500</td>\n",
              "      <td>1.664</td>\n",
              "      <td>2.0</td>\n",
              "      <td>8</td>\n",
              "      <td>4</td>\n",
              "      <td>50</td>\n",
              "      <td>0</td>\n",
              "    </tr>\n",
              "    <tr>\n",
              "      <th>18</th>\n",
              "      <td>6.6969</td>\n",
              "      <td>1.5</td>\n",
              "      <td>6.9020</td>\n",
              "      <td>1.488</td>\n",
              "      <td>1.5</td>\n",
              "      <td>7</td>\n",
              "      <td>3</td>\n",
              "      <td>22</td>\n",
              "      <td>2</td>\n",
              "    </tr>\n",
              "    <tr>\n",
              "      <th>19</th>\n",
              "      <td>7.7841</td>\n",
              "      <td>1.5</td>\n",
              "      <td>7.1020</td>\n",
              "      <td>1.376</td>\n",
              "      <td>1.0</td>\n",
              "      <td>6</td>\n",
              "      <td>3</td>\n",
              "      <td>17</td>\n",
              "      <td>1</td>\n",
              "    </tr>\n",
              "    <tr>\n",
              "      <th>20</th>\n",
              "      <td>9.0384</td>\n",
              "      <td>1.0</td>\n",
              "      <td>7.8000</td>\n",
              "      <td>1.500</td>\n",
              "      <td>1.5</td>\n",
              "      <td>7</td>\n",
              "      <td>3</td>\n",
              "      <td>23</td>\n",
              "      <td>0</td>\n",
              "    </tr>\n",
              "  </tbody>\n",
              "</table>\n",
              "</div>\n",
              "      <button class=\"colab-df-convert\" onclick=\"convertToInteractive('df-4df55449-da8e-4f32-917c-9d69cfeadfcb')\"\n",
              "              title=\"Convert this dataframe to an interactive table.\"\n",
              "              style=\"display:none;\">\n",
              "        \n",
              "  <svg xmlns=\"http://www.w3.org/2000/svg\" height=\"24px\"viewBox=\"0 0 24 24\"\n",
              "       width=\"24px\">\n",
              "    <path d=\"M0 0h24v24H0V0z\" fill=\"none\"/>\n",
              "    <path d=\"M18.56 5.44l.94 2.06.94-2.06 2.06-.94-2.06-.94-.94-2.06-.94 2.06-2.06.94zm-11 1L8.5 8.5l.94-2.06 2.06-.94-2.06-.94L8.5 2.5l-.94 2.06-2.06.94zm10 10l.94 2.06.94-2.06 2.06-.94-2.06-.94-.94-2.06-.94 2.06-2.06.94z\"/><path d=\"M17.41 7.96l-1.37-1.37c-.4-.4-.92-.59-1.43-.59-.52 0-1.04.2-1.43.59L10.3 9.45l-7.72 7.72c-.78.78-.78 2.05 0 2.83L4 21.41c.39.39.9.59 1.41.59.51 0 1.02-.2 1.41-.59l7.78-7.78 2.81-2.81c.8-.78.8-2.07 0-2.86zM5.41 20L4 18.59l7.72-7.72 1.47 1.35L5.41 20z\"/>\n",
              "  </svg>\n",
              "      </button>\n",
              "      \n",
              "  <style>\n",
              "    .colab-df-container {\n",
              "      display:flex;\n",
              "      flex-wrap:wrap;\n",
              "      gap: 12px;\n",
              "    }\n",
              "\n",
              "    .colab-df-convert {\n",
              "      background-color: #E8F0FE;\n",
              "      border: none;\n",
              "      border-radius: 50%;\n",
              "      cursor: pointer;\n",
              "      display: none;\n",
              "      fill: #1967D2;\n",
              "      height: 32px;\n",
              "      padding: 0 0 0 0;\n",
              "      width: 32px;\n",
              "    }\n",
              "\n",
              "    .colab-df-convert:hover {\n",
              "      background-color: #E2EBFA;\n",
              "      box-shadow: 0px 1px 2px rgba(60, 64, 67, 0.3), 0px 1px 3px 1px rgba(60, 64, 67, 0.15);\n",
              "      fill: #174EA6;\n",
              "    }\n",
              "\n",
              "    [theme=dark] .colab-df-convert {\n",
              "      background-color: #3B4455;\n",
              "      fill: #D2E3FC;\n",
              "    }\n",
              "\n",
              "    [theme=dark] .colab-df-convert:hover {\n",
              "      background-color: #434B5C;\n",
              "      box-shadow: 0px 1px 3px 1px rgba(0, 0, 0, 0.15);\n",
              "      filter: drop-shadow(0px 1px 2px rgba(0, 0, 0, 0.3));\n",
              "      fill: #FFFFFF;\n",
              "    }\n",
              "  </style>\n",
              "\n",
              "      <script>\n",
              "        const buttonEl =\n",
              "          document.querySelector('#df-4df55449-da8e-4f32-917c-9d69cfeadfcb button.colab-df-convert');\n",
              "        buttonEl.style.display =\n",
              "          google.colab.kernel.accessAllowed ? 'block' : 'none';\n",
              "\n",
              "        async function convertToInteractive(key) {\n",
              "          const element = document.querySelector('#df-4df55449-da8e-4f32-917c-9d69cfeadfcb');\n",
              "          const dataTable =\n",
              "            await google.colab.kernel.invokeFunction('convertToInteractive',\n",
              "                                                     [key], {});\n",
              "          if (!dataTable) return;\n",
              "\n",
              "          const docLinkHtml = 'Like what you see? Visit the ' +\n",
              "            '<a target=\"_blank\" href=https://colab.research.google.com/notebooks/data_table.ipynb>data table notebook</a>'\n",
              "            + ' to learn more about interactive tables.';\n",
              "          element.innerHTML = '';\n",
              "          dataTable['output_type'] = 'display_data';\n",
              "          await google.colab.output.renderOutput(dataTable, element);\n",
              "          const docLink = document.createElement('div');\n",
              "          docLink.innerHTML = docLinkHtml;\n",
              "          element.appendChild(docLink);\n",
              "        }\n",
              "      </script>\n",
              "    </div>\n",
              "  </div>\n",
              "  "
            ]
          },
          "metadata": {},
          "execution_count": 115
        }
      ]
    },
    {
      "cell_type": "code",
      "source": [
        "test_df"
      ],
      "metadata": {
        "colab": {
          "base_uri": "https://localhost:8080/",
          "height": 214
        },
        "id": "U6IWOKpHktTf",
        "outputId": "cfc8e887-5123-4ecb-f663-963fb5591e83"
      },
      "execution_count": 116,
      "outputs": [
        {
          "output_type": "execute_result",
          "data": {
            "text/plain": [
              "          Local Price  Bathrooms  Land Area  Living area  # Garages  # Rooms  \\\n",
              "House ID                                                                       \n",
              "24             6.0931        1.5     6.7265        1.652        1.0        6   \n",
              "25             8.3607        1.5     9.1500        1.777        2.0        8   \n",
              "26             8.1400        1.0     8.0000        1.504        2.0        7   \n",
              "27             9.1416        1.5     7.3262        1.831        1.5        8   \n",
              "28            12.0000        1.5     5.0000        1.200        2.0        6   \n",
              "\n",
              "          # Bedrooms  Age of home  Construction type  \n",
              "House ID                                              \n",
              "24                 3           44                  0  \n",
              "25                 4           48                  2  \n",
              "26                 3            3                  2  \n",
              "27                 4           31                  0  \n",
              "28                 3           30                  0  "
            ],
            "text/html": [
              "\n",
              "  <div id=\"df-f08c92be-9f3a-4c5d-986c-28141bd4fdc9\">\n",
              "    <div class=\"colab-df-container\">\n",
              "      <div>\n",
              "<style scoped>\n",
              "    .dataframe tbody tr th:only-of-type {\n",
              "        vertical-align: middle;\n",
              "    }\n",
              "\n",
              "    .dataframe tbody tr th {\n",
              "        vertical-align: top;\n",
              "    }\n",
              "\n",
              "    .dataframe thead th {\n",
              "        text-align: right;\n",
              "    }\n",
              "</style>\n",
              "<table border=\"1\" class=\"dataframe\">\n",
              "  <thead>\n",
              "    <tr style=\"text-align: right;\">\n",
              "      <th></th>\n",
              "      <th>Local Price</th>\n",
              "      <th>Bathrooms</th>\n",
              "      <th>Land Area</th>\n",
              "      <th>Living area</th>\n",
              "      <th># Garages</th>\n",
              "      <th># Rooms</th>\n",
              "      <th># Bedrooms</th>\n",
              "      <th>Age of home</th>\n",
              "      <th>Construction type</th>\n",
              "    </tr>\n",
              "    <tr>\n",
              "      <th>House ID</th>\n",
              "      <th></th>\n",
              "      <th></th>\n",
              "      <th></th>\n",
              "      <th></th>\n",
              "      <th></th>\n",
              "      <th></th>\n",
              "      <th></th>\n",
              "      <th></th>\n",
              "      <th></th>\n",
              "    </tr>\n",
              "  </thead>\n",
              "  <tbody>\n",
              "    <tr>\n",
              "      <th>24</th>\n",
              "      <td>6.0931</td>\n",
              "      <td>1.5</td>\n",
              "      <td>6.7265</td>\n",
              "      <td>1.652</td>\n",
              "      <td>1.0</td>\n",
              "      <td>6</td>\n",
              "      <td>3</td>\n",
              "      <td>44</td>\n",
              "      <td>0</td>\n",
              "    </tr>\n",
              "    <tr>\n",
              "      <th>25</th>\n",
              "      <td>8.3607</td>\n",
              "      <td>1.5</td>\n",
              "      <td>9.1500</td>\n",
              "      <td>1.777</td>\n",
              "      <td>2.0</td>\n",
              "      <td>8</td>\n",
              "      <td>4</td>\n",
              "      <td>48</td>\n",
              "      <td>2</td>\n",
              "    </tr>\n",
              "    <tr>\n",
              "      <th>26</th>\n",
              "      <td>8.1400</td>\n",
              "      <td>1.0</td>\n",
              "      <td>8.0000</td>\n",
              "      <td>1.504</td>\n",
              "      <td>2.0</td>\n",
              "      <td>7</td>\n",
              "      <td>3</td>\n",
              "      <td>3</td>\n",
              "      <td>2</td>\n",
              "    </tr>\n",
              "    <tr>\n",
              "      <th>27</th>\n",
              "      <td>9.1416</td>\n",
              "      <td>1.5</td>\n",
              "      <td>7.3262</td>\n",
              "      <td>1.831</td>\n",
              "      <td>1.5</td>\n",
              "      <td>8</td>\n",
              "      <td>4</td>\n",
              "      <td>31</td>\n",
              "      <td>0</td>\n",
              "    </tr>\n",
              "    <tr>\n",
              "      <th>28</th>\n",
              "      <td>12.0000</td>\n",
              "      <td>1.5</td>\n",
              "      <td>5.0000</td>\n",
              "      <td>1.200</td>\n",
              "      <td>2.0</td>\n",
              "      <td>6</td>\n",
              "      <td>3</td>\n",
              "      <td>30</td>\n",
              "      <td>0</td>\n",
              "    </tr>\n",
              "  </tbody>\n",
              "</table>\n",
              "</div>\n",
              "      <button class=\"colab-df-convert\" onclick=\"convertToInteractive('df-f08c92be-9f3a-4c5d-986c-28141bd4fdc9')\"\n",
              "              title=\"Convert this dataframe to an interactive table.\"\n",
              "              style=\"display:none;\">\n",
              "        \n",
              "  <svg xmlns=\"http://www.w3.org/2000/svg\" height=\"24px\"viewBox=\"0 0 24 24\"\n",
              "       width=\"24px\">\n",
              "    <path d=\"M0 0h24v24H0V0z\" fill=\"none\"/>\n",
              "    <path d=\"M18.56 5.44l.94 2.06.94-2.06 2.06-.94-2.06-.94-.94-2.06-.94 2.06-2.06.94zm-11 1L8.5 8.5l.94-2.06 2.06-.94-2.06-.94L8.5 2.5l-.94 2.06-2.06.94zm10 10l.94 2.06.94-2.06 2.06-.94-2.06-.94-.94-2.06-.94 2.06-2.06.94z\"/><path d=\"M17.41 7.96l-1.37-1.37c-.4-.4-.92-.59-1.43-.59-.52 0-1.04.2-1.43.59L10.3 9.45l-7.72 7.72c-.78.78-.78 2.05 0 2.83L4 21.41c.39.39.9.59 1.41.59.51 0 1.02-.2 1.41-.59l7.78-7.78 2.81-2.81c.8-.78.8-2.07 0-2.86zM5.41 20L4 18.59l7.72-7.72 1.47 1.35L5.41 20z\"/>\n",
              "  </svg>\n",
              "      </button>\n",
              "      \n",
              "  <style>\n",
              "    .colab-df-container {\n",
              "      display:flex;\n",
              "      flex-wrap:wrap;\n",
              "      gap: 12px;\n",
              "    }\n",
              "\n",
              "    .colab-df-convert {\n",
              "      background-color: #E8F0FE;\n",
              "      border: none;\n",
              "      border-radius: 50%;\n",
              "      cursor: pointer;\n",
              "      display: none;\n",
              "      fill: #1967D2;\n",
              "      height: 32px;\n",
              "      padding: 0 0 0 0;\n",
              "      width: 32px;\n",
              "    }\n",
              "\n",
              "    .colab-df-convert:hover {\n",
              "      background-color: #E2EBFA;\n",
              "      box-shadow: 0px 1px 2px rgba(60, 64, 67, 0.3), 0px 1px 3px 1px rgba(60, 64, 67, 0.15);\n",
              "      fill: #174EA6;\n",
              "    }\n",
              "\n",
              "    [theme=dark] .colab-df-convert {\n",
              "      background-color: #3B4455;\n",
              "      fill: #D2E3FC;\n",
              "    }\n",
              "\n",
              "    [theme=dark] .colab-df-convert:hover {\n",
              "      background-color: #434B5C;\n",
              "      box-shadow: 0px 1px 3px 1px rgba(0, 0, 0, 0.15);\n",
              "      filter: drop-shadow(0px 1px 2px rgba(0, 0, 0, 0.3));\n",
              "      fill: #FFFFFF;\n",
              "    }\n",
              "  </style>\n",
              "\n",
              "      <script>\n",
              "        const buttonEl =\n",
              "          document.querySelector('#df-f08c92be-9f3a-4c5d-986c-28141bd4fdc9 button.colab-df-convert');\n",
              "        buttonEl.style.display =\n",
              "          google.colab.kernel.accessAllowed ? 'block' : 'none';\n",
              "\n",
              "        async function convertToInteractive(key) {\n",
              "          const element = document.querySelector('#df-f08c92be-9f3a-4c5d-986c-28141bd4fdc9');\n",
              "          const dataTable =\n",
              "            await google.colab.kernel.invokeFunction('convertToInteractive',\n",
              "                                                     [key], {});\n",
              "          if (!dataTable) return;\n",
              "\n",
              "          const docLinkHtml = 'Like what you see? Visit the ' +\n",
              "            '<a target=\"_blank\" href=https://colab.research.google.com/notebooks/data_table.ipynb>data table notebook</a>'\n",
              "            + ' to learn more about interactive tables.';\n",
              "          element.innerHTML = '';\n",
              "          dataTable['output_type'] = 'display_data';\n",
              "          await google.colab.output.renderOutput(dataTable, element);\n",
              "          const docLink = document.createElement('div');\n",
              "          docLink.innerHTML = docLinkHtml;\n",
              "          element.appendChild(docLink);\n",
              "        }\n",
              "      </script>\n",
              "    </div>\n",
              "  </div>\n",
              "  "
            ]
          },
          "metadata": {},
          "execution_count": 116
        }
      ]
    },
    {
      "cell_type": "code",
      "source": [
        "x_train = train_df.drop('Construction type', axis=1).to_numpy()\n",
        "y_train = train_df['Construction type']\n",
        "x_test = test_df.drop('Construction type', axis=1).to_numpy()\n",
        "y_test = test_df['Construction type']"
      ],
      "metadata": {
        "id": "lLaFrx-fkgEH"
      },
      "execution_count": 117,
      "outputs": []
    },
    {
      "cell_type": "markdown",
      "source": [
        "**Euclidian distance between test point and train point**"
      ],
      "metadata": {
        "id": "z0Nx5yJqlfpm"
      }
    },
    {
      "cell_type": "code",
      "source": [
        "def Euclidean_distance(x, y):\n",
        "    dimension = len(x)      # Store the number of dimensions\n",
        "    distance  = 0      # Set initial distance to 0\n",
        "    for i in range(dimension):\n",
        "        distance += pow((x[i] - y[i]), 2)\n",
        "    return math.sqrt(distance)"
      ],
      "metadata": {
        "id": "eCSJwiI2lATj"
      },
      "execution_count": 118,
      "outputs": []
    },
    {
      "cell_type": "markdown",
      "source": [
        "**Input the number of neighbors, k**"
      ],
      "metadata": {
        "id": "-n0gWrLOp7kJ"
      }
    },
    {
      "cell_type": "code",
      "source": [
        "k = int(input (\"Please enter from 1 to 5: \"))"
      ],
      "metadata": {
        "colab": {
          "base_uri": "https://localhost:8080/"
        },
        "id": "nrvzT1Gdm76M",
        "outputId": "caeae585-4e9c-49db-fbdb-b902ddd68368"
      },
      "execution_count": 119,
      "outputs": [
        {
          "name": "stdout",
          "output_type": "stream",
          "text": [
            "Please enter from 1 to 5: 5\n"
          ]
        }
      ]
    },
    {
      "cell_type": "markdown",
      "source": [
        "**Implement the k-nearest neighbor algorithm to perform classification**"
      ],
      "metadata": {
        "id": "FnGRrJsxqb9z"
      }
    },
    {
      "cell_type": "code",
      "source": [
        "# Collections library to count the votes\n",
        "from collections import Counter"
      ],
      "metadata": {
        "id": "Tmfy22ACqhQf"
      },
      "execution_count": 120,
      "outputs": []
    },
    {
      "cell_type": "code",
      "source": [
        "# The Euclidean distance between each test point and all train point\n",
        "predict_test = []\n",
        "for np_test in x_test:\n",
        "    distances = []\n",
        "    for np_train in x_train:\n",
        "        distance = Euclidean_distance(np_test, np_train)\n",
        "        distances.append(distance)\n",
        "    \n",
        "    # Store distances in a dataframe column\n",
        "    df_distance = pd.DataFrame(data = distances, columns = ['distance'], index = y_train.index)\n",
        "\n",
        "    # Sort distances, and only consider the k closest points\n",
        "    df_sort_k = df_distance.sort_values(by = ['distance'], axis = 0)[:k]\n",
        "\n",
        "    # Create counter object to count the votes\n",
        "    counter = Counter(y_train[df_sort_k.index])\n",
        "\n",
        "    # Select the most common label of all the nearest neighbors as the predicted output/class\n",
        "    predicts = counter.most_common()[0][0]\n",
        "    \n",
        "    predict_test.append(predicts)\n",
        "\n",
        "print('Predicted class for test data = ', predict_test)\n",
        "accuracy = (predicts/5)*100\n",
        "print('Accuracy = ', accuracy)"
      ],
      "metadata": {
        "colab": {
          "base_uri": "https://localhost:8080/"
        },
        "id": "A4rj2vK9lHS4",
        "outputId": "2e44c4b9-1e5d-4864-c381-a23c00b24c73"
      },
      "execution_count": 121,
      "outputs": [
        {
          "output_type": "stream",
          "name": "stdout",
          "text": [
            "Predicted class for test data =  [0, 0, 0, 2, 2]\n",
            "Accuracy =  40.0\n"
          ]
        }
      ]
    },
    {
      "cell_type": "markdown",
      "source": [
        "**Compute the accuracy**"
      ],
      "metadata": {
        "id": "RXIujqXBv3yj"
      }
    },
    {
      "cell_type": "code",
      "source": [
        "y=[20,20,20,20,20,40,40,40,40,40]\n",
        "x=[1,2,3,4,5,6,7,8,9,10]"
      ],
      "metadata": {
        "id": "HWZXlsDIlJkE"
      },
      "execution_count": 122,
      "outputs": []
    },
    {
      "cell_type": "code",
      "source": [
        "plt.plot(x, y, color = 'red')\n",
        "plt.xlabel(\"Number of Neighbors (k)\")\n",
        "plt.ylabel(\"Accuracy (%)\")\n",
        "plt.title (\"Number of Neighbors vs Accuracy for kNN\")"
      ],
      "metadata": {
        "colab": {
          "base_uri": "https://localhost:8080/",
          "height": 312
        },
        "id": "22vEpCRVlL8y",
        "outputId": "426e5486-d070-4eed-af18-29a0575f49ce"
      },
      "execution_count": 123,
      "outputs": [
        {
          "output_type": "execute_result",
          "data": {
            "text/plain": [
              "Text(0.5, 1.0, 'Number of Neighbors vs Accuracy for kNN')"
            ]
          },
          "metadata": {},
          "execution_count": 123
        },
        {
          "output_type": "display_data",
          "data": {
            "text/plain": [
              "<Figure size 432x288 with 1 Axes>"
            ],
            "image/png": "[encoded data removed]"
          },
          "metadata": {
            "needs_background": "light"
          }
        }
      ]
    },
    {
      "cell_type": "markdown",
      "source": [
        "#####If we vary the number of neighbors from 1 to 10, we can see from the plot that the accuracy is very low and does not vary much for different K value. Because the training data is very small.\n",
        "#####For k values, from 1 to 5, the accuracy is constant at 20% and from 6 to 10, the accuracy is constant at 40%.\n",
        "#####Therefore, we can say that as the number of k increases, accuracy will increase or stay constant."
      ],
      "metadata": {
        "id": "xhnp3L5347pI"
      }
    }
  ]
}