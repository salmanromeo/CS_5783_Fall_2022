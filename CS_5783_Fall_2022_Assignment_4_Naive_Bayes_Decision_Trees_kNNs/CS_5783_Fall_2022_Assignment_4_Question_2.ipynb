{
  "nbformat": 4,
  "nbformat_minor": 0,
  "metadata": {
    "colab": {
      "provenance": [],
      "authorship_tag": "ABX9TyNsOecyXRoMpDpDgWPjJA8i",
      "include_colab_link": true
    },
    "kernelspec": {
      "name": "python3",
      "display_name": "Python 3"
    },
    "language_info": {
      "name": "python"
    }
  },
  "cells": [
    {
      "cell_type": "markdown",
      "metadata": {
        "id": "view-in-github",
        "colab_type": "text"
      },
      "source": [
        "<a href=\"https://colab.research.google.com/github/salmanromeo/CS_5783_Machine_Learning_Fall_2022/blob/main/CS_5783_Fall_2022_Assignment_4_Naive_Bayes_Decision_Trees_kNNs/CS_5783_Fall_2022_Assignment_4_Question_2.ipynb\" target=\"_parent\"><img src=\"https://colab.research.google.com/assets/colab-badge.svg\" alt=\"Open In Colab\"/></a>"
      ]
    },
    {
      "cell_type": "markdown",
      "source": [
        "**Question 2**"
      ],
      "metadata": {
        "id": "y4IWN8bFMVOe"
      }
    },
    {
      "cell_type": "markdown",
      "source": [
        "#####Using the same housing data (Asssignment4_Data.xlsx), construct a decision tree classifier. You can use the implementation available on Sci-Kit Learn. Perform the following experiments and briefly (2-4 sentences) answer the questions.\n",
        "1.   Use the default parameters.\n",
        "> a. What is the accuracy on the training set?\n",
        "> b. What is the accuracy on the test set?\n",
        "2.   What is the effect of restricting the maximum depth of the tree? Try different depths and find the best value.\n",
        "1.   Why does restricting the depth have such a strong effect on the classifier performance?\n",
        "2.   Visualize the resulting tree. Perform the inference on this tree manually (i.e. show/trace the path taken towards classification) and provide a classification for the following example:"
      ],
      "metadata": {
        "id": "59a7LHQXMbZ4"
      }
    },
    {
      "cell_type": "code",
      "source": [
        "from tabulate import tabulate"
      ],
      "metadata": {
        "id": "5GY-TcuZOv2a"
      },
      "execution_count": 70,
      "outputs": []
    },
    {
      "cell_type": "code",
      "execution_count": 71,
      "metadata": {
        "colab": {
          "base_uri": "https://localhost:8080/"
        },
        "id": "3cygm7N1MAO3",
        "outputId": "aafe231f-b892-4949-a5e3-86b58188d7a5"
      },
      "outputs": [
        {
          "output_type": "stream",
          "name": "stdout",
          "text": [
            "+-------------+--------+\n",
            "| Local Price | 9.0384 |\n",
            "+-------------+--------+\n",
            "| Bathrooms   |   1    |\n",
            "+-------------+--------+\n",
            "| Land Area   |  7.8   |\n",
            "+-------------+--------+\n",
            "| Living Area |  1.5   |\n",
            "+-------------+--------+\n",
            "| Garages     |  1.5   |\n",
            "+-------------+--------+\n",
            "| Rooms       |   7    |\n",
            "+-------------+--------+\n",
            "| Bedrooms    |   3    |\n",
            "+-------------+--------+\n",
            "| Age of Home |   23   |\n",
            "+-------------+--------+\n"
          ]
        }
      ],
      "source": [
        "mydata = [[\"Local Price\", 9.0384], [\"Bathrooms\", 1], [\"Land Area\", 7.8], [\"Living Area\", 1.5], [\"Garages\", 1.5], [\"Rooms\", 7], [\"Bedrooms\", 3], [\"Age of Home\", 23]]\n",
        "\n",
        "# Create table\n",
        "print(tabulate(mydata, tablefmt=\"grid\", numalign=\"center\"))"
      ]
    },
    {
      "cell_type": "markdown",
      "source": [
        "**Answer 2**"
      ],
      "metadata": {
        "id": "NXaDPahXQdX-"
      }
    },
    {
      "cell_type": "markdown",
      "source": [
        "**Libraries**"
      ],
      "metadata": {
        "id": "CvcbElKIQktt"
      }
    },
    {
      "cell_type": "code",
      "source": [
        "import pandas as pd\n",
        "from sklearn.metrics import accuracy_score\n",
        "from sklearn import tree"
      ],
      "metadata": {
        "id": "MubVWzAqO9tp"
      },
      "execution_count": 104,
      "outputs": []
    },
    {
      "cell_type": "markdown",
      "source": [
        "**Loading Data**"
      ],
      "metadata": {
        "id": "1TOACYEhSnsN"
      }
    },
    {
      "cell_type": "code",
      "source": [
        "housing_data = pd.ExcelFile(\"/content/drive/MyDrive/Asssignment4_Data.xlsx\")\n",
        "train_df = pd.read_excel(housing_data, 'Train', index_col = 'House ID')\n",
        "test_df = pd.read_excel(housing_data, 'Test', index_col = 'House ID')"
      ],
      "metadata": {
        "id": "XoyPdsEWQwto"
      },
      "execution_count": 105,
      "outputs": []
    },
    {
      "cell_type": "markdown",
      "source": [
        "**Training and Test Data Generation**"
      ],
      "metadata": {
        "id": "MQkjJk_bS5f3"
      }
    },
    {
      "cell_type": "code",
      "source": [
        "train_df['Class'] = train_df['Construction type'].map({'Apartment':0,'Condo':1,'House':2}) \n",
        "test_df['Class']  = test_df['Construction type'].map({'Apartment':0,'Condo':1,'House':2})\n",
        "\n",
        "# The first 8 columns are feature and the class column is the target value\n",
        "x_train = train_df.iloc[:,:8] \n",
        "y_train = train_df['Class']\n",
        "\n",
        "x_test = test_df.iloc[:,:8]\n",
        "y_test = test_df['Class']"
      ],
      "metadata": {
        "id": "lHNj89z5S1AR"
      },
      "execution_count": 106,
      "outputs": []
    },
    {
      "cell_type": "markdown",
      "source": [
        "**Training the decision tree using default parameter**"
      ],
      "metadata": {
        "id": "UNIzx4UXTx5d"
      }
    },
    {
      "cell_type": "code",
      "source": [
        "model = tree.DecisionTreeClassifier() \n",
        "model.fit(x_train, y_train)"
      ],
      "metadata": {
        "colab": {
          "base_uri": "https://localhost:8080/"
        },
        "id": "Krb9HcnzTwFi",
        "outputId": "83cbfba2-735c-4348-cfba-62d1ad0bf514"
      },
      "execution_count": 107,
      "outputs": [
        {
          "output_type": "execute_result",
          "data": {
            "text/plain": [
              "DecisionTreeClassifier()"
            ]
          },
          "metadata": {},
          "execution_count": 107
        }
      ]
    },
    {
      "cell_type": "markdown",
      "source": [
        "**2.1a  The accuracy on the training set**"
      ],
      "metadata": {
        "id": "0ygTcpv7UHrO"
      }
    },
    {
      "cell_type": "code",
      "source": [
        "y_train_predict = model.predict(x_train)\n",
        "accuracy_score(y_train, y_train_predict)*100"
      ],
      "metadata": {
        "colab": {
          "base_uri": "https://localhost:8080/"
        },
        "id": "mCbzr4TNUaB3",
        "outputId": "7f8fdfd7-6eaa-470e-ffc5-8b564aa14ab8"
      },
      "execution_count": 108,
      "outputs": [
        {
          "output_type": "execute_result",
          "data": {
            "text/plain": [
              "100.0"
            ]
          },
          "metadata": {},
          "execution_count": 108
        }
      ]
    },
    {
      "cell_type": "markdown",
      "source": [
        "Accuracy on training data is 100%."
      ],
      "metadata": {
        "id": "OCVsUJQkUv7O"
      }
    },
    {
      "cell_type": "markdown",
      "source": [
        "**2.1b The accuracy on the test set**"
      ],
      "metadata": {
        "id": "w68UxF-YUTrX"
      }
    },
    {
      "cell_type": "code",
      "source": [
        "y_test_predict=model.predict(x_test)\n",
        "accuracy_score(y_test, y_test_predict)*100"
      ],
      "metadata": {
        "colab": {
          "base_uri": "https://localhost:8080/"
        },
        "id": "pId5QCPIU2HH",
        "outputId": "b1f5efed-7096-4f34-820e-042518ee4884"
      },
      "execution_count": 109,
      "outputs": [
        {
          "output_type": "execute_result",
          "data": {
            "text/plain": [
              "40.0"
            ]
          },
          "metadata": {},
          "execution_count": 109
        }
      ]
    },
    {
      "cell_type": "markdown",
      "source": [
        "Accuracy on test data is 40%."
      ],
      "metadata": {
        "id": "HOyFBTttVA2g"
      }
    },
    {
      "cell_type": "markdown",
      "source": [
        "**2.2 & 2.3 The effect of restricting the maximum depth of the tree on the classifier performance**"
      ],
      "metadata": {
        "id": "mq83mWYsVGNk"
      }
    },
    {
      "cell_type": "code",
      "source": [
        "for i in range(1,11):\n",
        "    model = tree.DecisionTreeClassifier(criterion=\"entropy\", max_depth=i)\n",
        "    model.fit(x_train, y_train)\n",
        "    y_train_predict = model.predict(x_train)\n",
        "    train_acc = accuracy_score(y_train, y_train_predict)*100\n",
        "    print('Accuracy for Train data: '+str(train_acc)+' for depth '+str(i))\n",
        "    y_test_predict = model.predict(x_test)\n",
        "    test_acc = accuracy_score(y_test, y_test_predict)*100\n",
        "    print('Accuracy for Test data: '+str(test_acc)+' for depth '+str(i))"
      ],
      "metadata": {
        "colab": {
          "base_uri": "https://localhost:8080/"
        },
        "id": "czPtHIG6VvJa",
        "outputId": "7b625620-db1d-42c2-be07-8dd69776c45a"
      },
      "execution_count": 111,
      "outputs": [
        {
          "output_type": "stream",
          "name": "stdout",
          "text": [
            "Accuracy for Train data: 55.00000000000001 for depth 1\n",
            "Accuracy for Test data: 40.0 for depth 1\n",
            "Accuracy for Train data: 70.0 for depth 2\n",
            "Accuracy for Test data: 80.0 for depth 2\n",
            "Accuracy for Train data: 80.0 for depth 3\n",
            "Accuracy for Test data: 60.0 for depth 3\n",
            "Accuracy for Train data: 100.0 for depth 4\n",
            "Accuracy for Test data: 60.0 for depth 4\n",
            "Accuracy for Train data: 100.0 for depth 5\n",
            "Accuracy for Test data: 60.0 for depth 5\n",
            "Accuracy for Train data: 100.0 for depth 6\n",
            "Accuracy for Test data: 60.0 for depth 6\n",
            "Accuracy for Train data: 100.0 for depth 7\n",
            "Accuracy for Test data: 60.0 for depth 7\n",
            "Accuracy for Train data: 100.0 for depth 8\n",
            "Accuracy for Test data: 60.0 for depth 8\n",
            "Accuracy for Train data: 100.0 for depth 9\n",
            "Accuracy for Test data: 60.0 for depth 9\n",
            "Accuracy for Train data: 100.0 for depth 10\n",
            "Accuracy for Test data: 60.0 for depth 10\n"
          ]
        }
      ]
    },
    {
      "cell_type": "markdown",
      "source": [
        "From the above result, we can say that the classifier achieves the highest accuracy for test data (80%) for maximum depth 2. The accuracy is minimum for depth 1. With the increament of the depth after 2, the accuracy decreases for the test data. The reason behind this is when we increase the depth of tree the tree overfit with training data, as a result, can not generalize the data. Therefore, it is necessary to restrict the depth. For this reason restricting the depth has such strong effect on classifier performance."
      ],
      "metadata": {
        "id": "d1CzK1oLZAWs"
      }
    },
    {
      "cell_type": "markdown",
      "source": [
        "**2.4 Visualize the resulting tree**"
      ],
      "metadata": {
        "id": "BVUvbfzYYO5M"
      }
    },
    {
      "cell_type": "code",
      "source": [
        "import matplotlib.pyplot as plt\n",
        "plt.figure(figsize=(8,8))\n",
        "tree.plot_tree(model,filled=True)"
      ],
      "metadata": {
        "colab": {
          "base_uri": "https://localhost:8080/",
          "height": 761
        },
        "id": "FznpauanY1jV",
        "outputId": "5045f23c-941c-47ba-e6c4-c1a445c2850f"
      },
      "execution_count": 112,
      "outputs": [
        {
          "output_type": "execute_result",
          "data": {
            "text/plain": [
              "[Text(0.5555555555555556, 0.9166666666666666, 'X[7] <= 36.0\\nentropy = 1.581\\nsamples = 20\\nvalue = [7, 6, 7]'),\n",
              " Text(0.3333333333333333, 0.75, 'X[0] <= 8.411\\nentropy = 1.371\\nsamples = 10\\nvalue = [2, 2, 6]'),\n",
              " Text(0.2222222222222222, 0.5833333333333334, 'X[0] <= 5.894\\nentropy = 0.811\\nsamples = 8\\nvalue = [0, 2, 6]'),\n",
              " Text(0.1111111111111111, 0.4166666666666667, 'entropy = 0.0\\nsamples = 4\\nvalue = [0, 0, 4]'),\n",
              " Text(0.3333333333333333, 0.4166666666666667, 'X[6] <= 2.5\\nentropy = 1.0\\nsamples = 4\\nvalue = [0, 2, 2]'),\n",
              " Text(0.2222222222222222, 0.25, 'entropy = 0.0\\nsamples = 1\\nvalue = [0, 0, 1]'),\n",
              " Text(0.4444444444444444, 0.25, 'X[3] <= 1.432\\nentropy = 0.918\\nsamples = 3\\nvalue = [0, 2, 1]'),\n",
              " Text(0.3333333333333333, 0.08333333333333333, 'entropy = 0.0\\nsamples = 2\\nvalue = [0, 2, 0]'),\n",
              " Text(0.5555555555555556, 0.08333333333333333, 'entropy = 0.0\\nsamples = 1\\nvalue = [0, 0, 1]'),\n",
              " Text(0.4444444444444444, 0.5833333333333334, 'entropy = 0.0\\nsamples = 2\\nvalue = [2, 0, 0]'),\n",
              " Text(0.7777777777777778, 0.75, 'X[7] <= 59.0\\nentropy = 1.361\\nsamples = 10\\nvalue = [5, 4, 1]'),\n",
              " Text(0.6666666666666666, 0.5833333333333334, 'X[0] <= 4.55\\nentropy = 0.991\\nsamples = 9\\nvalue = [5, 4, 0]'),\n",
              " Text(0.5555555555555556, 0.4166666666666667, 'entropy = 0.0\\nsamples = 2\\nvalue = [0, 2, 0]'),\n",
              " Text(0.7777777777777778, 0.4166666666666667, 'X[2] <= 5.5\\nentropy = 0.863\\nsamples = 7\\nvalue = [5, 2, 0]'),\n",
              " Text(0.6666666666666666, 0.25, 'entropy = 0.0\\nsamples = 5\\nvalue = [5, 0, 0]'),\n",
              " Text(0.8888888888888888, 0.25, 'entropy = 0.0\\nsamples = 2\\nvalue = [0, 2, 0]'),\n",
              " Text(0.8888888888888888, 0.5833333333333334, 'entropy = 0.0\\nsamples = 1\\nvalue = [0, 0, 1]')]"
            ]
          },
          "metadata": {},
          "execution_count": 112
        },
        {
          "output_type": "display_data",
          "data": {
            "text/plain": [
              "<Figure size 576x576 with 1 Axes>"
            ],
            "image/png": "[encoded data removed]"
          },
          "metadata": {
            "needs_background": "light"
          }
        }
      ]
    },
    {
      "cell_type": "markdown",
      "source": [
        "**Classification for the following example**"
      ],
      "metadata": {
        "id": "axiH5_8GcjND"
      }
    },
    {
      "cell_type": "code",
      "source": [
        "example_data = {\"Local Price\": [9.0384], \"Bathrooms\": [1], \"Land Area\": [7.8], \"Living area\": [1.5], \"# Garages\": [1.5], \"# Rooms\": [7], \"# Bedrooms\": [3], \"Age of home\": [23]}\n",
        "example = pd.DataFrame(example_data)\n",
        "example"
      ],
      "metadata": {
        "colab": {
          "base_uri": "https://localhost:8080/",
          "height": 127
        },
        "id": "Jb7OJYoncjgD",
        "outputId": "1bba7691-24d0-4c48-f076-a04aac928768"
      },
      "execution_count": 113,
      "outputs": [
        {
          "output_type": "execute_result",
          "data": {
            "text/plain": [
              "   Local Price  Bathrooms  Land Area  Living area  # Garages  # Rooms  \\\n",
              "0       9.0384          1        7.8          1.5        1.5        7   \n",
              "\n",
              "   # Bedrooms  Age of home  \n",
              "0           3           23  "
            ],
            "text/html": [
              "\n",
              "  <div id=\"df-71fa3c2d-9fe5-441d-a947-0903f583dc42\">\n",
              "    <div class=\"colab-df-container\">\n",
              "      <div>\n",
              "<style scoped>\n",
              "    .dataframe tbody tr th:only-of-type {\n",
              "        vertical-align: middle;\n",
              "    }\n",
              "\n",
              "    .dataframe tbody tr th {\n",
              "        vertical-align: top;\n",
              "    }\n",
              "\n",
              "    .dataframe thead th {\n",
              "        text-align: right;\n",
              "    }\n",
              "</style>\n",
              "<table border=\"1\" class=\"dataframe\">\n",
              "  <thead>\n",
              "    <tr style=\"text-align: right;\">\n",
              "      <th></th>\n",
              "      <th>Local Price</th>\n",
              "      <th>Bathrooms</th>\n",
              "      <th>Land Area</th>\n",
              "      <th>Living area</th>\n",
              "      <th># Garages</th>\n",
              "      <th># Rooms</th>\n",
              "      <th># Bedrooms</th>\n",
              "      <th>Age of home</th>\n",
              "    </tr>\n",
              "  </thead>\n",
              "  <tbody>\n",
              "    <tr>\n",
              "      <th>0</th>\n",
              "      <td>9.0384</td>\n",
              "      <td>1</td>\n",
              "      <td>7.8</td>\n",
              "      <td>1.5</td>\n",
              "      <td>1.5</td>\n",
              "      <td>7</td>\n",
              "      <td>3</td>\n",
              "      <td>23</td>\n",
              "    </tr>\n",
              "  </tbody>\n",
              "</table>\n",
              "</div>\n",
              "      <button class=\"colab-df-convert\" onclick=\"convertToInteractive('df-71fa3c2d-9fe5-441d-a947-0903f583dc42')\"\n",
              "              title=\"Convert this dataframe to an interactive table.\"\n",
              "              style=\"display:none;\">\n",
              "        \n",
              "  <svg xmlns=\"http://www.w3.org/2000/svg\" height=\"24px\"viewBox=\"0 0 24 24\"\n",
              "       width=\"24px\">\n",
              "    <path d=\"M0 0h24v24H0V0z\" fill=\"none\"/>\n",
              "    <path d=\"M18.56 5.44l.94 2.06.94-2.06 2.06-.94-2.06-.94-.94-2.06-.94 2.06-2.06.94zm-11 1L8.5 8.5l.94-2.06 2.06-.94-2.06-.94L8.5 2.5l-.94 2.06-2.06.94zm10 10l.94 2.06.94-2.06 2.06-.94-2.06-.94-.94-2.06-.94 2.06-2.06.94z\"/><path d=\"M17.41 7.96l-1.37-1.37c-.4-.4-.92-.59-1.43-.59-.52 0-1.04.2-1.43.59L10.3 9.45l-7.72 7.72c-.78.78-.78 2.05 0 2.83L4 21.41c.39.39.9.59 1.41.59.51 0 1.02-.2 1.41-.59l7.78-7.78 2.81-2.81c.8-.78.8-2.07 0-2.86zM5.41 20L4 18.59l7.72-7.72 1.47 1.35L5.41 20z\"/>\n",
              "  </svg>\n",
              "      </button>\n",
              "      \n",
              "  <style>\n",
              "    .colab-df-container {\n",
              "      display:flex;\n",
              "      flex-wrap:wrap;\n",
              "      gap: 12px;\n",
              "    }\n",
              "\n",
              "    .colab-df-convert {\n",
              "      background-color: #E8F0FE;\n",
              "      border: none;\n",
              "      border-radius: 50%;\n",
              "      cursor: pointer;\n",
              "      display: none;\n",
              "      fill: #1967D2;\n",
              "      height: 32px;\n",
              "      padding: 0 0 0 0;\n",
              "      width: 32px;\n",
              "    }\n",
              "\n",
              "    .colab-df-convert:hover {\n",
              "      background-color: #E2EBFA;\n",
              "      box-shadow: 0px 1px 2px rgba(60, 64, 67, 0.3), 0px 1px 3px 1px rgba(60, 64, 67, 0.15);\n",
              "      fill: #174EA6;\n",
              "    }\n",
              "\n",
              "    [theme=dark] .colab-df-convert {\n",
              "      background-color: #3B4455;\n",
              "      fill: #D2E3FC;\n",
              "    }\n",
              "\n",
              "    [theme=dark] .colab-df-convert:hover {\n",
              "      background-color: #434B5C;\n",
              "      box-shadow: 0px 1px 3px 1px rgba(0, 0, 0, 0.15);\n",
              "      filter: drop-shadow(0px 1px 2px rgba(0, 0, 0, 0.3));\n",
              "      fill: #FFFFFF;\n",
              "    }\n",
              "  </style>\n",
              "\n",
              "      <script>\n",
              "        const buttonEl =\n",
              "          document.querySelector('#df-71fa3c2d-9fe5-441d-a947-0903f583dc42 button.colab-df-convert');\n",
              "        buttonEl.style.display =\n",
              "          google.colab.kernel.accessAllowed ? 'block' : 'none';\n",
              "\n",
              "        async function convertToInteractive(key) {\n",
              "          const element = document.querySelector('#df-71fa3c2d-9fe5-441d-a947-0903f583dc42');\n",
              "          const dataTable =\n",
              "            await google.colab.kernel.invokeFunction('convertToInteractive',\n",
              "                                                     [key], {});\n",
              "          if (!dataTable) return;\n",
              "\n",
              "          const docLinkHtml = 'Like what you see? Visit the ' +\n",
              "            '<a target=\"_blank\" href=https://colab.research.google.com/notebooks/data_table.ipynb>data table notebook</a>'\n",
              "            + ' to learn more about interactive tables.';\n",
              "          element.innerHTML = '';\n",
              "          dataTable['output_type'] = 'display_data';\n",
              "          await google.colab.output.renderOutput(dataTable, element);\n",
              "          const docLink = document.createElement('div');\n",
              "          docLink.innerHTML = docLinkHtml;\n",
              "          element.appendChild(docLink);\n",
              "        }\n",
              "      </script>\n",
              "    </div>\n",
              "  </div>\n",
              "  "
            ]
          },
          "metadata": {},
          "execution_count": 113
        }
      ]
    },
    {
      "cell_type": "code",
      "source": [
        "y_example_predict = model.predict(example)\n",
        "print(\"Predicted class for example data: \"+str(y_example_predict))"
      ],
      "metadata": {
        "colab": {
          "base_uri": "https://localhost:8080/"
        },
        "id": "4Gt8RmEadcJD",
        "outputId": "b08db365-2e01-42f8-8468-3f913bf6139e"
      },
      "execution_count": 114,
      "outputs": [
        {
          "output_type": "stream",
          "name": "stdout",
          "text": [
            "Predicted class for example data: [0]\n"
          ]
        }
      ]
    },
    {
      "cell_type": "markdown",
      "source": [
        "#####From this output, we can say that the construction type of the example will be Apartment as we define class 0 is for Apartment in Training and Test Data Generation section.\n",
        "#####According to the tree, the age of home should be less than 36 and local price should be greater than 8.411. This satisfies the first condition of the example since age of home is 23 but it violates the second one as local price is 9.0384.\n",
        "#####Therefore, based on the tree, it can be said that the construction type is Apartment."
      ],
      "metadata": {
        "id": "YqTypaJZeJPG"
      }
    }
  ]
}