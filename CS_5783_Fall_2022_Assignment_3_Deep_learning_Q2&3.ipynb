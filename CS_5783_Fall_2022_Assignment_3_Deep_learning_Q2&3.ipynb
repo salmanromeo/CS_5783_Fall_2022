{
  "nbformat": 4,
  "nbformat_minor": 0,
  "metadata": {
    "colab": {
      "provenance": [],
      "collapsed_sections": [],
      "authorship_tag": "ABX9TyOl8hSv1JRaqysf5pOPMa0p",
      "include_colab_link": true
    },
    "kernelspec": {
      "name": "python3",
      "display_name": "Python 3"
    },
    "language_info": {
      "name": "python"
    },
    "accelerator": "GPU",
    "gpuClass": "standard"
  },
  "cells": [
    {
      "cell_type": "markdown",
      "metadata": {
        "id": "view-in-github",
        "colab_type": "text"
      },
      "source": [
        "<a href=\"https://colab.research.google.com/github/salmanromeo/CS_5783_Machine_Learning_Fall_2022/blob/main/CS_5783_Fall_2022_Assignment_3_Deep_learning_Q2%263.ipynb\" target=\"_parent\"><img src=\"https://colab.research.google.com/assets/colab-badge.svg\" alt=\"Open In Colab\"/></a>"
      ]
    },
    {
      "cell_type": "markdown",
      "source": [
        "**Problem 2**"
      ],
      "metadata": {
        "id": "-FGK1NVp2E1e"
      }
    },
    {
      "cell_type": "markdown",
      "source": [
        "#####Implement the LeNet Convolutional Neural Network using Keras. It is a seven-layer network with three convolutional layers, two max-pooling layers and 2 dense layers. The structure is shown below:\n",
        "#####Layer 1: convolution layer with 6 convolution kernels of 5x5 with stride 1\n",
        "#####Layer 2: max-pooling layer with 2x2 kernels with stride 2\n",
        "#####Layer 3: convolution layer with 16 convolution kernels of 5x5 with stride 1\n",
        "#####Layer 4: max-pooling layer with 2x2 kernels with stride 2\n",
        "#####Layer 5: convolution layer with 120 convolution kernels of 5x5\n",
        "#####Layer 6: dense layer with 84 neurons\n",
        "#####Layer 7: output layer\n",
        "#####Use the ‘Adam’ optimizer to train your network on the CIFAR-10 dataset for a fixed set of 25 epochs. You can use the built-in functions to load the data. Each image is 32x32x3 matrix and you will have 60,000 images for training and 10,000 for test. There are 10 classes in the dataset each representing an object in the image.\n",
        "#####Perform the following analysis and answer each question briefly (3-5 sentences). Use plots and figures as necessary.\n",
        "\n",
        "1.   What is the effect of learning rate on the training process? Which performed best?\n",
        "1.   What is the effect of batch size on the training process? Which performed best?\n",
        "2.   Try different hyperparameters to obtain the best accuracy on the test set. What is your \n",
        "best performance and what were the hyperparameters?\n",
        "2.   Implement an equivalent feed forward network for the same task with each hidden layer \n",
        "containing the same number of neurons as the number of filters in each convolution layer. Use the ‘Adam’ optimizer to train your network on the CIFAR-10 dataset for a fixed set of 25 epochs. Compare its performance with your LeNet implementation based on the following questions:\n",
        "\n",
        ">> a. What is its performance? <br>\n",
        ">> b. How many parameters are there in this network compared to the LeNet implementation? Are they worth it?\n",
        "\n",
        "\n",
        "\n",
        "\n",
        "\n"
      ],
      "metadata": {
        "id": "rxIGIEi72HBY"
      }
    },
    {
      "cell_type": "markdown",
      "source": [
        "**Solution 2**"
      ],
      "metadata": {
        "id": "uZ1h51SS3Ub-"
      }
    },
    {
      "cell_type": "markdown",
      "source": [
        "**Libraries**"
      ],
      "metadata": {
        "id": "am0197xi7_fB"
      }
    },
    {
      "cell_type": "code",
      "source": [
        "import numpy as np\n",
        "import matplotlib.pyplot as plt                           \n",
        "import tensorflow as tf\n",
        "\n",
        "from tabulate import tabulate\n",
        "import random                        \n",
        "from datetime import datetime"
      ],
      "metadata": {
        "id": "pP7xte5z3ZoF"
      },
      "execution_count": null,
      "outputs": []
    },
    {
      "cell_type": "markdown",
      "source": [
        "**Loading Data**"
      ],
      "metadata": {
        "id": "MX1ZKFx58UT6"
      }
    },
    {
      "cell_type": "code",
      "source": [
        "# CIFAR-10 dataset\n",
        "(x_train, y_train), (x_test, y_test) = tf.keras.datasets.cifar10.load_data()\n",
        "x_train=x_train.reshape(50000,32,32,3)\n",
        "x_test=x_test.reshape(10000,32,32,3)\n",
        "\n",
        "x_train=x_train.astype('float32')\n",
        "x_test=x_test.astype('float32')\n",
        "\n",
        "# Normalize the train and test data for better output\n",
        "x_train /=255\n",
        "x_test /=255"
      ],
      "metadata": {
        "id": "hf4_41gP7QlS",
        "outputId": "2dd77103-4453-4ed1-8510-7433f45f2156",
        "colab": {
          "base_uri": "https://localhost:8080/"
        }
      },
      "execution_count": null,
      "outputs": [
        {
          "output_type": "stream",
          "name": "stdout",
          "text": [
            "Downloading data from https://www.cs.toronto.edu/~kriz/cifar-10-python.tar.gz\n",
            "170498071/170498071 [==============================] - 3s 0us/step\n"
          ]
        }
      ]
    },
    {
      "cell_type": "markdown",
      "source": [
        "**Data Type**"
      ],
      "metadata": {
        "id": "_sfIq8Uu8svD"
      }
    },
    {
      "cell_type": "code",
      "source": [
        "print(x_train.shape)\n",
        "print(x_test.shape)\n",
        "print(y_train.shape)\n",
        "print(y_test.shape)"
      ],
      "metadata": {
        "colab": {
          "base_uri": "https://localhost:8080/"
        },
        "id": "MHyUBrTu8uod",
        "outputId": "3280f086-1539-4350-9b67-6979ef1580c7"
      },
      "execution_count": null,
      "outputs": [
        {
          "output_type": "stream",
          "name": "stdout",
          "text": [
            "(50000, 32, 32, 3)\n",
            "(10000, 32, 32, 3)\n",
            "(50000, 1)\n",
            "(10000, 1)\n"
          ]
        }
      ]
    },
    {
      "cell_type": "markdown",
      "source": [
        "**Plotting**"
      ],
      "metadata": {
        "id": "sNonMJaREwSz"
      }
    },
    {
      "cell_type": "code",
      "source": [
        "fig, ax = plt.subplots(2,5,figsize = (20, 10))\n",
        "fig.suptitle('Train Images')\n",
        "ax = ax.flatten()\n",
        "for i in range(10):\n",
        "    img_idx = np.argwhere(y_train == i)[0]\n",
        "    ax[i].set(xlabel='x', ylabel='y')\n",
        "    plt.setp(ax, xticks=[0, 31], yticks=[0, 31])\n",
        "    plottable_image = np.reshape(x_train[i,:,:,:], (32, 32,3))\n",
        "    ax[i].imshow(plottable_image, cmap='gray')"
      ],
      "metadata": {
        "colab": {
          "base_uri": "https://localhost:8080/",
          "height": 650
        },
        "id": "YQw6clhI_8-P",
        "outputId": "632f254d-f0f9-40f0-ea32-404fa302f59c"
      },
      "execution_count": null,
      "outputs": [
        {
          "output_type": "display_data",
          "data": {
            "text/plain": [
              "<Figure size 1440x720 with 10 Axes>"
            ],
            "image/png": "[encoded data removed]"
          },
          "metadata": {
            "needs_background": "light"
          }
        }
      ]
    },
    {
      "cell_type": "markdown",
      "source": [
        "**Implement the LeNet Convolutional Neural Network with seven layer using Keras**"
      ],
      "metadata": {
        "id": "RyDglIwz9D88"
      }
    },
    {
      "cell_type": "code",
      "source": [
        "model = tf.keras.models.Sequential()\n",
        "# Layer 1: convolution layer with 6 convolution kernels of 5x5 with stride 1\n",
        "model.add(tf.keras.layers.Conv2D(6, (5, 5),strides=(1,1), padding='same', activation='relu'))\n",
        "# Layer 2: max-pooling layer with 2x2 kernels with stride 2\n",
        "model.add(tf.keras.layers.MaxPooling2D(pool_size=(2, 2), strides=(2,2)))\n",
        "# Layer 3: convolution layer with 16 convolution kernels of 5x5 with stride 1\n",
        "model.add(tf.keras.layers.Conv2D(16, (5, 5),strides=(1,1), padding='same', activation='relu'))\n",
        "# Layer 4: max-pooling layer with 2x2 kernels with stride 2\n",
        "model.add(tf.keras.layers.MaxPooling2D(pool_size=(2, 2), strides=(2,2)))\n",
        "# Layer 5: convolution layer with 120 convolution kernels of 5x5\n",
        "model.add(tf.keras.layers.Conv2D(120, (5, 5), padding='same', activation='relu'))\n",
        "\n",
        "model.add(tf.keras.layers.Flatten())\n",
        "# Layer 6: dense layer with 84 neurons\n",
        "model.add(tf.keras.layers.Dense(84))\n",
        "model.add(tf.keras.layers.Activation('relu'))\n",
        "# There are 10 classes in the dataset each representing an object in the image so I put 10 neurons in the output layer.\n",
        "model.add(tf.keras.layers.Dense(10))\n",
        "# softmax activation function\n",
        "model.add(tf.keras.layers.Activation('softmax'))\n",
        "# Adam optimizer with learning rate 0.001\n",
        "opt_lr = tf.keras.optimizers.Adam(learning_rate=0.001)\n",
        "model.compile(loss='sparse_categorical_crossentropy', optimizer=opt_lr, metrics=['accuracy'])\n",
        "# building the model\n",
        "model.build(input_shape=(128,32,32,3))\n",
        "\n",
        "model.summary() "
      ],
      "metadata": {
        "colab": {
          "base_uri": "https://localhost:8080/"
        },
        "id": "m0_ZsbPL7Sx-",
        "outputId": "d1d841f6-2474-47cf-b012-e8fd43db65b3"
      },
      "execution_count": null,
      "outputs": [
        {
          "output_type": "stream",
          "name": "stdout",
          "text": [
            "Model: \"sequential\"\n",
            "_________________________________________________________________\n",
            " Layer (type)                Output Shape              Param #   \n",
            "=================================================================\n",
            " conv2d (Conv2D)             (128, 32, 32, 6)          456       \n",
            "                                                                 \n",
            " max_pooling2d (MaxPooling2D  (128, 16, 16, 6)         0         \n",
            " )                                                               \n",
            "                                                                 \n",
            " conv2d_1 (Conv2D)           (128, 16, 16, 16)         2416      \n",
            "                                                                 \n",
            " max_pooling2d_1 (MaxPooling  (128, 8, 8, 16)          0         \n",
            " 2D)                                                             \n",
            "                                                                 \n",
            " conv2d_2 (Conv2D)           (128, 8, 8, 120)          48120     \n",
            "                                                                 \n",
            " flatten (Flatten)           (128, 7680)               0         \n",
            "                                                                 \n",
            " dense (Dense)               (128, 84)                 645204    \n",
            "                                                                 \n",
            " activation (Activation)     (128, 84)                 0         \n",
            "                                                                 \n",
            " dense_1 (Dense)             (128, 10)                 850       \n",
            "                                                                 \n",
            " activation_1 (Activation)   (128, 10)                 0         \n",
            "                                                                 \n",
            "=================================================================\n",
            "Total params: 697,046\n",
            "Trainable params: 697,046\n",
            "Non-trainable params: 0\n",
            "_________________________________________________________________\n"
          ]
        }
      ]
    },
    {
      "cell_type": "code",
      "source": [
        "# CIFAR-10 dataset for batch size 128 and 25 epochs\n",
        "model.fit(x_train, y_train, batch_size=128, epochs=25, verbose=1)"
      ],
      "metadata": {
        "id": "wGrWyojI7VsP",
        "colab": {
          "base_uri": "https://localhost:8080/"
        },
        "outputId": "837d9c27-871a-4816-b560-7976ebee4929"
      },
      "execution_count": null,
      "outputs": [
        {
          "output_type": "stream",
          "name": "stdout",
          "text": [
            "Epoch 1/25\n",
            "391/391 [==============================] - 91s 230ms/step - loss: 1.6006 - accuracy: 0.4235\n",
            "Epoch 2/25\n",
            "391/391 [==============================] - 89s 226ms/step - loss: 1.2521 - accuracy: 0.5566\n",
            "Epoch 3/25\n",
            "391/391 [==============================] - 87s 224ms/step - loss: 1.0926 - accuracy: 0.6165\n",
            "Epoch 4/25\n",
            "391/391 [==============================] - 95s 242ms/step - loss: 0.9810 - accuracy: 0.6575\n",
            "Epoch 5/25\n",
            "391/391 [==============================] - 87s 224ms/step - loss: 0.8883 - accuracy: 0.6913\n",
            "Epoch 6/25\n",
            "391/391 [==============================] - 88s 224ms/step - loss: 0.8025 - accuracy: 0.7207\n",
            "Epoch 7/25\n",
            "391/391 [==============================] - 89s 229ms/step - loss: 0.7229 - accuracy: 0.7503\n",
            "Epoch 8/25\n",
            "391/391 [==============================] - 103s 264ms/step - loss: 0.6527 - accuracy: 0.7744\n",
            "Epoch 9/25\n",
            "391/391 [==============================] - 96s 245ms/step - loss: 0.5894 - accuracy: 0.7955\n",
            "Epoch 10/25\n",
            "391/391 [==============================] - 88s 226ms/step - loss: 0.5141 - accuracy: 0.8224\n",
            "Epoch 11/25\n",
            "391/391 [==============================] - 88s 226ms/step - loss: 0.4489 - accuracy: 0.8428\n",
            "Epoch 12/25\n",
            "391/391 [==============================] - 89s 228ms/step - loss: 0.3850 - accuracy: 0.8648\n",
            "Epoch 13/25\n",
            "391/391 [==============================] - 88s 225ms/step - loss: 0.3255 - accuracy: 0.8864\n",
            "Epoch 14/25\n",
            "391/391 [==============================] - 89s 228ms/step - loss: 0.2703 - accuracy: 0.9066\n",
            "Epoch 15/25\n",
            "391/391 [==============================] - 88s 226ms/step - loss: 0.2257 - accuracy: 0.9221\n",
            "Epoch 16/25\n",
            "391/391 [==============================] - 88s 226ms/step - loss: 0.1791 - accuracy: 0.9381\n",
            "Epoch 17/25\n",
            "391/391 [==============================] - 90s 229ms/step - loss: 0.1511 - accuracy: 0.9481\n",
            "Epoch 18/25\n",
            "391/391 [==============================] - 88s 225ms/step - loss: 0.1356 - accuracy: 0.9525\n",
            "Epoch 19/25\n",
            "391/391 [==============================] - 95s 242ms/step - loss: 0.1222 - accuracy: 0.9579\n",
            "Epoch 20/25\n",
            "391/391 [==============================] - 93s 238ms/step - loss: 0.1065 - accuracy: 0.9626\n",
            "Epoch 21/25\n",
            "391/391 [==============================] - 91s 232ms/step - loss: 0.0861 - accuracy: 0.9708\n",
            "Epoch 22/25\n",
            "391/391 [==============================] - 88s 225ms/step - loss: 0.0875 - accuracy: 0.9691\n",
            "Epoch 23/25\n",
            "391/391 [==============================] - 88s 225ms/step - loss: 0.1030 - accuracy: 0.9638\n",
            "Epoch 24/25\n",
            "391/391 [==============================] - 91s 234ms/step - loss: 0.0847 - accuracy: 0.9714\n",
            "Epoch 25/25\n",
            "391/391 [==============================] - 98s 251ms/step - loss: 0.0757 - accuracy: 0.9733\n"
          ]
        },
        {
          "output_type": "execute_result",
          "data": {
            "text/plain": [
              "<keras.callbacks.History at 0x7fbfd8560e10>"
            ]
          },
          "metadata": {},
          "execution_count": 7
        }
      ]
    },
    {
      "cell_type": "markdown",
      "source": [
        "**Train and Test Loss and Accuracy**"
      ],
      "metadata": {
        "id": "5P_A9ABdHEBB"
      }
    },
    {
      "cell_type": "code",
      "source": [
        "score = model.evaluate(x_train, y_train)\n",
        "print('Train Loss:', score[0])\n",
        "print('Train Accuracy:', score[1])"
      ],
      "metadata": {
        "colab": {
          "base_uri": "https://localhost:8080/"
        },
        "id": "bp6TfuYkG3Fr",
        "outputId": "9ecee3e8-3aff-4873-9821-c534f4639ed9"
      },
      "execution_count": null,
      "outputs": [
        {
          "output_type": "stream",
          "name": "stdout",
          "text": [
            "1563/1563 [==============================] - 5s 3ms/step - loss: 0.1083 - accuracy: 0.9634\n",
            "Train Loss: 0.10827234387397766\n",
            "Train Accuracy: 0.9634400010108948\n"
          ]
        }
      ]
    },
    {
      "cell_type": "code",
      "source": [
        "score = model.evaluate(x_test, y_test)\n",
        "print('Test Loss:', score[0])\n",
        "print('Test Accuracy:', score[1])"
      ],
      "metadata": {
        "colab": {
          "base_uri": "https://localhost:8080/"
        },
        "id": "5Q_njc79HWk1",
        "outputId": "e47ad4d5-69bf-46f2-d77c-73f56de56e80"
      },
      "execution_count": null,
      "outputs": [
        {
          "output_type": "stream",
          "name": "stdout",
          "text": [
            "313/313 [==============================] - 1s 3ms/step - loss: 2.5371 - accuracy: 0.6452\n",
            "Test Loss: 2.5370664596557617\n",
            "Test Accuracy: 0.6452000141143799\n"
          ]
        }
      ]
    },
    {
      "cell_type": "markdown",
      "source": [
        "**2.1 Effect of learning rate on the training process**"
      ],
      "metadata": {
        "id": "HYJoIheYBg2H"
      }
    },
    {
      "cell_type": "markdown",
      "source": [
        "To examine the effect of learning rate on the training process, we took different learning rate as $0.0001, 0.001, 0.005, 0.01, 0.05, 0.1$.\n"
      ],
      "metadata": {
        "id": "zE124OLBB2xm"
      }
    },
    {
      "cell_type": "code",
      "source": [
        "learningRate=[0.0001, 0.001, 0.005, 0.01, 0.05, 0.1]\n",
        "acc=np.zeros(6)\n",
        "for i in range(len(learningRate)):\n",
        "    model = tf.keras.models.Sequential()\n",
        "    model.add(tf.keras.layers.Conv2D(6, (5, 5),strides=(1,1), padding='same', activation='relu'))\n",
        "    model.add(tf.keras.layers.MaxPooling2D(pool_size=(2, 2), strides=(2,2)))\n",
        "    model.add(tf.keras.layers.Conv2D(16, (5, 5),strides=(1,1), padding='same', activation='relu'))\n",
        "    model.add(tf.keras.layers.MaxPooling2D(pool_size=(2, 2), strides=(2,2)))\n",
        "    model.add(tf.keras.layers.Conv2D(120, (5, 5), padding='same', activation='relu'))\n",
        "    model.add(tf.keras.layers.Flatten())\n",
        "    model.add(tf.keras.layers.Dense(84))\n",
        "    model.add(tf.keras.layers.Activation('relu'))\n",
        "    model.add(tf.keras.layers.Dense(10))\n",
        "    model.add(tf.keras.layers.Activation('softmax'))\n",
        "    opt_lr = tf.keras.optimizers.Adam(learning_rate=learningRate[i]) # different batch size = 0.0001, 0.001, 0.005, 0.01, 0.05, 0.1\n",
        "    model.compile(loss='sparse_categorical_crossentropy', optimizer=opt_lr, metrics=['accuracy'])\n",
        "    model.build(input_shape=(128,32,32,3))\n",
        "    accuracy= model.fit(x_train, y_train, batch_size=128, epochs=25, verbose=0)\n",
        "    acc[i]=accuracy.history['accuracy'][24]\n",
        "    score = model.evaluate(x_train, y_train)\n",
        "    print('Train Loss:', score[0])\n",
        "    print('Train Accuracy:', score[1])\n",
        "    score = model.evaluate(x_test, y_test)\n",
        "    print('Test Loss:', score[0])\n",
        "    print('Test Accuracy:', score[1])"
      ],
      "metadata": {
        "id": "XeV40KkJ7YXm",
        "colab": {
          "base_uri": "https://localhost:8080/"
        },
        "outputId": "7ffb1f00-5eec-4c1c-bf38-87604020835d"
      },
      "execution_count": null,
      "outputs": [
        {
          "output_type": "stream",
          "name": "stdout",
          "text": [
            "1563/1563 [==============================] - 5s 3ms/step - loss: 0.9195 - accuracy: 0.6826\n",
            "Train Loss: 0.9194771647453308\n",
            "Train Accuracy: 0.6826199889183044\n",
            "313/313 [==============================] - 1s 3ms/step - loss: 1.0437 - accuracy: 0.6396\n",
            "Test Loss: 1.043695092201233\n",
            "Test Accuracy: 0.6395999789237976\n",
            "1563/1563 [==============================] - 5s 3ms/step - loss: 0.0550 - accuracy: 0.9821\n",
            "Train Loss: 0.05495435371994972\n",
            "Train Accuracy: 0.9821400046348572\n",
            "313/313 [==============================] - 1s 3ms/step - loss: 2.2366 - accuracy: 0.6742\n",
            "Test Loss: 2.2366042137145996\n",
            "Test Accuracy: 0.6741999983787537\n",
            "1563/1563 [==============================] - 5s 3ms/step - loss: 0.8588 - accuracy: 0.6931\n",
            "Train Loss: 0.8588175177574158\n",
            "Train Accuracy: 0.6930599808692932\n",
            "313/313 [==============================] - 1s 3ms/step - loss: 1.4813 - accuracy: 0.5409\n",
            "Test Loss: 1.4812897443771362\n",
            "Test Accuracy: 0.5408999919891357\n",
            "1563/1563 [==============================] - 5s 3ms/step - loss: 2.3031 - accuracy: 0.1000\n",
            "Train Loss: 2.3031210899353027\n",
            "Train Accuracy: 0.10000000149011612\n",
            "313/313 [==============================] - 1s 3ms/step - loss: 2.3031 - accuracy: 0.1000\n",
            "Test Loss: 2.303119659423828\n",
            "Test Accuracy: 0.10000000149011612\n",
            "1563/1563 [==============================] - 5s 3ms/step - loss: 2.3064 - accuracy: 0.1000\n",
            "Train Loss: 2.306447744369507\n",
            "Train Accuracy: 0.10000000149011612\n",
            "313/313 [==============================] - 1s 3ms/step - loss: 2.3064 - accuracy: 0.1000\n",
            "Test Loss: 2.3064465522766113\n",
            "Test Accuracy: 0.10000000149011612\n",
            "1563/1563 [==============================] - 5s 3ms/step - loss: 2.3094 - accuracy: 0.1000\n",
            "Train Loss: 2.3094489574432373\n",
            "Train Accuracy: 0.10000000149011612\n",
            "313/313 [==============================] - 1s 3ms/step - loss: 2.3094 - accuracy: 0.1000\n",
            "Test Loss: 2.3094494342803955\n",
            "Test Accuracy: 0.10000000149011612\n"
          ]
        }
      ]
    },
    {
      "cell_type": "code",
      "source": [
        "print(acc)\n",
        "plt.plot(np.array(learningRate).reshape(6,1), np.array(acc).reshape(6,1), color = 'red')\n",
        "plt.ylabel('Accuracy')\n",
        "plt.xlabel('Learning Rate')\n",
        "plt.title('Accuracy Vs Learning Rate')\n",
        "plt.show()"
      ],
      "metadata": {
        "id": "mYidtCbn7cgP",
        "colab": {
          "base_uri": "https://localhost:8080/",
          "height": 312
        },
        "outputId": "64a14584-c416-4e6e-89c0-86ea9bf98d7a"
      },
      "execution_count": null,
      "outputs": [
        {
          "output_type": "stream",
          "name": "stdout",
          "text": [
            "[0.67295998 0.96635997 0.67553997 0.10074    0.10064    0.09918   ]\n"
          ]
        },
        {
          "output_type": "display_data",
          "data": {
            "text/plain": [
              "<Figure size 432x288 with 1 Axes>"
            ],
            "image/png": "[encoded data removed]"
          },
          "metadata": {
            "needs_background": "light"
          }
        }
      ]
    },
    {
      "cell_type": "markdown",
      "source": [
        "**Which one performed best for different learning rates**"
      ],
      "metadata": {
        "id": "tHiss7m8IsJY"
      }
    },
    {
      "cell_type": "code",
      "source": [
        "# Assign Data\n",
        "mydata = [[0.0001, 0.67295998, 0.9194771647453308, 0.6826199889183044, 1.043695092201233, 0.6395999789237976],\n",
        "          [0.001, 0.96635997, 0.05495435371994972, 0.9821400046348572, 2.2366042137145996, 0.6741999983787537],\n",
        "          [0.005, 0.67553997, 0.8588175177574158, 0.6930599808692932, 1.4812897443771362, 0.5408999919891357],\n",
        "          [0.01, 0.10074, 2.3031210899353027, 0.10000000149011612, 2.303119659423828, 0.10000000149011612],\n",
        "          [0.05, 0.10064, 2.306447744369507, 0.10000000149011612, 2.3064465522766113, 0.10000000149011612],\n",
        "          [0.1, 0.09918, 2.3094489574432373, 0.10000000149011612, 2.3094494342803955, 0.10000000149011612]]\n",
        "head = [\"Learning Rate\", \"Accuarcy\", \"Train Loss\", \"Train Accuracy\", \"Test Loss\", \"Test Accuracy\"]\n",
        "# Display Table\n",
        "print(tabulate(mydata, headers=head, tablefmt=\"grid\", numalign=\"center\"))"
      ],
      "metadata": {
        "colab": {
          "base_uri": "https://localhost:8080/"
        },
        "id": "4Ypa1raDI0G2",
        "outputId": "908216c6-98c2-4a99-9d01-18a2e59c42e2"
      },
      "execution_count": null,
      "outputs": [
        {
          "output_type": "stream",
          "name": "stdout",
          "text": [
            "+-----------------+------------+--------------+------------------+-------------+-----------------+\n",
            "|  Learning Rate  |  Accuarcy  |  Train Loss  |  Train Accuracy  |  Test Loss  |  Test Accuracy  |\n",
            "+=================+============+==============+==================+=============+=================+\n",
            "|     0.0001      |  0.67296   |   0.919477   |     0.68262      |   1.0437    |     0.6396      |\n",
            "+-----------------+------------+--------------+------------------+-------------+-----------------+\n",
            "|      0.001      |  0.96636   |  0.0549544   |     0.98214      |   2.2366    |     0.6742      |\n",
            "+-----------------+------------+--------------+------------------+-------------+-----------------+\n",
            "|      0.005      |  0.67554   |   0.858818   |     0.69306      |   1.48129   |     0.5409      |\n",
            "+-----------------+------------+--------------+------------------+-------------+-----------------+\n",
            "|      0.01       |  0.10074   |   2.30312    |       0.1        |   2.30312   |       0.1       |\n",
            "+-----------------+------------+--------------+------------------+-------------+-----------------+\n",
            "|      0.05       |  0.10064   |   2.30645    |       0.1        |   2.30645   |       0.1       |\n",
            "+-----------------+------------+--------------+------------------+-------------+-----------------+\n",
            "|       0.1       |  0.09918   |   2.30945    |       0.1        |   2.30945   |       0.1       |\n",
            "+-----------------+------------+--------------+------------------+-------------+-----------------+\n"
          ]
        }
      ]
    },
    {
      "cell_type": "markdown",
      "source": [
        "#####Based on the above results, we can say that the smaller learning rate generates better accuracy results. For my case, learning rate = 0.001 gives lowest training loss and highest accuarcy (all case). But learning rate 0.0001 accuracy is lower than learning rate 0.001. This may cause due to random initialization which leads to different local minima or overfitting."
      ],
      "metadata": {
        "id": "WAMZ3yejSiF2"
      }
    },
    {
      "cell_type": "markdown",
      "source": [
        "**2.2 Effect of batch size on the training process**"
      ],
      "metadata": {
        "id": "xrpyC2XWDFP_"
      }
    },
    {
      "cell_type": "markdown",
      "source": [
        "To examine the effect of batch size on the training process, we took different batch size as $64, 128, 256, 512, 1024$."
      ],
      "metadata": {
        "id": "ESJYKulHDHbl"
      }
    },
    {
      "cell_type": "code",
      "source": [
        "batch=[64, 128, 256, 512, 1024]\n",
        "acc=np.zeros(5)\n",
        "for i in range(len(batch)):\n",
        "    model = tf.keras.models.Sequential()\n",
        "    model.add(tf.keras.layers.Conv2D(6, (5, 5),strides=(1,1), padding='same', activation='relu'))\n",
        "    model.add(tf.keras.layers.MaxPooling2D(pool_size=(2, 2), strides=(2,2)))\n",
        "    model.add(tf.keras.layers.Conv2D(16, (5, 5),strides=(1,1), padding='same', activation='relu'))\n",
        "    model.add(tf.keras.layers.MaxPooling2D(pool_size=(2, 2), strides=(2,2)))\n",
        "    model.add(tf.keras.layers.Conv2D(120, (5, 5), padding='same', activation='relu'))\n",
        "    model.add(tf.keras.layers.Flatten())\n",
        "    model.add(tf.keras.layers.Dense(84))\n",
        "    model.add(tf.keras.layers.Activation('relu'))\n",
        "    model.add(tf.keras.layers.Dense(10))\n",
        "    model.add(tf.keras.layers.Activation('softmax'))\n",
        "    opt_lr = tf.keras.optimizers.Adam(learning_rate=0.001)\n",
        "    model.compile(loss='sparse_categorical_crossentropy', optimizer=opt_lr, metrics=['accuracy'])\n",
        "    model.build(input_shape=(128,32,32,3))\n",
        "    accuracy= model.fit(x_train, y_train, batch_size=batch[i], epochs=25, verbose=0) # different batch size = 64, 128, 256, 512, 1024\n",
        "    acc[i]=accuracy.history['accuracy'][24]\n",
        "    score = model.evaluate(x_train, y_train)\n",
        "    print('Train Loss:', score[0])\n",
        "    print('Train Accuracy:', score[1])\n",
        "    score = model.evaluate(x_test, y_test)\n",
        "    print('Test Loss:', score[0])\n",
        "    print('Test Accuracy:', score[1])"
      ],
      "metadata": {
        "id": "wLwa1Km57gUM",
        "colab": {
          "base_uri": "https://localhost:8080/"
        },
        "outputId": "a245684c-18f6-4d51-a3d7-753328f25e2f"
      },
      "execution_count": null,
      "outputs": [
        {
          "output_type": "stream",
          "name": "stdout",
          "text": [
            "1563/1563 [==============================] - 5s 3ms/step - loss: 0.0545 - accuracy: 0.9817\n",
            "Train Loss: 0.05453953146934509\n",
            "Train Accuracy: 0.981719970703125\n",
            "313/313 [==============================] - 1s 3ms/step - loss: 2.6560 - accuracy: 0.6501\n",
            "Test Loss: 2.655984878540039\n",
            "Test Accuracy: 0.6500999927520752\n",
            "1563/1563 [==============================] - 6s 4ms/step - loss: 0.0832 - accuracy: 0.9721\n",
            "Train Loss: 0.08315552771091461\n",
            "Train Accuracy: 0.972100019454956\n",
            "313/313 [==============================] - 1s 4ms/step - loss: 2.5797 - accuracy: 0.6467\n",
            "Test Loss: 2.579679012298584\n",
            "Test Accuracy: 0.6467000246047974\n",
            "1563/1563 [==============================] - 6s 4ms/step - loss: 0.1617 - accuracy: 0.9479\n",
            "Train Loss: 0.16174347698688507\n",
            "Train Accuracy: 0.947920024394989\n",
            "313/313 [==============================] - 1s 3ms/step - loss: 1.4171 - accuracy: 0.6765\n",
            "Test Loss: 1.4171066284179688\n",
            "Test Accuracy: 0.6765000224113464\n",
            "1563/1563 [==============================] - 5s 3ms/step - loss: 0.3419 - accuracy: 0.8863\n",
            "Train Loss: 0.34186235070228577\n",
            "Train Accuracy: 0.8863400220870972\n",
            "313/313 [==============================] - 1s 3ms/step - loss: 1.0852 - accuracy: 0.6765\n",
            "Test Loss: 1.0851566791534424\n",
            "Test Accuracy: 0.6765000224113464\n",
            "1563/1563 [==============================] - 6s 4ms/step - loss: 0.7559 - accuracy: 0.7401\n",
            "Train Loss: 0.7558504939079285\n",
            "Train Accuracy: 0.740119993686676\n",
            "313/313 [==============================] - 1s 3ms/step - loss: 1.0175 - accuracy: 0.6502\n",
            "Test Loss: 1.0175211429595947\n",
            "Test Accuracy: 0.6502000093460083\n"
          ]
        }
      ]
    },
    {
      "cell_type": "code",
      "source": [
        "print(acc)\n",
        "plt.plot(np.array(batch).reshape(5,1), np.array(acc).reshape(5,1), color = 'red')\n",
        "plt.ylabel('Accuracy')\n",
        "plt.xlabel('Batch Size')\n",
        "plt.title('Accuracy Vs Batch Size')\n",
        "plt.show()"
      ],
      "metadata": {
        "id": "tMF-Tgb87iwi",
        "colab": {
          "base_uri": "https://localhost:8080/",
          "height": 312
        },
        "outputId": "dea1dad0-3e6d-470a-ffaa-b4ad4dd9d67f"
      },
      "execution_count": null,
      "outputs": [
        {
          "output_type": "stream",
          "name": "stdout",
          "text": [
            "[0.96957999 0.97593999 0.93769997 0.86684    0.73096001]\n"
          ]
        },
        {
          "output_type": "display_data",
          "data": {
            "text/plain": [
              "<Figure size 432x288 with 1 Axes>"
            ],
            "image/png": "[encoded data removed]"
          },
          "metadata": {
            "needs_background": "light"
          }
        }
      ]
    },
    {
      "cell_type": "markdown",
      "source": [
        "**Which one performed best for different batch sizes**"
      ],
      "metadata": {
        "id": "uZDRPBBrQjtz"
      }
    },
    {
      "cell_type": "code",
      "source": [
        "# Assign Data\n",
        "mydata = [[64, 0.96957999, 0.05453953146934509, 0.981719970703125, 2.655984878540039, 0.6500999927520752],\n",
        "          [128, 0.97593999, 0.08315552771091461, 0.972100019454956, 2.579679012298584, 0.6467000246047974],\n",
        "          [256, 0.93769997, 0.16174347698688507, 0.947920024394989, 1.4171066284179688, 0.6765000224113464],\n",
        "          [512, 0.86684, 0.34186235070228577, 0.8863400220870972, 1.0851566791534424, 0.6765000224113464],\n",
        "          [1024, 0.73096001, 0.7558504939079285, 0.740119993686676, 1.0175211429595947, 0.6502000093460083]]\n",
        "head = [\"Batch Size\", \"Accuarcy\", \"Train Loss\", \"Train Accuracy\", \"Test Loss\", \"Test Accuracy\"]\n",
        "# Display Table\n",
        "print(tabulate(mydata, headers=head, tablefmt=\"grid\", numalign=\"center\"))"
      ],
      "metadata": {
        "colab": {
          "base_uri": "https://localhost:8080/"
        },
        "id": "FtzfYd8CR41E",
        "outputId": "cd49fe30-bf76-485f-984f-1c50ba3d997c"
      },
      "execution_count": null,
      "outputs": [
        {
          "output_type": "stream",
          "name": "stdout",
          "text": [
            "+--------------+------------+--------------+------------------+-------------+-----------------+\n",
            "|  Batch Size  |  Accuarcy  |  Train Loss  |  Train Accuracy  |  Test Loss  |  Test Accuracy  |\n",
            "+==============+============+==============+==================+=============+=================+\n",
            "|      64      |  0.96958   |  0.0545395   |     0.98172      |   2.65598   |     0.6501      |\n",
            "+--------------+------------+--------------+------------------+-------------+-----------------+\n",
            "|     128      |  0.97594   |  0.0831555   |      0.9721      |   2.57968   |     0.6467      |\n",
            "+--------------+------------+--------------+------------------+-------------+-----------------+\n",
            "|     256      |   0.9377   |   0.161743   |     0.94792      |   1.41711   |     0.6765      |\n",
            "+--------------+------------+--------------+------------------+-------------+-----------------+\n",
            "|     512      |  0.86684   |   0.341862   |     0.88634      |   1.08516   |     0.6765      |\n",
            "+--------------+------------+--------------+------------------+-------------+-----------------+\n",
            "|     1024     |  0.73096   |   0.75585    |     0.74012      |   1.01752   |     0.6502      |\n",
            "+--------------+------------+--------------+------------------+-------------+-----------------+\n"
          ]
        }
      ]
    },
    {
      "cell_type": "markdown",
      "source": [
        "#####Based on the above results, we can say that the smaller batch size generates better accuracy results. For my case, batch size = 128 gives highest accuarcy with learning rate 0.001. Batch size 64 and 256 also give close results may be due to the random weights, but it is difficult to understand the trend."
      ],
      "metadata": {
        "id": "YtghFpYPbdLT"
      }
    },
    {
      "cell_type": "markdown",
      "source": [
        "**Evaluate the model for test data**"
      ],
      "metadata": {
        "id": "3qNr8RA2Ew-L"
      }
    },
    {
      "cell_type": "code",
      "source": [
        "model.evaluate(x_test, y_test)"
      ],
      "metadata": {
        "id": "TWON5iIn7lii",
        "colab": {
          "base_uri": "https://localhost:8080/"
        },
        "outputId": "c99055b1-d45f-4f31-caf6-2e5cf7e8ee4c"
      },
      "execution_count": null,
      "outputs": [
        {
          "output_type": "stream",
          "name": "stdout",
          "text": [
            "313/313 [==============================] - 1s 3ms/step - loss: 2.4239 - accuracy: 0.6392\n"
          ]
        },
        {
          "output_type": "execute_result",
          "data": {
            "text/plain": [
              "[2.423909902572632, 0.63919997215271]"
            ]
          },
          "metadata": {},
          "execution_count": 7
        }
      ]
    },
    {
      "cell_type": "markdown",
      "source": [
        "**2.3 Try different hyperparameters**"
      ],
      "metadata": {
        "id": "V03Mt3cvmMnA"
      }
    },
    {
      "cell_type": "markdown",
      "source": [
        "The hyperparameters are number of epochs, number of kernels, kernel size, optimizer, number of neurons and layers, batch size, learning rate. As everything is specified in the question, we will try a different combination of batch size with learning rate."
      ],
      "metadata": {
        "id": "2oOrhHVMmStk"
      }
    },
    {
      "cell_type": "code",
      "source": [
        "batch=[64, 128, 256, 512, 1024]\n",
        "learningRate=[0.001, 0.005, 0.01, 0.05, 0.1]\n",
        "for i in range(len(batch)):\n",
        "    for j in range(len(learningRate)):\n",
        "      model = tf.keras.models.Sequential()\n",
        "      model.add(tf.keras.layers.Conv2D(6, (5, 5),strides=(1,1), padding='same', activation='relu'))\n",
        "      model.add(tf.keras.layers.MaxPooling2D(pool_size=(2, 2), strides=(2,2)))\n",
        "      model.add(tf.keras.layers.Conv2D(16, (5, 5),strides=(1,1), padding='same', activation='relu'))\n",
        "      model.add(tf.keras.layers.MaxPooling2D(pool_size=(2, 2), strides=(2,2)))\n",
        "      model.add(tf.keras.layers.Conv2D(120, (5, 5), padding='same', activation='relu'))\n",
        "      model.add(tf.keras.layers.Flatten())\n",
        "      model.add(tf.keras.layers.Dense(84))\n",
        "      model.add(tf.keras.layers.Activation('relu'))\n",
        "      model.add(tf.keras.layers.Dense(10))\n",
        "      model.add(tf.keras.layers.Activation('softmax'))\n",
        "      opt_lr = tf.keras.optimizers.Adam(learning_rate=learningRate[j])\n",
        "      model.compile(loss='sparse_categorical_crossentropy', optimizer=opt_lr, metrics=['accuracy'])\n",
        "      model.build(input_shape=(128,32,32,3))\n",
        "      #model.summary() \n",
        "      accuracy= model.fit(x_train, y_train, batch_size=batch[i], epochs=25, verbose=0)\n",
        "      print(accuracy.history['accuracy'][24])\n",
        "      score = model.evaluate(x_test, y_test)\n",
        "      print('Test Loss:', score[0])\n",
        "      print('Test Accuracy:', score[1])"
      ],
      "metadata": {
        "id": "iskUN_gN7nmE",
        "colab": {
          "base_uri": "https://localhost:8080/"
        },
        "outputId": "150ee411-7f2d-482a-9fca-53ad5d818990"
      },
      "execution_count": null,
      "outputs": [
        {
          "output_type": "stream",
          "name": "stdout",
          "text": [
            "0.9688599705696106\n",
            "313/313 [==============================] - 1s 3ms/step - loss: 2.5098 - accuracy: 0.6589\n",
            "Test Loss: 2.509840726852417\n",
            "Test Accuracy: 0.6589000225067139\n",
            "0.7749199867248535\n",
            "313/313 [==============================] - 1s 3ms/step - loss: 2.0165 - accuracy: 0.5239\n",
            "Test Loss: 2.016545295715332\n",
            "Test Accuracy: 0.5238999724388123\n",
            "0.09864000231027603\n",
            "313/313 [==============================] - 1s 3ms/step - loss: 2.3035 - accuracy: 0.1000\n",
            "Test Loss: 2.303497314453125\n",
            "Test Accuracy: 0.10000000149011612\n",
            "0.09905999898910522\n",
            "313/313 [==============================] - 1s 3ms/step - loss: 2.3041 - accuracy: 0.1000\n",
            "Test Loss: 2.3041276931762695\n",
            "Test Accuracy: 0.10000000149011612\n",
            "0.10068000108003616\n",
            "313/313 [==============================] - 1s 3ms/step - loss: 2.3185 - accuracy: 0.1000\n",
            "Test Loss: 2.3184993267059326\n",
            "Test Accuracy: 0.10000000149011612\n",
            "0.9721599817276001\n",
            "313/313 [==============================] - 1s 3ms/step - loss: 2.6236 - accuracy: 0.6412\n",
            "Test Loss: 2.6236014366149902\n",
            "Test Accuracy: 0.6412000060081482\n",
            "0.9004600048065186\n",
            "313/313 [==============================] - 1s 3ms/step - loss: 2.8163 - accuracy: 0.5352\n",
            "Test Loss: 2.816349506378174\n",
            "Test Accuracy: 0.5351999998092651\n",
            "0.09809999912977219\n",
            "313/313 [==============================] - 1s 3ms/step - loss: 2.3030 - accuracy: 0.1000\n",
            "Test Loss: 2.3029510974884033\n",
            "Test Accuracy: 0.10000000149011612\n",
            "0.09876000136137009\n",
            "313/313 [==============================] - 1s 3ms/step - loss: 2.3067 - accuracy: 0.1000\n",
            "Test Loss: 2.306687593460083\n",
            "Test Accuracy: 0.10000000149011612\n",
            "0.09901999682188034\n",
            "313/313 [==============================] - 1s 4ms/step - loss: 2.3088 - accuracy: 0.1000\n",
            "Test Loss: 2.3088479042053223\n",
            "Test Accuracy: 0.10000000149011612\n",
            "0.9612799882888794\n",
            "313/313 [==============================] - 1s 3ms/step - loss: 1.8010 - accuracy: 0.6578\n",
            "Test Loss: 1.8009814023971558\n",
            "Test Accuracy: 0.657800018787384\n",
            "0.8105199933052063\n",
            "313/313 [==============================] - 2s 3ms/step - loss: 1.6757 - accuracy: 0.5731\n",
            "Test Loss: 1.6757265329360962\n",
            "Test Accuracy: 0.5730999708175659\n",
            "0.09991999715566635\n",
            "313/313 [==============================] - 1s 3ms/step - loss: 2.3028 - accuracy: 0.1000\n",
            "Test Loss: 2.302809953689575\n",
            "Test Accuracy: 0.10000000149011612\n",
            "0.09848000109195709\n",
            "313/313 [==============================] - 1s 3ms/step - loss: 2.3060 - accuracy: 0.1000\n",
            "Test Loss: 2.306002140045166\n",
            "Test Accuracy: 0.10000000149011612\n",
            "0.09948000311851501\n",
            "313/313 [==============================] - 2s 6ms/step - loss: 2.3066 - accuracy: 0.1000\n",
            "Test Loss: 2.3066163063049316\n",
            "Test Accuracy: 0.10000000149011612\n",
            "0.8567799925804138\n",
            "313/313 [==============================] - 1s 3ms/step - loss: 1.0615 - accuracy: 0.6750\n",
            "Test Loss: 1.0615278482437134\n",
            "Test Accuracy: 0.675000011920929\n",
            "0.8978400230407715\n",
            "313/313 [==============================] - 1s 4ms/step - loss: 2.1505 - accuracy: 0.5981\n",
            "Test Loss: 2.150542974472046\n",
            "Test Accuracy: 0.5981000065803528\n",
            "0.09640000015497208\n",
            "313/313 [==============================] - 1s 4ms/step - loss: 2.3028 - accuracy: 0.1000\n",
            "Test Loss: 2.302842378616333\n",
            "Test Accuracy: 0.10000000149011612\n",
            "0.10075999796390533\n",
            "313/313 [==============================] - 1s 3ms/step - loss: 2.3037 - accuracy: 0.1000\n",
            "Test Loss: 2.303662061691284\n",
            "Test Accuracy: 0.10000000149011612\n",
            "0.09808000177145004\n",
            "313/313 [==============================] - 1s 3ms/step - loss: 2.3041 - accuracy: 0.1000\n",
            "Test Loss: 2.304079294204712\n",
            "Test Accuracy: 0.10000000149011612\n",
            "0.7328600287437439\n",
            "313/313 [==============================] - 1s 3ms/step - loss: 1.0002 - accuracy: 0.6574\n",
            "Test Loss: 1.0001773834228516\n",
            "Test Accuracy: 0.6574000120162964\n",
            "0.7600399851799011\n",
            "313/313 [==============================] - 1s 3ms/step - loss: 1.2419 - accuracy: 0.6043\n",
            "Test Loss: 1.241909384727478\n",
            "Test Accuracy: 0.6043000221252441\n",
            "0.6061199903488159\n",
            "313/313 [==============================] - 1s 3ms/step - loss: 1.6713 - accuracy: 0.4573\n",
            "Test Loss: 1.6712855100631714\n",
            "Test Accuracy: 0.45730000734329224\n",
            "0.098860003054142\n",
            "313/313 [==============================] - 1s 3ms/step - loss: 2.3032 - accuracy: 0.1000\n",
            "Test Loss: 2.3031935691833496\n",
            "Test Accuracy: 0.10000000149011612\n",
            "0.09957999736070633\n",
            "313/313 [==============================] - 1s 3ms/step - loss: 2.3040 - accuracy: 0.1000\n",
            "Test Loss: 2.3039820194244385\n",
            "Test Accuracy: 0.10000000149011612\n"
          ]
        }
      ]
    },
    {
      "cell_type": "markdown",
      "source": [
        "**Which one performed best**"
      ],
      "metadata": {
        "id": "8d0eZxFNixcc"
      }
    },
    {
      "cell_type": "code",
      "source": [
        "# Assign Data\n",
        "mydata = [[64, 0.001, 0.9688599705696106, 2.509840726852417, 0.6589000225067139],\n",
        "          [64, 0.005, 0.7749199867248535, 2.016545295715332, 0.5238999724388123],\n",
        "          [64, 0.01, 0.09864000231027603, 2.303497314453125, 0.10000000149011612],\n",
        "          [64, 0.05, 0.09905999898910522, 2.3041276931762695, 0.10000000149011612],\n",
        "          [64, 0.1, 0.10068000108003616, 2.3184993267059326, 0.10000000149011612],\n",
        "          [128, 0.001, 0.9721599817276001, 2.6236014366149902, 0.6412000060081482],\n",
        "          [128, 0.005, 0.9004600048065186, 2.816349506378174, 0.5351999998092651],\n",
        "          [128, 0.01, 0.09809999912977219, 2.3029510974884033, 0.10000000149011612],\n",
        "          [128, 0.05, 0.09876000136137009, 2.306687593460083, 0.10000000149011612],\n",
        "          [128, 0.1, 0.09901999682188034, 2.3088479042053223, 0.10000000149011612],\n",
        "          [256, 0.001, 0.9612799882888794, 1.8009814023971558, 0.657800018787384],\n",
        "          [256, 0.005, 0.8105199933052063, 1.6757265329360962, 0.5730999708175659],\n",
        "          [256, 0.01, 0.09991999715566635, 2.302809953689575, 0.10000000149011612],\n",
        "          [256, 0.05, 0.09848000109195709, 2.306002140045166, 0.10000000149011612],\n",
        "          [256, 0.1, 0.09948000311851501, 2.3066163063049316, 0.10000000149011612],\n",
        "          [512, 0.001, 0.8567799925804138, 1.0615278482437134, 0.675000011920929],\n",
        "          [512, 0.005, 0.8978400230407715, 2.150542974472046, 0.5981000065803528],\n",
        "          [512, 0.01, 0.09640000015497208, 2.302842378616333, 0.10000000149011612],\n",
        "          [512, 0.05, 0.10075999796390533, 2.303662061691284, 0.10000000149011612],\n",
        "          [512, 0.1, 0.09808000177145004, 2.304079294204712, 0.10000000149011612],\n",
        "          [1024, 0.001, 0.7328600287437439, 1.0001773834228516, 0.6574000120162964],\n",
        "          [1024, 0.005, 0.7600399851799011, 1.241909384727478, 0.6043000221252441],\n",
        "          [1024, 0.01, 0.6061199903488159, 1.6712855100631714, 0.45730000734329224],\n",
        "          [1024, 0.05, 0.098860003054142, 2.3031935691833496, 0.10000000149011612],\n",
        "          [1024, 0.1, 0.09957999736070633, 2.3039820194244385, 0.10000000149011612]]\n",
        "head = [\"Batch Size\", \"Learning Rate\", \"Accuracy\", \"Test Loss\", \"Test Accuracy\"]\n",
        "# Display Table\n",
        "print(tabulate(mydata, headers=head, tablefmt=\"grid\", numalign=\"center\"))"
      ],
      "metadata": {
        "colab": {
          "base_uri": "https://localhost:8080/"
        },
        "id": "EIOfk0lZix82",
        "outputId": "abf6177f-0f07-4038-8a08-08dfba742052"
      },
      "execution_count": null,
      "outputs": [
        {
          "output_type": "stream",
          "name": "stdout",
          "text": [
            "+--------------+-----------------+------------+-------------+-----------------+\n",
            "|  Batch Size  |  Learning Rate  |  Accuracy  |  Test Loss  |  Test Accuracy  |\n",
            "+==============+=================+============+=============+=================+\n",
            "|      64      |      0.001      |  0.96886   |   2.50984   |     0.6589      |\n",
            "+--------------+-----------------+------------+-------------+-----------------+\n",
            "|      64      |      0.005      |  0.77492   |   2.01655   |     0.5239      |\n",
            "+--------------+-----------------+------------+-------------+-----------------+\n",
            "|      64      |      0.01       |  0.09864   |   2.3035    |       0.1       |\n",
            "+--------------+-----------------+------------+-------------+-----------------+\n",
            "|      64      |      0.05       |  0.09906   |   2.30413   |       0.1       |\n",
            "+--------------+-----------------+------------+-------------+-----------------+\n",
            "|      64      |       0.1       |  0.10068   |   2.3185    |       0.1       |\n",
            "+--------------+-----------------+------------+-------------+-----------------+\n",
            "|     128      |      0.001      |  0.97216   |   2.6236    |     0.6412      |\n",
            "+--------------+-----------------+------------+-------------+-----------------+\n",
            "|     128      |      0.005      |  0.90046   |   2.81635   |     0.5352      |\n",
            "+--------------+-----------------+------------+-------------+-----------------+\n",
            "|     128      |      0.01       |   0.0981   |   2.30295   |       0.1       |\n",
            "+--------------+-----------------+------------+-------------+-----------------+\n",
            "|     128      |      0.05       |  0.09876   |   2.30669   |       0.1       |\n",
            "+--------------+-----------------+------------+-------------+-----------------+\n",
            "|     128      |       0.1       |  0.09902   |   2.30885   |       0.1       |\n",
            "+--------------+-----------------+------------+-------------+-----------------+\n",
            "|     256      |      0.001      |  0.96128   |   1.80098   |     0.6578      |\n",
            "+--------------+-----------------+------------+-------------+-----------------+\n",
            "|     256      |      0.005      |  0.81052   |   1.67573   |     0.5731      |\n",
            "+--------------+-----------------+------------+-------------+-----------------+\n",
            "|     256      |      0.01       |  0.09992   |   2.30281   |       0.1       |\n",
            "+--------------+-----------------+------------+-------------+-----------------+\n",
            "|     256      |      0.05       |  0.09848   |    2.306    |       0.1       |\n",
            "+--------------+-----------------+------------+-------------+-----------------+\n",
            "|     256      |       0.1       |  0.09948   |   2.30662   |       0.1       |\n",
            "+--------------+-----------------+------------+-------------+-----------------+\n",
            "|     512      |      0.001      |  0.85678   |   1.06153   |      0.675      |\n",
            "+--------------+-----------------+------------+-------------+-----------------+\n",
            "|     512      |      0.005      |  0.89784   |   2.15054   |     0.5981      |\n",
            "+--------------+-----------------+------------+-------------+-----------------+\n",
            "|     512      |      0.01       |   0.0964   |   2.30284   |       0.1       |\n",
            "+--------------+-----------------+------------+-------------+-----------------+\n",
            "|     512      |      0.05       |  0.10076   |   2.30366   |       0.1       |\n",
            "+--------------+-----------------+------------+-------------+-----------------+\n",
            "|     512      |       0.1       |  0.09808   |   2.30408   |       0.1       |\n",
            "+--------------+-----------------+------------+-------------+-----------------+\n",
            "|     1024     |      0.001      |  0.73286   |   1.00018   |     0.6574      |\n",
            "+--------------+-----------------+------------+-------------+-----------------+\n",
            "|     1024     |      0.005      |  0.76004   |   1.24191   |     0.6043      |\n",
            "+--------------+-----------------+------------+-------------+-----------------+\n",
            "|     1024     |      0.01       |  0.60612   |   1.67129   |     0.4573      |\n",
            "+--------------+-----------------+------------+-------------+-----------------+\n",
            "|     1024     |      0.05       |  0.09886   |   2.30319   |       0.1       |\n",
            "+--------------+-----------------+------------+-------------+-----------------+\n",
            "|     1024     |       0.1       |  0.09958   |   2.30398   |       0.1       |\n",
            "+--------------+-----------------+------------+-------------+-----------------+\n"
          ]
        }
      ]
    },
    {
      "cell_type": "markdown",
      "source": [
        "#####Based on the above results, we can see for my case, batch size 128 with 0.001 learning rate gives highest accuarcy 0.97216. But for test set batch size 512 with 0.001 learning rate gives highest test accuarcy 0.675 and batch size 1024 with 0.001 learning rate gives lowest test loss 1.000185."
      ],
      "metadata": {
        "id": "fNb4ijVWqKmg"
      }
    },
    {
      "cell_type": "markdown",
      "source": [
        "**2.4 Equivalent Feed Forward Network**"
      ],
      "metadata": {
        "id": "2Q-92GXHQ5sf"
      }
    },
    {
      "cell_type": "markdown",
      "source": [
        "We will implement an equivalent feed forward network for the same task with each hidden layer containing the same number of neurons as the number of filters in each convolution layer. "
      ],
      "metadata": {
        "id": "fBLnB9OOTT1c"
      }
    },
    {
      "cell_type": "code",
      "source": [
        "model = tf.keras.models.Sequential()\n",
        "model.add(tf.keras.layers.Flatten())\n",
        "model.add(tf.keras.layers.Dense(6))\n",
        "model.add(tf.keras.layers.Activation('relu'))\n",
        "model.add(tf.keras.layers.Dense(16))\n",
        "model.add(tf.keras.layers.Activation('relu'))\n",
        "model.add(tf.keras.layers.Dense(120))\n",
        "model.add(tf.keras.layers.Activation('relu'))\n",
        "model.add(tf.keras.layers.Dense(84))\n",
        "model.add(tf.keras.layers.Activation('relu'))\n",
        "model.add(tf.keras.layers.Dense(10))\n",
        "model.add(tf.keras.layers.Activation('softmax'))\n",
        "model.build(input_shape=(128, 32,32,3))\n",
        "model.summary()\n",
        "opt_lr = tf.keras.optimizers.Adam(learning_rate=0.001)\n",
        "model.compile(loss='sparse_categorical_crossentropy', optimizer=opt_lr, metrics=['accuracy'])\n",
        "\n",
        "model.fit(x_train, y_train, batch_size=128, epochs=25, verbose=1)"
      ],
      "metadata": {
        "id": "4W2CjkAd7u-u",
        "colab": {
          "base_uri": "https://localhost:8080/"
        },
        "outputId": "fd6b859d-4b19-444a-de70-f5f44f1c12ce"
      },
      "execution_count": null,
      "outputs": [
        {
          "output_type": "stream",
          "name": "stdout",
          "text": [
            "Model: \"sequential_1\"\n",
            "_________________________________________________________________\n",
            " Layer (type)                Output Shape              Param #   \n",
            "=================================================================\n",
            " flatten_1 (Flatten)         (128, 3072)               0         \n",
            "                                                                 \n",
            " dense_2 (Dense)             (128, 6)                  18438     \n",
            "                                                                 \n",
            " activation_2 (Activation)   (128, 6)                  0         \n",
            "                                                                 \n",
            " dense_3 (Dense)             (128, 16)                 112       \n",
            "                                                                 \n",
            " activation_3 (Activation)   (128, 16)                 0         \n",
            "                                                                 \n",
            " dense_4 (Dense)             (128, 120)                2040      \n",
            "                                                                 \n",
            " activation_4 (Activation)   (128, 120)                0         \n",
            "                                                                 \n",
            " dense_5 (Dense)             (128, 84)                 10164     \n",
            "                                                                 \n",
            " activation_5 (Activation)   (128, 84)                 0         \n",
            "                                                                 \n",
            " dense_6 (Dense)             (128, 10)                 850       \n",
            "                                                                 \n",
            " activation_6 (Activation)   (128, 10)                 0         \n",
            "                                                                 \n",
            "=================================================================\n",
            "Total params: 31,604\n",
            "Trainable params: 31,604\n",
            "Non-trainable params: 0\n",
            "_________________________________________________________________\n",
            "Epoch 1/25\n",
            "391/391 [==============================] - 3s 6ms/step - loss: 2.0915 - accuracy: 0.1799\n",
            "Epoch 2/25\n",
            "391/391 [==============================] - 2s 6ms/step - loss: 2.0443 - accuracy: 0.1949\n",
            "Epoch 3/25\n",
            "391/391 [==============================] - 2s 6ms/step - loss: 2.0398 - accuracy: 0.1965\n",
            "Epoch 4/25\n",
            "391/391 [==============================] - 2s 6ms/step - loss: 2.0365 - accuracy: 0.1985\n",
            "Epoch 5/25\n",
            "391/391 [==============================] - 2s 6ms/step - loss: 2.0286 - accuracy: 0.2029\n",
            "Epoch 6/25\n",
            "391/391 [==============================] - 2s 6ms/step - loss: 2.0296 - accuracy: 0.2053\n",
            "Epoch 7/25\n",
            "391/391 [==============================] - 2s 6ms/step - loss: 2.0306 - accuracy: 0.2031\n",
            "Epoch 8/25\n",
            "391/391 [==============================] - 2s 6ms/step - loss: 2.0248 - accuracy: 0.2068\n",
            "Epoch 9/25\n",
            "391/391 [==============================] - 2s 5ms/step - loss: 2.0288 - accuracy: 0.2055\n",
            "Epoch 10/25\n",
            "391/391 [==============================] - 2s 6ms/step - loss: 2.0270 - accuracy: 0.2032\n",
            "Epoch 11/25\n",
            "391/391 [==============================] - 2s 6ms/step - loss: 2.0208 - accuracy: 0.2081\n",
            "Epoch 12/25\n",
            "391/391 [==============================] - 2s 6ms/step - loss: 2.0219 - accuracy: 0.2076\n",
            "Epoch 13/25\n",
            "391/391 [==============================] - 2s 6ms/step - loss: 2.0252 - accuracy: 0.2053\n",
            "Epoch 14/25\n",
            "391/391 [==============================] - 2s 6ms/step - loss: 2.0221 - accuracy: 0.2073\n",
            "Epoch 15/25\n",
            "391/391 [==============================] - 2s 5ms/step - loss: 2.0223 - accuracy: 0.2060\n",
            "Epoch 16/25\n",
            "391/391 [==============================] - 2s 5ms/step - loss: 2.0209 - accuracy: 0.2075\n",
            "Epoch 17/25\n",
            "391/391 [==============================] - 2s 5ms/step - loss: 2.0228 - accuracy: 0.2058\n",
            "Epoch 18/25\n",
            "391/391 [==============================] - 2s 6ms/step - loss: 2.0228 - accuracy: 0.2088\n",
            "Epoch 19/25\n",
            "391/391 [==============================] - 2s 6ms/step - loss: 2.0210 - accuracy: 0.2054\n",
            "Epoch 20/25\n",
            "391/391 [==============================] - 3s 7ms/step - loss: 2.0223 - accuracy: 0.2081\n",
            "Epoch 21/25\n",
            "391/391 [==============================] - 2s 6ms/step - loss: 2.0190 - accuracy: 0.2091\n",
            "Epoch 22/25\n",
            "391/391 [==============================] - 2s 6ms/step - loss: 2.0239 - accuracy: 0.2056\n",
            "Epoch 23/25\n",
            "391/391 [==============================] - 2s 6ms/step - loss: 2.0196 - accuracy: 0.2093\n",
            "Epoch 24/25\n",
            "391/391 [==============================] - 2s 6ms/step - loss: 2.0210 - accuracy: 0.2062\n",
            "Epoch 25/25\n",
            "391/391 [==============================] - 2s 6ms/step - loss: 2.0214 - accuracy: 0.2086\n"
          ]
        },
        {
          "output_type": "execute_result",
          "data": {
            "text/plain": [
              "<keras.callbacks.History at 0x7fbfd83ab890>"
            ]
          },
          "metadata": {},
          "execution_count": 8
        }
      ]
    },
    {
      "cell_type": "code",
      "source": [
        "score_n = model.evaluate(x_train, y_train)\n",
        "print('Train Loss:', score_n[0])\n",
        "print('Train Accuracy:', score_n[1])"
      ],
      "metadata": {
        "colab": {
          "base_uri": "https://localhost:8080/"
        },
        "id": "52_v-xhFZVi9",
        "outputId": "6d63e037-abca-4306-d937-b5c0cb8a11a5"
      },
      "execution_count": null,
      "outputs": [
        {
          "output_type": "stream",
          "name": "stdout",
          "text": [
            "1563/1563 [==============================] - 3s 2ms/step - loss: 2.0127 - accuracy: 0.2100\n",
            "Train Loss: 2.012709379196167\n",
            "Train Accuracy: 0.2100200057029724\n"
          ]
        }
      ]
    },
    {
      "cell_type": "code",
      "source": [
        "score_n = model.evaluate(x_test, y_test)\n",
        "print('Test Loss:', score_n[0])\n",
        "print('Test Accuracy:', score_n[1])"
      ],
      "metadata": {
        "id": "QJu4ZXlL7xhV",
        "colab": {
          "base_uri": "https://localhost:8080/"
        },
        "outputId": "7760a514-78bc-4a47-f491-d2f6ddac351e"
      },
      "execution_count": null,
      "outputs": [
        {
          "output_type": "stream",
          "name": "stdout",
          "text": [
            "313/313 [==============================] - 1s 2ms/step - loss: 2.0129 - accuracy: 0.2084\n",
            "Test Loss: 2.0129024982452393\n",
            "Test Accuracy: 0.20839999616146088\n"
          ]
        }
      ]
    },
    {
      "cell_type": "markdown",
      "source": [
        "**2.4a Comparison of feed forward network and LeNet Convolutional Neural Network performance**"
      ],
      "metadata": {
        "id": "OS5C0dePZ33D"
      }
    },
    {
      "cell_type": "code",
      "source": [
        "# Assign Data\n",
        "mydata = [[\"Train Loss\", 0.10827234387397766, 2.012709379196167],\n",
        "          [\"Train Accuracy\", 0.9634400010108948, 0.2100200057029724],\n",
        "          [\"Test Loss\", 2.5370664596557617, 2.0129024982452393],\n",
        "          [\"Test Accuracy\", 0.6452000141143799, 0.20839999616146088],\n",
        "          [\"Total params\", 697046, 31604],\n",
        "          [\"Trainable params\", 697046, 31604]]\n",
        "head = [\"\", \"LeNet Convolutional Neural Network\", \"Feed forward network\"]\n",
        "# Display Table\n",
        "print(tabulate(mydata, headers=head, tablefmt=\"grid\", numalign=\"center\"))"
      ],
      "metadata": {
        "colab": {
          "base_uri": "https://localhost:8080/"
        },
        "id": "SBMyBGejaECH",
        "outputId": "0f219359-f8eb-4fdd-b1d6-6dca87360ed5"
      },
      "execution_count": null,
      "outputs": [
        {
          "output_type": "stream",
          "name": "stdout",
          "text": [
            "+------------------+--------------------------------------+------------------------+\n",
            "|                  |  LeNet Convolutional Neural Network  |  Feed forward network  |\n",
            "+==================+======================================+========================+\n",
            "| Train Loss       |               0.108272               |        2.01271         |\n",
            "+------------------+--------------------------------------+------------------------+\n",
            "| Train Accuracy   |               0.96344                |        0.21002         |\n",
            "+------------------+--------------------------------------+------------------------+\n",
            "| Test Loss        |               2.53707                |         2.0129         |\n",
            "+------------------+--------------------------------------+------------------------+\n",
            "| Test Accuracy    |                0.6452                |         0.2084         |\n",
            "+------------------+--------------------------------------+------------------------+\n",
            "| Total params     |                697046                |         31604          |\n",
            "+------------------+--------------------------------------+------------------------+\n",
            "| Trainable params |                697046                |         31604          |\n",
            "+------------------+--------------------------------------+------------------------+\n"
          ]
        }
      ]
    },
    {
      "cell_type": "markdown",
      "source": [
        "#####Based on the above results, Feed forward network performances very poor compared to LeNet. LeNet Convolutional Neural Network with same hyperparameters got 0.96344 training set accuarcy while feed forward network got only 0.21002. Moreover, LeNet has more than 22 times more parameters (697046) than Feed forward network (31604). <br>\n",
        "#####So, it makes sense to use LeNet over feed forward network. For my case, feed forward network is not worth it."
      ],
      "metadata": {
        "id": "D-0btKUEY2CO"
      }
    },
    {
      "cell_type": "markdown",
      "source": [
        "**Problem 3**"
      ],
      "metadata": {
        "id": "taEv8ONd3aDg"
      }
    },
    {
      "cell_type": "markdown",
      "source": [
        "#####Consider the below matrices as input (X) and convolutional kernel f. Consider that the depth of the input is 1.\n",
        "$$\n",
        "X = \\begin{pmatrix}\n",
        "7 & 5 & 0 & 0 & 3 & 2\\\\\n",
        "6 & 4 & 5 & 1 & 4 & 8\\\\\n",
        "9 & 0 & 2 & 2 & 5 & 4\\\\\n",
        "6 & 3 & 4 & 7 & 9 & 8\\\\\n",
        "5 & 7 & 5 & 6 & 9 & 0\\\\\n",
        "7 & 9 & 0 & 8 & 2 & 3\n",
        "\\end{pmatrix}\n",
        "$$\n",
        "\n",
        "$$\n",
        "f = \\begin{pmatrix}\n",
        "1 & 0 & -1\\\\\n",
        "2 & 0 & -2\\\\\n",
        "1 & 0 & -1\n",
        "\\end{pmatrix}\n",
        "$$\n",
        "\n",
        "#####Compute the following:\n",
        "\n",
        "1.   What are the dimensions of the input and the kernel (or filter)? How many parameters are there in the kernel f?\n",
        "1.   What is the output activation map when you apply the convolutional operation using the filter f on the input X without padding?\n",
        "2.   What is the output when you apply a max-pooling operation on the output from the previous question?\n",
        "\n",
        "#####Note: For parts 2 and 3 in question 3, please provide the actual output. You can work this one out by hand or write your own code to do it. Provide documentation of how you got the outputs.\n",
        "\n"
      ],
      "metadata": {
        "id": "lzqViR3V3eiT"
      }
    },
    {
      "cell_type": "markdown",
      "source": [
        "**Solution 3**"
      ],
      "metadata": {
        "id": "T1t7so575Zgb"
      }
    },
    {
      "cell_type": "markdown",
      "source": [
        "**Dimensions of the input and the kernel**"
      ],
      "metadata": {
        "id": "CCC8asmfg81k"
      }
    },
    {
      "cell_type": "markdown",
      "source": [
        "#####Dimensions of the input is $6*6*1$ , here $1$ is the depth and the kernel is $3*3$"
      ],
      "metadata": {
        "id": "rzRfWXq3hOXF"
      }
    },
    {
      "cell_type": "markdown",
      "source": [
        "**Number of parameters in the kernel f**"
      ],
      "metadata": {
        "id": "AJnYwl2Nhy7n"
      }
    },
    {
      "cell_type": "markdown",
      "source": [
        "#####Taking the number of kernals is 1, <br>\n",
        "$3*3*1+1=10$ <br>\n",
        "So, there will be $10$ parameters."
      ],
      "metadata": {
        "id": "iNz67801h25Z"
      }
    },
    {
      "cell_type": "markdown",
      "source": [
        "**Output activation map without padding**"
      ],
      "metadata": {
        "id": "U3NysibYi4ax"
      }
    },
    {
      "cell_type": "markdown",
      "source": [
        "#####The output size without padding is  known from \n",
        "\\begin{align}\n",
        "        \\frac{(N - F)}{stride}+1\n",
        "    \\end{align}\n",
        "#####where, N = input size, F = filter size,\n",
        "#####If we take stride is 1, then, the output activation will be $4*4*1$ as\n",
        "\\begin{align}\n",
        "        \\frac{(6 - 3)}{1}+1 = 4\n",
        "    \\end{align}\n",
        "#####Now, performing first convolutional operation:\n",
        "\\begin{align}\n",
        "        \\begin{pmatrix}\n",
        "            7 & 5 & 0\\\\\n",
        "            6 & 4 & 5\\\\\n",
        "            9 & 0 & 2\\\\\n",
        "            \\end{pmatrix} *\n",
        "            \\begin{pmatrix}\n",
        "              1 & 0 & -1\\\\\n",
        "              2 & 0 & -2\\\\\n",
        "              1 & 0 & -1\n",
        "\\end{pmatrix}=7*1+5*0+0*(-1)+6*2+4*0+5*(-2)+9*1+0*0+2*(-1)= 16\n",
        "    \\end{align}\n",
        "#####Similarly,\n",
        "\\begin{align}\n",
        "        \\begin{pmatrix}\n",
        "            5 & 0 & 0\\\\\n",
        "            4 & 5 & 1\\\\\n",
        "            0 & 2 & 2\\\\\n",
        "            \\end{pmatrix} *\n",
        "            \\begin{pmatrix}\n",
        "              1 & 0 & -1\\\\\n",
        "              2 & 0 & -2\\\\\n",
        "              1 & 0 & -1\n",
        "\\end{pmatrix}=5*1+0*0+0*(-1)+4*2+5*0+1*(-2)+0*1+2*0+2*(-1)= 9\n",
        "    \\end{align}\n",
        "\\begin{align}\n",
        "        \\begin{pmatrix}\n",
        "            0 & 0 & 3\\\\\n",
        "            5 & 1 & 4\\\\\n",
        "            2 & 2 & 5\\\\\n",
        "            \\end{pmatrix} *\n",
        "            \\begin{pmatrix}\n",
        "              1 & 0 & -1\\\\\n",
        "              2 & 0 & -2\\\\\n",
        "              1 & 0 & -1\n",
        "\\end{pmatrix}=0*1+0*0+3*(-1)+5*2+1*0+4*(-2)+2*1+2*0+5*(-1)= -4\n",
        "    \\end{align}\n",
        "\\begin{align}\n",
        "        \\begin{pmatrix}\n",
        "            0 & 3 & 2\\\\\n",
        "            1 & 4 & 8\\\\\n",
        "            2 & 5 & 4\\\\\n",
        "            \\end{pmatrix} *\n",
        "            \\begin{pmatrix}\n",
        "              1 & 0 & -1\\\\\n",
        "              2 & 0 & -2\\\\\n",
        "              1 & 0 & -1\n",
        "\\end{pmatrix}=0*1+3*0+2*(-1)+1*2+4*0+8*(-2)+2*1+5*0+4*(-1)= -18\n",
        "    \\end{align}\n",
        "\\begin{align}\n",
        "        \\begin{pmatrix}\n",
        "            6 & 4 & 5\\\\\n",
        "            9 & 0 & 2\\\\\n",
        "            6 & 3 & 4\\\\\n",
        "            \\end{pmatrix} *\n",
        "            \\begin{pmatrix}\n",
        "              1 & 0 & -1\\\\\n",
        "              2 & 0 & -2\\\\\n",
        "              1 & 0 & -1\n",
        "\\end{pmatrix}=6*1+4*0+5*(-1)+9*2+0*0+2*(-2)+6*1+3*0+4*(-1)= 17\n",
        "    \\end{align}\n",
        "\\begin{align}\n",
        "        \\begin{pmatrix}\n",
        "            4 & 5 & 1\\\\\n",
        "            0 & 2 & 2\\\\\n",
        "            3 & 4 & 7\\\\\n",
        "            \\end{pmatrix} *\n",
        "            \\begin{pmatrix}\n",
        "              1 & 0 & -1\\\\\n",
        "              2 & 0 & -2\\\\\n",
        "              1 & 0 & -1\n",
        "\\end{pmatrix}=4*1+5*0+1*(-1)+0*2+2*0+2*(-2)+3*1+4*0+7*(-1)= -5\n",
        "    \\end{align}\n",
        "\\begin{align}\n",
        "        \\begin{pmatrix}\n",
        "            5 & 1 & 4\\\\\n",
        "            2 & 2 & 5\\\\\n",
        "            4 & 7 & 9\\\\\n",
        "            \\end{pmatrix} *\n",
        "            \\begin{pmatrix}\n",
        "              1 & 0 & -1\\\\\n",
        "              2 & 0 & -2\\\\\n",
        "              1 & 0 & -1\n",
        "\\end{pmatrix}=5*1+1*0+4*(-1)+2*2+2*0+5*(-2)+4*1+7*0+9*(-1)= -10\n",
        "    \\end{align}\n",
        "\\begin{align}\n",
        "        \\begin{pmatrix}\n",
        "            1 & 4 & 8\\\\\n",
        "            2 & 5 & 4\\\\\n",
        "            7 & 9 & 8\\\\\n",
        "            \\end{pmatrix} *\n",
        "            \\begin{pmatrix}\n",
        "              1 & 0 & -1\\\\\n",
        "              2 & 0 & -2\\\\\n",
        "              1 & 0 & -1\n",
        "\\end{pmatrix}=1*1+4*0+8*(-1)+2*2+5*0+4*(-2)+7*1+9*0+8*(-1)= -12\n",
        "    \\end{align}\n",
        "\\begin{align}\n",
        "        \\begin{pmatrix}\n",
        "            9 & 0 & 2\\\\\n",
        "            6 & 3 & 4\\\\\n",
        "            5 & 7 & 5\\\\\n",
        "            \\end{pmatrix} *\n",
        "            \\begin{pmatrix}\n",
        "              1 & 0 & -1\\\\\n",
        "              2 & 0 & -2\\\\\n",
        "              1 & 0 & -1\n",
        "\\end{pmatrix}=9*1+0*0+2*(-1)+6*2+3*0+4*(-2)+5*1+7*0+5*(-1)= 11\n",
        "    \\end{align}\n",
        "\\begin{align}\n",
        "        \\begin{pmatrix}\n",
        "            0 & 2 & 2\\\\\n",
        "            3 & 4 & 7\\\\\n",
        "            7 & 5 & 6\\\\\n",
        "            \\end{pmatrix} *\n",
        "            \\begin{pmatrix}\n",
        "              1 & 0 & -1\\\\\n",
        "              2 & 0 & -2\\\\\n",
        "              1 & 0 & -1\n",
        "\\end{pmatrix}=0*1+2*0+2*(-1)+3*2+4*0+7*(-2)+7*1+5*0+6*(-1)= -9\n",
        "    \\end{align}\n",
        "\\begin{align}\n",
        "        \\begin{pmatrix}\n",
        "            2 & 2 & 5\\\\\n",
        "            4 & 7 & 9\\\\\n",
        "            5 & 6 & 9\\\\\n",
        "            \\end{pmatrix} *\n",
        "            \\begin{pmatrix}\n",
        "              1 & 0 & -1\\\\\n",
        "              2 & 0 & -2\\\\\n",
        "              1 & 0 & -1\n",
        "\\end{pmatrix}=2*1+2*0+5*(-1)+4*2+7*0+9*(-2)+5*1+6*0+9*(-1)= -17\n",
        "    \\end{align}\n",
        "\\begin{align}\n",
        "        \\begin{pmatrix}\n",
        "            2 & 5 & 4\\\\\n",
        "            7 & 9 & 8\\\\\n",
        "            6 & 9 & 0\\\\\n",
        "            \\end{pmatrix} *\n",
        "            \\begin{pmatrix}\n",
        "              1 & 0 & -1\\\\\n",
        "              2 & 0 & -2\\\\\n",
        "              1 & 0 & -1\n",
        "\\end{pmatrix}=2*1+5*0+4*(-1)+7*2+9*0+8*(-2)+6*1+9*0+0*(-1)= 2\n",
        "    \\end{align}\n",
        "\\begin{align}\n",
        "        \\begin{pmatrix}\n",
        "            6 & 3 & 4\\\\\n",
        "            5 & 7 & 5\\\\\n",
        "            7 & 9 & 0\\\\\n",
        "            \\end{pmatrix} *\n",
        "            \\begin{pmatrix}\n",
        "              1 & 0 & -1\\\\\n",
        "              2 & 0 & -2\\\\\n",
        "              1 & 0 & -1\n",
        "\\end{pmatrix}=6*1+3*0+4*(-1)+5*2+7*0+5*(-2)+7*1+9*0+0*(-1)= 9\n",
        "    \\end{align}\n",
        "\\begin{align}\n",
        "        \\begin{pmatrix}\n",
        "            3 & 4 & 7\\\\\n",
        "            7 & 5 & 6\\\\\n",
        "            9 & 0 & 8\\\\\n",
        "            \\end{pmatrix} *\n",
        "            \\begin{pmatrix}\n",
        "              1 & 0 & -1\\\\\n",
        "              2 & 0 & -2\\\\\n",
        "              1 & 0 & -1\n",
        "\\end{pmatrix}=3*1+4*0+7*(-1)+7*2+5*0+6*(-2)+9*1+0*0+8*(-1)= -1\n",
        "    \\end{align}\n",
        "\\begin{align}\n",
        "        \\begin{pmatrix}\n",
        "            4 & 7 & 9\\\\\n",
        "            5 & 6 & 9\\\\\n",
        "            0 & 8 & 2\\\\\n",
        "            \\end{pmatrix} *\n",
        "            \\begin{pmatrix}\n",
        "              1 & 0 & -1\\\\\n",
        "              2 & 0 & -2\\\\\n",
        "              1 & 0 & -1\n",
        "\\end{pmatrix}=4*1+7*0+9*(-1)+5*2+6*0+9*(-2)+0*1+8*0+2*(-1)= -15\n",
        "    \\end{align}\n",
        "\\begin{align}\n",
        "        \\begin{pmatrix}\n",
        "            7 & 9 & 8\\\\\n",
        "            6 & 9 & 0\\\\\n",
        "            8 & 2 & 3\\\\\n",
        "            \\end{pmatrix} *\n",
        "            \\begin{pmatrix}\n",
        "              1 & 0 & -1\\\\\n",
        "              2 & 0 & -2\\\\\n",
        "              1 & 0 & -1\n",
        "\\end{pmatrix}=7*1+9*0+8*(-1)+6*2+9*0+0*(-2)+8*1+2*0+3*(-1)= 16\n",
        "    \\end{align}"
      ],
      "metadata": {
        "id": "_XdWv-7Si6hM"
      }
    },
    {
      "cell_type": "markdown",
      "source": [
        "So, the final activation map is  "
      ],
      "metadata": {
        "id": "GAHS19dLvHg3"
      }
    },
    {
      "cell_type": "code",
      "source": [
        "from tabulate import tabulate\n",
        "# Assign Data\n",
        "mydata = [[16,9,-4,-18],[17,-5,-10,-12],[11,-9,-17,2],[9,-1,-15,16]]\n",
        "\n",
        "print(tabulate(mydata, tablefmt=\"grid\", numalign=\"center\"))"
      ],
      "metadata": {
        "colab": {
          "base_uri": "https://localhost:8080/"
        },
        "id": "EB8wmNvYv-Ah",
        "outputId": "4a0cee4a-272a-41e1-b85d-2f3c1b366e12"
      },
      "execution_count": null,
      "outputs": [
        {
          "output_type": "stream",
          "name": "stdout",
          "text": [
            "+----+----+-----+-----+\n",
            "| 16 | 9  | -4  | -18 |\n",
            "+----+----+-----+-----+\n",
            "| 17 | -5 | -10 | -12 |\n",
            "+----+----+-----+-----+\n",
            "| 11 | -9 | -17 |  2  |\n",
            "+----+----+-----+-----+\n",
            "| 9  | -1 | -15 | 16  |\n",
            "+----+----+-----+-----+\n"
          ]
        }
      ]
    },
    {
      "cell_type": "markdown",
      "source": [
        "**Output activation map with a max-pooling operation**"
      ],
      "metadata": {
        "id": "FEJh_MzNyLJp"
      }
    },
    {
      "cell_type": "markdown",
      "source": [
        "#####Lets take a pooling with size $2*2$ (Stide = $2$)\n",
        "#####So, our output becomes:"
      ],
      "metadata": {
        "id": "suvOIS_rylEz"
      }
    },
    {
      "cell_type": "code",
      "source": [
        "mydata_1 = [[16,9],[17,-5]]\n",
        "mydata_2 = [[-4,-18],[-10,-12]]\n",
        "mydata_3 = [[11,-9],[9,-1]]\n",
        "mydata_4 = [[-17,2],[-15,16]]\n",
        "\n",
        "print(tabulate(mydata_1, tablefmt=\"grid\", numalign=\"center\"))\n",
        "print(\"maximum value is:\", 17)\n",
        "print(tabulate(mydata_2, tablefmt=\"grid\", numalign=\"center\"))\n",
        "print(\"maximum value is:\", -4)\n",
        "print(tabulate(mydata_3, tablefmt=\"grid\", numalign=\"center\"))\n",
        "print(\"maximum value is:\", 11)\n",
        "print(tabulate(mydata_4, tablefmt=\"grid\", numalign=\"center\"))\n",
        "print(\"maximum value is:\", 16)"
      ],
      "metadata": {
        "colab": {
          "base_uri": "https://localhost:8080/"
        },
        "id": "r57VuSukzTdn",
        "outputId": "24fe3635-d0e0-4027-95e4-89b2c88d269d"
      },
      "execution_count": null,
      "outputs": [
        {
          "output_type": "stream",
          "name": "stdout",
          "text": [
            "+----+----+\n",
            "| 16 | 9  |\n",
            "+----+----+\n",
            "| 17 | -5 |\n",
            "+----+----+\n",
            "maximum value is: 17\n",
            "+-----+-----+\n",
            "| -4  | -18 |\n",
            "+-----+-----+\n",
            "| -10 | -12 |\n",
            "+-----+-----+\n",
            "maximum value is: -4\n",
            "+----+----+\n",
            "| 11 | -9 |\n",
            "+----+----+\n",
            "| 9  | -1 |\n",
            "+----+----+\n",
            "maximum value is: 11\n",
            "+-----+----+\n",
            "| -17 | 2  |\n",
            "+-----+----+\n",
            "| -15 | 16 |\n",
            "+-----+----+\n",
            "maximum value is: 16\n"
          ]
        }
      ]
    },
    {
      "cell_type": "markdown",
      "source": [
        "So, the final output is"
      ],
      "metadata": {
        "id": "us8Tkzx_2cYr"
      }
    },
    {
      "cell_type": "code",
      "source": [
        "my_output = [[17,-4],[11,16]]\n",
        "\n",
        "print(tabulate(my_output, tablefmt=\"grid\", numalign=\"center\"))"
      ],
      "metadata": {
        "colab": {
          "base_uri": "https://localhost:8080/"
        },
        "id": "suPjQm142bN0",
        "outputId": "2ba7459a-d514-4633-b484-7558032a41de"
      },
      "execution_count": null,
      "outputs": [
        {
          "output_type": "stream",
          "name": "stdout",
          "text": [
            "+----+----+\n",
            "| 17 | -4 |\n",
            "+----+----+\n",
            "| 11 | 16 |\n",
            "+----+----+\n"
          ]
        }
      ]
    }
  ]
}