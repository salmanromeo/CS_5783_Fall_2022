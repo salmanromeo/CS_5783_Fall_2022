{
  "nbformat": 4,
  "nbformat_minor": 0,
  "metadata": {
    "colab": {
      "provenance": [],
      "collapsed_sections": [],
      "authorship_tag": "ABX9TyPY0cYhdEcHUyQEZW2vOETy",
      "include_colab_link": true
    },
    "kernelspec": {
      "name": "python3",
      "display_name": "Python 3"
    },
    "language_info": {
      "name": "python"
    },
    "accelerator": "GPU",
    "gpuClass": "standard"
  },
  "cells": [
    {
      "cell_type": "markdown",
      "metadata": {
        "id": "view-in-github",
        "colab_type": "text"
      },
      "source": [
        "<a href=\"https://colab.research.google.com/github/salmanromeo/CS_5783_Machine_Learning_Fall_2022/blob/main/CS_5783_Fall_2022_Assignment_3_Deep_learning/CS_5783_Fall_2022_Assignment_3_Deep_learning_Q1_Glass.ipynb\" target=\"_parent\"><img src=\"https://colab.research.google.com/assets/colab-badge.svg\" alt=\"Open In Colab\"/></a>"
      ]
    },
    {
      "cell_type": "markdown",
      "source": [
        "**Problem 1**"
      ],
      "metadata": {
        "id": "FvZL5B71lHCg"
      }
    },
    {
      "cell_type": "markdown",
      "source": [
        "#####Design a convolutional neural network in Keras of at least 10 convolutional layers. Use the MNIST dataset for evaluation. You must try three designs as detailed below and provide your observations on the performance of each:\n",
        "1.   A regular CNN where the number of filters in each layer increases as the depth of the \n",
        "network grows i.e., the Lth layer will have more filters than the (L-1)th layer.\n",
        "2.   An inverted CNN where the number of filters in each layer decreases as the depth of the network grows i.e., the Lth layer will have less filters than the (L-1)th layer.\n",
        "1.   An hour-glass shaped CNN where the number of filters will increase till the Lth layer and reduce afterwards.\n",
        "\n",
        "#####Your goal is to design these networks and optimize them to their best performance by choosing the right hyperparameters for each network, such as the learning rate, batch size and the choice of optimizer (‘SGD’, ‘adam’, ‘RMSProp’). You must provide a detailed report of what values you tried for each hyperparameters, your observations on why the network performed well (or not) and the final accuracy for each network on the MNIST dataset.\n",
        "\n",
        "#####You can refer to the Keras documentation for more details.\n",
        "\n",
        "\n"
      ],
      "metadata": {
        "id": "AAQkJblMlSAj"
      }
    },
    {
      "cell_type": "markdown",
      "source": [
        "**Solution 1**"
      ],
      "metadata": {
        "id": "HU_fpCECl0Ot"
      }
    },
    {
      "cell_type": "markdown",
      "source": [
        "**Libraries**"
      ],
      "metadata": {
        "id": "3_r9qdntotR5"
      }
    },
    {
      "cell_type": "code",
      "source": [
        "from datetime import datetime\n",
        "from packaging import version\n",
        "\n",
        "import numpy as np\n",
        "import matplotlib.pyplot as plt\n",
        "from tensorflow import keras\n",
        "import tensorflow as tf"
      ],
      "metadata": {
        "id": "r6NFejZhlzaJ"
      },
      "execution_count": 1,
      "outputs": []
    },
    {
      "cell_type": "markdown",
      "source": [
        "**Loading Data**"
      ],
      "metadata": {
        "id": "UL9SKcnuo5t8"
      }
    },
    {
      "cell_type": "code",
      "source": [
        "(train_images, train_labels), (test_images, test_labels) = keras.datasets.mnist.load_data()\n",
        "train_images = train_images / 255.0\n",
        "test_images = test_images / 255.0 \n",
        "train_images = np.expand_dims(train_images, axis=-1)\n",
        "test_images = np.expand_dims(test_images, axis=-1)\n",
        "print(train_images.shape)\n",
        "\n",
        "# Add an additional dimension to represent the single-channel\n",
        "x_train = train_images.reshape(-1, 28, 28, 1)\n",
        "x_test = test_images.reshape(-1, 28, 28, 1)\n",
        "x_train = train_images.reshape(-1, 28, 28, 1)\n",
        "x_test = test_images.reshape(-1, 28, 28, 1)"
      ],
      "metadata": {
        "colab": {
          "base_uri": "https://localhost:8080/"
        },
        "id": "n9iD2d92o8Uq",
        "outputId": "618816f4-d31a-430f-8f3a-95e0c2d0f221"
      },
      "execution_count": 2,
      "outputs": [
        {
          "output_type": "stream",
          "name": "stdout",
          "text": [
            "Downloading data from https://storage.googleapis.com/tensorflow/tf-keras-datasets/mnist.npz\n",
            "11490434/11490434 [==============================] - 0s 0us/step\n",
            "(60000, 28, 28, 1)\n"
          ]
        }
      ]
    },
    {
      "cell_type": "markdown",
      "source": [
        "**Plotting**"
      ],
      "metadata": {
        "id": "jQMTE8eVpCwo"
      }
    },
    {
      "cell_type": "code",
      "source": [
        "# Plotting\n",
        "fig, ax = plt.subplots(2,5,figsize = (20, 10))\n",
        "fig.suptitle('Train Images')\n",
        "ax = ax.flatten()\n",
        "for i in range(10):\n",
        "    im_idx = np.argwhere(train_labels == i)[0]\n",
        "    ax[i].set(xlabel='x', ylabel='y')\n",
        "    plt.setp(ax, xticks=[0, 27], yticks=[0, 27])\n",
        "    plottable_image = np.reshape(train_images[im_idx], (28, 28))\n",
        "    ax[i].imshow(plottable_image, cmap='gray')"
      ],
      "metadata": {
        "colab": {
          "base_uri": "https://localhost:8080/",
          "height": 650
        },
        "id": "YGhOZq_OpFMH",
        "outputId": "2463b600-fc29-49ae-c831-262fe57d0529"
      },
      "execution_count": 3,
      "outputs": [
        {
          "output_type": "display_data",
          "data": {
            "text/plain": [
              "<Figure size 1440x720 with 10 Axes>"
            ],
            "image/png": "[encoded data removed]"
          },
          "metadata": {
            "needs_background": "light"
          }
        }
      ]
    },
    {
      "cell_type": "markdown",
      "source": [
        "**1.3 Hour-glass shaped CNN**"
      ],
      "metadata": {
        "id": "RTjJevDJqzdS"
      }
    },
    {
      "cell_type": "code",
      "source": [
        "cnn_model_g = tf.keras.models.Sequential()\n",
        "cnn_model_g.add(tf.keras.layers.Conv2D(64, (3, 3), padding='same', activation='relu'))\n",
        "cnn_model_g.add(tf.keras.layers.Conv2D(64, (3, 3), strides=(2, 2), padding='same', activation='relu'))\n",
        "cnn_model_g.add(tf.keras.layers.MaxPooling2D(pool_size=(2, 2), strides=(2,2), padding='same'))\n",
        "cnn_model_g.add(tf.keras.layers.Conv2D(128, (3, 3), padding='same', activation='relu'))\n",
        "cnn_model_g.add(tf.keras.layers.Conv2D(128, (3, 3), strides=(2, 2), padding='same', activation='relu'))\n",
        "cnn_model_g.add(tf.keras.layers.MaxPooling2D(pool_size=(2, 2), strides=(2,2),padding='same'))\n",
        "cnn_model_g.add(tf.keras.layers.Conv2D(256, (3, 3), padding='same', activation='relu'))\n",
        "cnn_model_g.add(tf.keras.layers.Conv2D(256, (3, 3), strides=(2, 2), padding='same', activation='relu'))\n",
        "cnn_model_g.add(tf.keras.layers.MaxPooling2D(pool_size=(2, 2), strides=(2,2),padding='same'))\n",
        "cnn_model_g.add(tf.keras.layers.Conv2D(128, (3, 3), padding='same', activation='relu'))\n",
        "cnn_model_g.add(tf.keras.layers.Conv2D(128, (3, 3), strides=(2, 2), padding='same', activation='relu'))\n",
        "cnn_model_g.add(tf.keras.layers.MaxPooling2D(pool_size=(2, 2), strides=(2,2),padding='same'))\n",
        "cnn_model_g.add(tf.keras.layers.Conv2D(64, (3, 3), padding='same', activation='relu'))\n",
        "cnn_model_g.add(tf.keras.layers.MaxPooling2D(pool_size=(2, 2), strides=(2,2),padding='same'))\n",
        "cnn_model_g.add(tf.keras.layers.Conv2D(64, (3, 3), strides=(2, 2), padding='same', activation='relu'))\n",
        "\n",
        "cnn_model_g.add(tf.keras.layers.Flatten())\n",
        "cnn_model_g.add(tf.keras.layers.Dense(512))\n",
        "cnn_model_g.add(tf.keras.layers.Activation('relu'))\n",
        "cnn_model_g.add(tf.keras.layers.Dense(10))\n",
        "cnn_model_g.add(tf.keras.layers.Activation('softmax'))\n",
        "\n",
        "cnn_model_g.compile(loss='sparse_categorical_crossentropy', optimizer=keras.optimizers.Adam(learning_rate=0.001), metrics=['accuracy'])\n",
        "cnn_model_g.build(input_shape=(1,28,28,1))\n",
        "cnn_model_g.summary()\n",
        "\n",
        "model_cnn_g = cnn_model_g\n",
        "history_cnn_g = model_cnn_g.fit(x_train, train_labels, validation_split = 0.2, batch_size=512, epochs=25)"
      ],
      "metadata": {
        "colab": {
          "base_uri": "https://localhost:8080/"
        },
        "id": "PcHbCrmXrRKg",
        "outputId": "206a87b9-f858-4f65-8710-b863328a833e"
      },
      "execution_count": 4,
      "outputs": [
        {
          "output_type": "stream",
          "name": "stdout",
          "text": [
            "Model: \"sequential\"\n",
            "_________________________________________________________________\n",
            " Layer (type)                Output Shape              Param #   \n",
            "=================================================================\n",
            " conv2d (Conv2D)             (1, 28, 28, 64)           640       \n",
            "                                                                 \n",
            " conv2d_1 (Conv2D)           (1, 14, 14, 64)           36928     \n",
            "                                                                 \n",
            " max_pooling2d (MaxPooling2D  (1, 7, 7, 64)            0         \n",
            " )                                                               \n",
            "                                                                 \n",
            " conv2d_2 (Conv2D)           (1, 7, 7, 128)            73856     \n",
            "                                                                 \n",
            " conv2d_3 (Conv2D)           (1, 4, 4, 128)            147584    \n",
            "                                                                 \n",
            " max_pooling2d_1 (MaxPooling  (1, 2, 2, 128)           0         \n",
            " 2D)                                                             \n",
            "                                                                 \n",
            " conv2d_4 (Conv2D)           (1, 2, 2, 256)            295168    \n",
            "                                                                 \n",
            " conv2d_5 (Conv2D)           (1, 1, 1, 256)            590080    \n",
            "                                                                 \n",
            " max_pooling2d_2 (MaxPooling  (1, 1, 1, 256)           0         \n",
            " 2D)                                                             \n",
            "                                                                 \n",
            " conv2d_6 (Conv2D)           (1, 1, 1, 128)            295040    \n",
            "                                                                 \n",
            " conv2d_7 (Conv2D)           (1, 1, 1, 128)            147584    \n",
            "                                                                 \n",
            " max_pooling2d_3 (MaxPooling  (1, 1, 1, 128)           0         \n",
            " 2D)                                                             \n",
            "                                                                 \n",
            " conv2d_8 (Conv2D)           (1, 1, 1, 64)             73792     \n",
            "                                                                 \n",
            " max_pooling2d_4 (MaxPooling  (1, 1, 1, 64)            0         \n",
            " 2D)                                                             \n",
            "                                                                 \n",
            " conv2d_9 (Conv2D)           (1, 1, 1, 64)             36928     \n",
            "                                                                 \n",
            " flatten (Flatten)           (1, 64)                   0         \n",
            "                                                                 \n",
            " dense (Dense)               (1, 512)                  33280     \n",
            "                                                                 \n",
            " activation (Activation)     (1, 512)                  0         \n",
            "                                                                 \n",
            " dense_1 (Dense)             (1, 10)                   5130      \n",
            "                                                                 \n",
            " activation_1 (Activation)   (1, 10)                   0         \n",
            "                                                                 \n",
            "=================================================================\n",
            "Total params: 1,736,010\n",
            "Trainable params: 1,736,010\n",
            "Non-trainable params: 0\n",
            "_________________________________________________________________\n",
            "Epoch 1/25\n",
            "94/94 [==============================] - 16s 62ms/step - loss: 1.5811 - accuracy: 0.4030 - val_loss: 0.6187 - val_accuracy: 0.7862\n",
            "Epoch 2/25\n",
            "94/94 [==============================] - 4s 44ms/step - loss: 0.3292 - accuracy: 0.8989 - val_loss: 0.1609 - val_accuracy: 0.9517\n",
            "Epoch 3/25\n",
            "94/94 [==============================] - 4s 44ms/step - loss: 0.1383 - accuracy: 0.9603 - val_loss: 0.1106 - val_accuracy: 0.9672\n",
            "Epoch 4/25\n",
            "94/94 [==============================] - 4s 44ms/step - loss: 0.0903 - accuracy: 0.9740 - val_loss: 0.0806 - val_accuracy: 0.9770\n",
            "Epoch 5/25\n",
            "94/94 [==============================] - 4s 44ms/step - loss: 0.0665 - accuracy: 0.9809 - val_loss: 0.0722 - val_accuracy: 0.9786\n",
            "Epoch 6/25\n",
            "94/94 [==============================] - 5s 48ms/step - loss: 0.0530 - accuracy: 0.9846 - val_loss: 0.0782 - val_accuracy: 0.9773\n",
            "Epoch 7/25\n",
            "94/94 [==============================] - 5s 53ms/step - loss: 0.0447 - accuracy: 0.9868 - val_loss: 0.0804 - val_accuracy: 0.9772\n",
            "Epoch 8/25\n",
            "94/94 [==============================] - 4s 46ms/step - loss: 0.0372 - accuracy: 0.9891 - val_loss: 0.0669 - val_accuracy: 0.9817\n",
            "Epoch 9/25\n",
            "94/94 [==============================] - 4s 44ms/step - loss: 0.0301 - accuracy: 0.9913 - val_loss: 0.0543 - val_accuracy: 0.9858\n",
            "Epoch 10/25\n",
            "94/94 [==============================] - 4s 44ms/step - loss: 0.0252 - accuracy: 0.9924 - val_loss: 0.0606 - val_accuracy: 0.9839\n",
            "Epoch 11/25\n",
            "94/94 [==============================] - 4s 48ms/step - loss: 0.0212 - accuracy: 0.9939 - val_loss: 0.0474 - val_accuracy: 0.9878\n",
            "Epoch 12/25\n",
            "94/94 [==============================] - 4s 44ms/step - loss: 0.0196 - accuracy: 0.9940 - val_loss: 0.0603 - val_accuracy: 0.9862\n",
            "Epoch 13/25\n",
            "94/94 [==============================] - 4s 47ms/step - loss: 0.0184 - accuracy: 0.9944 - val_loss: 0.0540 - val_accuracy: 0.9867\n",
            "Epoch 14/25\n",
            "94/94 [==============================] - 4s 44ms/step - loss: 0.0149 - accuracy: 0.9956 - val_loss: 0.0614 - val_accuracy: 0.9852\n",
            "Epoch 15/25\n",
            "94/94 [==============================] - 4s 45ms/step - loss: 0.0166 - accuracy: 0.9956 - val_loss: 0.0581 - val_accuracy: 0.9871\n",
            "Epoch 16/25\n",
            "94/94 [==============================] - 4s 45ms/step - loss: 0.0162 - accuracy: 0.9953 - val_loss: 0.0540 - val_accuracy: 0.9869\n",
            "Epoch 17/25\n",
            "94/94 [==============================] - 5s 49ms/step - loss: 0.0089 - accuracy: 0.9974 - val_loss: 0.0601 - val_accuracy: 0.9872\n",
            "Epoch 18/25\n",
            "94/94 [==============================] - 5s 51ms/step - loss: 0.0121 - accuracy: 0.9964 - val_loss: 0.0578 - val_accuracy: 0.9873\n",
            "Epoch 19/25\n",
            "94/94 [==============================] - 5s 52ms/step - loss: 0.0125 - accuracy: 0.9964 - val_loss: 0.0512 - val_accuracy: 0.9883\n",
            "Epoch 20/25\n",
            "94/94 [==============================] - 4s 47ms/step - loss: 0.0083 - accuracy: 0.9976 - val_loss: 0.0578 - val_accuracy: 0.9871\n",
            "Epoch 21/25\n",
            "94/94 [==============================] - 5s 51ms/step - loss: 0.0080 - accuracy: 0.9978 - val_loss: 0.0535 - val_accuracy: 0.9878\n",
            "Epoch 22/25\n",
            "94/94 [==============================] - 5s 54ms/step - loss: 0.0096 - accuracy: 0.9973 - val_loss: 0.0514 - val_accuracy: 0.9880\n",
            "Epoch 23/25\n",
            "94/94 [==============================] - 5s 54ms/step - loss: 0.0087 - accuracy: 0.9976 - val_loss: 0.0550 - val_accuracy: 0.9888\n",
            "Epoch 24/25\n",
            "94/94 [==============================] - 5s 52ms/step - loss: 0.0091 - accuracy: 0.9975 - val_loss: 0.0545 - val_accuracy: 0.9886\n",
            "Epoch 25/25\n",
            "94/94 [==============================] - 5s 53ms/step - loss: 0.0124 - accuracy: 0.9964 - val_loss: 0.0545 - val_accuracy: 0.9888\n"
          ]
        }
      ]
    },
    {
      "cell_type": "code",
      "source": [
        "plt.plot(history_cnn_g.history['accuracy'])\n",
        "plt.plot(history_cnn_g.history['val_accuracy'])\n",
        "plt.title('Model Accuracy')\n",
        "plt.ylabel('Accuracy')\n",
        "plt.xlabel('Epoch')\n",
        "plt.legend(['Train', 'Val'], loc='upper left')\n",
        "plt.show()"
      ],
      "metadata": {
        "id": "41vzITadtgU7",
        "colab": {
          "base_uri": "https://localhost:8080/",
          "height": 295
        },
        "outputId": "ff5f20a9-0414-4d72-b571-9bedc66c1d9a"
      },
      "execution_count": 5,
      "outputs": [
        {
          "output_type": "display_data",
          "data": {
            "text/plain": [
              "<Figure size 432x288 with 1 Axes>"
            ],
            "image/png": "[encoded data removed]"
          },
          "metadata": {
            "needs_background": "light"
          }
        }
      ]
    },
    {
      "cell_type": "code",
      "source": [
        "score = model_cnn_g.evaluate(x_train, train_labels)\n",
        "print('Train loss:', score[0])\n",
        "print('Train accuracy:', score[1])"
      ],
      "metadata": {
        "id": "7FA4JKBJtXZw",
        "colab": {
          "base_uri": "https://localhost:8080/"
        },
        "outputId": "41cb92e1-9354-4252-907f-2a7f1bdd8348"
      },
      "execution_count": 6,
      "outputs": [
        {
          "output_type": "stream",
          "name": "stdout",
          "text": [
            "1875/1875 [==============================] - 8s 4ms/step - loss: 0.0169 - accuracy: 0.9958\n",
            "Train loss: 0.016877416521310806\n",
            "Train accuracy: 0.9958166480064392\n"
          ]
        }
      ]
    },
    {
      "cell_type": "code",
      "source": [
        "score = model_cnn_g.evaluate(x_test, test_labels)\n",
        "print('Test loss:', score[0])\n",
        "print('Test accuracy:', score[1])"
      ],
      "metadata": {
        "id": "enaKfNlVtSwu",
        "colab": {
          "base_uri": "https://localhost:8080/"
        },
        "outputId": "7c2ce226-b6f7-4b2f-feea-3025540d53de"
      },
      "execution_count": 7,
      "outputs": [
        {
          "output_type": "stream",
          "name": "stdout",
          "text": [
            "313/313 [==============================] - 2s 5ms/step - loss: 0.0427 - accuracy: 0.9890\n",
            "Test loss: 0.042658720165491104\n",
            "Test accuracy: 0.9890000224113464\n"
          ]
        }
      ]
    },
    {
      "cell_type": "markdown",
      "source": [
        "**Effect of learning rate on Hour-glass shaped CNN**"
      ],
      "metadata": {
        "id": "EA7e8chX74P4"
      }
    },
    {
      "cell_type": "code",
      "source": [
        "learningRate=[0.0001, 0.001, 0.01]\n",
        "acc=np.zeros(3)\n",
        "for i in range(len(learningRate)):\n",
        "  cnn_model_g = tf.keras.models.Sequential()\n",
        "  cnn_model_g.add(tf.keras.layers.Conv2D(64, (3, 3), padding='same', activation='relu'))\n",
        "  cnn_model_g.add(tf.keras.layers.Conv2D(64, (3, 3), strides=(2, 2), padding='same', activation='relu'))\n",
        "  cnn_model_g.add(tf.keras.layers.MaxPooling2D(pool_size=(2, 2), strides=(2,2), padding='same'))\n",
        "  cnn_model_g.add(tf.keras.layers.Conv2D(128, (3, 3), padding='same', activation='relu'))\n",
        "  cnn_model_g.add(tf.keras.layers.Conv2D(128, (3, 3), strides=(2, 2), padding='same', activation='relu'))\n",
        "  cnn_model_g.add(tf.keras.layers.MaxPooling2D(pool_size=(2, 2), strides=(2,2),padding='same'))\n",
        "  cnn_model_g.add(tf.keras.layers.Conv2D(256, (3, 3), padding='same', activation='relu'))\n",
        "  cnn_model_g.add(tf.keras.layers.Conv2D(256, (3, 3), strides=(2, 2), padding='same', activation='relu'))\n",
        "  cnn_model_g.add(tf.keras.layers.MaxPooling2D(pool_size=(2, 2), strides=(2,2),padding='same'))\n",
        "  cnn_model_g.add(tf.keras.layers.Conv2D(128, (3, 3), padding='same', activation='relu'))\n",
        "  cnn_model_g.add(tf.keras.layers.Conv2D(128, (3, 3), strides=(2, 2), padding='same', activation='relu'))\n",
        "  cnn_model_g.add(tf.keras.layers.MaxPooling2D(pool_size=(2, 2), strides=(2,2),padding='same'))\n",
        "  cnn_model_g.add(tf.keras.layers.Conv2D(64, (3, 3), padding='same', activation='relu'))\n",
        "  cnn_model_g.add(tf.keras.layers.MaxPooling2D(pool_size=(2, 2), strides=(2,2),padding='same'))\n",
        "  cnn_model_g.add(tf.keras.layers.Conv2D(64, (3, 3), strides=(2, 2), padding='same', activation='relu'))\n",
        "\n",
        "  cnn_model_g.add(tf.keras.layers.Flatten())\n",
        "  cnn_model_g.add(tf.keras.layers.Dense(512))\n",
        "  cnn_model_g.add(tf.keras.layers.Activation('relu'))\n",
        "  cnn_model_g.add(tf.keras.layers.Dense(10))\n",
        "  cnn_model_g.add(tf.keras.layers.Activation('softmax'))\n",
        "\n",
        "  cnn_model_g.compile(loss='sparse_categorical_crossentropy', optimizer='adam', metrics=['accuracy'])\n",
        "  cnn_model_g.build(input_shape=(1,28,28,1))\n",
        "  accuracy= cnn_model_g.fit(train_images, train_labels, batch_size=512, epochs=25)\n",
        "  acc[i]=accuracy.history['accuracy'][24]\n",
        "  cnn_model_g.summary()"
      ],
      "metadata": {
        "id": "9jr2GhC-3vNq",
        "colab": {
          "base_uri": "https://localhost:8080/"
        },
        "outputId": "12c0bb34-90d7-4dbf-a202-d19f226d42a8"
      },
      "execution_count": 13,
      "outputs": [
        {
          "output_type": "stream",
          "name": "stdout",
          "text": [
            "Epoch 1/25\n",
            "118/118 [==============================] - 6s 46ms/step - loss: 1.6087 - accuracy: 0.3632\n",
            "Epoch 2/25\n",
            "118/118 [==============================] - 5s 43ms/step - loss: 0.4740 - accuracy: 0.8287\n",
            "Epoch 3/25\n",
            "118/118 [==============================] - 5s 44ms/step - loss: 0.1316 - accuracy: 0.9611\n",
            "Epoch 4/25\n",
            "118/118 [==============================] - 5s 44ms/step - loss: 0.0807 - accuracy: 0.9770\n",
            "Epoch 5/25\n",
            "118/118 [==============================] - 5s 44ms/step - loss: 0.0586 - accuracy: 0.9832\n",
            "Epoch 6/25\n",
            "118/118 [==============================] - 5s 44ms/step - loss: 0.0505 - accuracy: 0.9855\n",
            "Epoch 7/25\n",
            "118/118 [==============================] - 5s 44ms/step - loss: 0.0386 - accuracy: 0.9888\n",
            "Epoch 8/25\n",
            "118/118 [==============================] - 5s 44ms/step - loss: 0.0324 - accuracy: 0.9910\n",
            "Epoch 9/25\n",
            "118/118 [==============================] - 5s 43ms/step - loss: 0.0254 - accuracy: 0.9930\n",
            "Epoch 10/25\n",
            "118/118 [==============================] - 5s 43ms/step - loss: 0.0227 - accuracy: 0.9938\n",
            "Epoch 11/25\n",
            "118/118 [==============================] - 5s 43ms/step - loss: 0.0217 - accuracy: 0.9937\n",
            "Epoch 12/25\n",
            "118/118 [==============================] - 5s 42ms/step - loss: 0.0181 - accuracy: 0.9949\n",
            "Epoch 13/25\n",
            "118/118 [==============================] - 5s 42ms/step - loss: 0.0155 - accuracy: 0.9956\n",
            "Epoch 14/25\n",
            "118/118 [==============================] - 5s 42ms/step - loss: 0.0145 - accuracy: 0.9958\n",
            "Epoch 15/25\n",
            "118/118 [==============================] - 5s 42ms/step - loss: 0.0115 - accuracy: 0.9966\n",
            "Epoch 16/25\n",
            "118/118 [==============================] - 5s 42ms/step - loss: 0.0116 - accuracy: 0.9967\n",
            "Epoch 17/25\n",
            "118/118 [==============================] - 5s 42ms/step - loss: 0.0151 - accuracy: 0.9958\n",
            "Epoch 18/25\n",
            "118/118 [==============================] - 5s 42ms/step - loss: 0.0131 - accuracy: 0.9963\n",
            "Epoch 19/25\n",
            "118/118 [==============================] - 5s 43ms/step - loss: 0.0131 - accuracy: 0.9961\n",
            "Epoch 20/25\n",
            "118/118 [==============================] - 5s 43ms/step - loss: 0.0057 - accuracy: 0.9984\n",
            "Epoch 21/25\n",
            "118/118 [==============================] - 5s 43ms/step - loss: 0.0076 - accuracy: 0.9977\n",
            "Epoch 22/25\n",
            "118/118 [==============================] - 5s 43ms/step - loss: 0.0088 - accuracy: 0.9975\n",
            "Epoch 23/25\n",
            "118/118 [==============================] - 5s 43ms/step - loss: 0.0081 - accuracy: 0.9980\n",
            "Epoch 24/25\n",
            "118/118 [==============================] - 5s 44ms/step - loss: 0.0041 - accuracy: 0.9988\n",
            "Epoch 25/25\n",
            "118/118 [==============================] - 5s 43ms/step - loss: 0.0094 - accuracy: 0.9974\n",
            "Model: \"sequential_5\"\n",
            "_________________________________________________________________\n",
            " Layer (type)                Output Shape              Param #   \n",
            "=================================================================\n",
            " conv2d_50 (Conv2D)          (None, 28, 28, 64)        640       \n",
            "                                                                 \n",
            " conv2d_51 (Conv2D)          (None, 14, 14, 64)        36928     \n",
            "                                                                 \n",
            " max_pooling2d_25 (MaxPoolin  (None, 7, 7, 64)         0         \n",
            " g2D)                                                            \n",
            "                                                                 \n",
            " conv2d_52 (Conv2D)          (None, 7, 7, 128)         73856     \n",
            "                                                                 \n",
            " conv2d_53 (Conv2D)          (None, 4, 4, 128)         147584    \n",
            "                                                                 \n",
            " max_pooling2d_26 (MaxPoolin  (None, 2, 2, 128)        0         \n",
            " g2D)                                                            \n",
            "                                                                 \n",
            " conv2d_54 (Conv2D)          (None, 2, 2, 256)         295168    \n",
            "                                                                 \n",
            " conv2d_55 (Conv2D)          (None, 1, 1, 256)         590080    \n",
            "                                                                 \n",
            " max_pooling2d_27 (MaxPoolin  (None, 1, 1, 256)        0         \n",
            " g2D)                                                            \n",
            "                                                                 \n",
            " conv2d_56 (Conv2D)          (None, 1, 1, 128)         295040    \n",
            "                                                                 \n",
            " conv2d_57 (Conv2D)          (None, 1, 1, 128)         147584    \n",
            "                                                                 \n",
            " max_pooling2d_28 (MaxPoolin  (None, 1, 1, 128)        0         \n",
            " g2D)                                                            \n",
            "                                                                 \n",
            " conv2d_58 (Conv2D)          (None, 1, 1, 64)          73792     \n",
            "                                                                 \n",
            " max_pooling2d_29 (MaxPoolin  (None, 1, 1, 64)         0         \n",
            " g2D)                                                            \n",
            "                                                                 \n",
            " conv2d_59 (Conv2D)          (None, 1, 1, 64)          36928     \n",
            "                                                                 \n",
            " flatten_5 (Flatten)         (None, 64)                0         \n",
            "                                                                 \n",
            " dense_10 (Dense)            (None, 512)               33280     \n",
            "                                                                 \n",
            " activation_10 (Activation)  (None, 512)               0         \n",
            "                                                                 \n",
            " dense_11 (Dense)            (None, 10)                5130      \n",
            "                                                                 \n",
            " activation_11 (Activation)  (None, 10)                0         \n",
            "                                                                 \n",
            "=================================================================\n",
            "Total params: 1,736,010\n",
            "Trainable params: 1,736,010\n",
            "Non-trainable params: 0\n",
            "_________________________________________________________________\n",
            "Epoch 1/25\n",
            "118/118 [==============================] - 6s 42ms/step - loss: 1.5927 - accuracy: 0.3669\n",
            "Epoch 2/25\n",
            "118/118 [==============================] - 5s 43ms/step - loss: 0.3792 - accuracy: 0.8799\n",
            "Epoch 3/25\n",
            "118/118 [==============================] - 5s 43ms/step - loss: 0.1440 - accuracy: 0.9629\n",
            "Epoch 4/25\n",
            "118/118 [==============================] - 5s 43ms/step - loss: 0.0937 - accuracy: 0.9758\n",
            "Epoch 5/25\n",
            "118/118 [==============================] - 5s 44ms/step - loss: 0.0644 - accuracy: 0.9836\n",
            "Epoch 6/25\n",
            "118/118 [==============================] - 5s 44ms/step - loss: 0.0985 - accuracy: 0.9718\n",
            "Epoch 7/25\n",
            "118/118 [==============================] - 5s 44ms/step - loss: 0.0401 - accuracy: 0.9895\n",
            "Epoch 8/25\n",
            "118/118 [==============================] - 5s 44ms/step - loss: 0.0326 - accuracy: 0.9915\n",
            "Epoch 9/25\n",
            "118/118 [==============================] - 5s 44ms/step - loss: 0.0237 - accuracy: 0.9935\n",
            "Epoch 10/25\n",
            "118/118 [==============================] - 5s 43ms/step - loss: 0.0175 - accuracy: 0.9954\n",
            "Epoch 11/25\n",
            "118/118 [==============================] - 5s 43ms/step - loss: 0.0163 - accuracy: 0.9955\n",
            "Epoch 12/25\n",
            "118/118 [==============================] - 5s 43ms/step - loss: 0.0156 - accuracy: 0.9958\n",
            "Epoch 13/25\n",
            "118/118 [==============================] - 5s 43ms/step - loss: 0.0162 - accuracy: 0.9957\n",
            "Epoch 14/25\n",
            "118/118 [==============================] - 5s 42ms/step - loss: 0.0125 - accuracy: 0.9966\n",
            "Epoch 15/25\n",
            "118/118 [==============================] - 5s 42ms/step - loss: 0.0150 - accuracy: 0.9958\n",
            "Epoch 16/25\n",
            "118/118 [==============================] - 5s 42ms/step - loss: 0.0099 - accuracy: 0.9974\n",
            "Epoch 17/25\n",
            "118/118 [==============================] - 5s 42ms/step - loss: 0.0099 - accuracy: 0.9973\n",
            "Epoch 18/25\n",
            "118/118 [==============================] - 5s 43ms/step - loss: 0.0109 - accuracy: 0.9969\n",
            "Epoch 19/25\n",
            "118/118 [==============================] - 5s 43ms/step - loss: 0.0127 - accuracy: 0.9966\n",
            "Epoch 20/25\n",
            "118/118 [==============================] - 5s 43ms/step - loss: 0.0089 - accuracy: 0.9977\n",
            "Epoch 21/25\n",
            "118/118 [==============================] - 5s 43ms/step - loss: 0.0084 - accuracy: 0.9978\n",
            "Epoch 22/25\n",
            "118/118 [==============================] - 5s 43ms/step - loss: 0.0074 - accuracy: 0.9979\n",
            "Epoch 23/25\n",
            "118/118 [==============================] - 5s 44ms/step - loss: 0.0046 - accuracy: 0.9987\n",
            "Epoch 24/25\n",
            "118/118 [==============================] - 5s 43ms/step - loss: 0.0060 - accuracy: 0.9984\n",
            "Epoch 25/25\n",
            "118/118 [==============================] - 5s 43ms/step - loss: 0.0105 - accuracy: 0.9973\n",
            "Model: \"sequential_6\"\n",
            "_________________________________________________________________\n",
            " Layer (type)                Output Shape              Param #   \n",
            "=================================================================\n",
            " conv2d_60 (Conv2D)          (None, 28, 28, 64)        640       \n",
            "                                                                 \n",
            " conv2d_61 (Conv2D)          (None, 14, 14, 64)        36928     \n",
            "                                                                 \n",
            " max_pooling2d_30 (MaxPoolin  (None, 7, 7, 64)         0         \n",
            " g2D)                                                            \n",
            "                                                                 \n",
            " conv2d_62 (Conv2D)          (None, 7, 7, 128)         73856     \n",
            "                                                                 \n",
            " conv2d_63 (Conv2D)          (None, 4, 4, 128)         147584    \n",
            "                                                                 \n",
            " max_pooling2d_31 (MaxPoolin  (None, 2, 2, 128)        0         \n",
            " g2D)                                                            \n",
            "                                                                 \n",
            " conv2d_64 (Conv2D)          (None, 2, 2, 256)         295168    \n",
            "                                                                 \n",
            " conv2d_65 (Conv2D)          (None, 1, 1, 256)         590080    \n",
            "                                                                 \n",
            " max_pooling2d_32 (MaxPoolin  (None, 1, 1, 256)        0         \n",
            " g2D)                                                            \n",
            "                                                                 \n",
            " conv2d_66 (Conv2D)          (None, 1, 1, 128)         295040    \n",
            "                                                                 \n",
            " conv2d_67 (Conv2D)          (None, 1, 1, 128)         147584    \n",
            "                                                                 \n",
            " max_pooling2d_33 (MaxPoolin  (None, 1, 1, 128)        0         \n",
            " g2D)                                                            \n",
            "                                                                 \n",
            " conv2d_68 (Conv2D)          (None, 1, 1, 64)          73792     \n",
            "                                                                 \n",
            " max_pooling2d_34 (MaxPoolin  (None, 1, 1, 64)         0         \n",
            " g2D)                                                            \n",
            "                                                                 \n",
            " conv2d_69 (Conv2D)          (None, 1, 1, 64)          36928     \n",
            "                                                                 \n",
            " flatten_6 (Flatten)         (None, 64)                0         \n",
            "                                                                 \n",
            " dense_12 (Dense)            (None, 512)               33280     \n",
            "                                                                 \n",
            " activation_12 (Activation)  (None, 512)               0         \n",
            "                                                                 \n",
            " dense_13 (Dense)            (None, 10)                5130      \n",
            "                                                                 \n",
            " activation_13 (Activation)  (None, 10)                0         \n",
            "                                                                 \n",
            "=================================================================\n",
            "Total params: 1,736,010\n",
            "Trainable params: 1,736,010\n",
            "Non-trainable params: 0\n",
            "_________________________________________________________________\n",
            "Epoch 1/25\n",
            "118/118 [==============================] - 6s 44ms/step - loss: 1.7134 - accuracy: 0.3315\n",
            "Epoch 2/25\n",
            "118/118 [==============================] - 5s 44ms/step - loss: 0.4455 - accuracy: 0.8565\n",
            "Epoch 3/25\n",
            "118/118 [==============================] - 5s 43ms/step - loss: 0.1419 - accuracy: 0.9620\n",
            "Epoch 4/25\n",
            "118/118 [==============================] - 5s 44ms/step - loss: 0.0833 - accuracy: 0.9785\n",
            "Epoch 5/25\n",
            "118/118 [==============================] - 5s 44ms/step - loss: 0.0559 - accuracy: 0.9856\n",
            "Epoch 6/25\n",
            "118/118 [==============================] - 5s 44ms/step - loss: 0.0479 - accuracy: 0.9874\n",
            "Epoch 7/25\n",
            "118/118 [==============================] - 5s 43ms/step - loss: 0.0349 - accuracy: 0.9907\n",
            "Epoch 8/25\n",
            "118/118 [==============================] - 5s 43ms/step - loss: 0.0274 - accuracy: 0.9920\n",
            "Epoch 9/25\n",
            "118/118 [==============================] - 5s 43ms/step - loss: 0.0243 - accuracy: 0.9931\n",
            "Epoch 10/25\n",
            "118/118 [==============================] - 5s 43ms/step - loss: 0.0206 - accuracy: 0.9944\n",
            "Epoch 11/25\n",
            "118/118 [==============================] - 5s 43ms/step - loss: 0.0148 - accuracy: 0.9957\n",
            "Epoch 12/25\n",
            "118/118 [==============================] - 5s 43ms/step - loss: 0.0146 - accuracy: 0.9957\n",
            "Epoch 13/25\n",
            "118/118 [==============================] - 5s 43ms/step - loss: 0.0162 - accuracy: 0.9955\n",
            "Epoch 14/25\n",
            "118/118 [==============================] - 5s 43ms/step - loss: 0.0167 - accuracy: 0.9957\n",
            "Epoch 15/25\n",
            "118/118 [==============================] - 5s 44ms/step - loss: 0.0148 - accuracy: 0.9962\n",
            "Epoch 16/25\n",
            "118/118 [==============================] - 5s 44ms/step - loss: 0.0128 - accuracy: 0.9969\n",
            "Epoch 17/25\n",
            "118/118 [==============================] - 5s 43ms/step - loss: 0.0114 - accuracy: 0.9967\n",
            "Epoch 18/25\n",
            "118/118 [==============================] - 5s 43ms/step - loss: 0.0124 - accuracy: 0.9965\n",
            "Epoch 19/25\n",
            "118/118 [==============================] - 5s 44ms/step - loss: 0.0092 - accuracy: 0.9974\n",
            "Epoch 20/25\n",
            "118/118 [==============================] - 5s 43ms/step - loss: 0.0107 - accuracy: 0.9970\n",
            "Epoch 21/25\n",
            "118/118 [==============================] - 5s 43ms/step - loss: 0.0075 - accuracy: 0.9980\n",
            "Epoch 22/25\n",
            "118/118 [==============================] - 5s 43ms/step - loss: 0.0086 - accuracy: 0.9976\n",
            "Epoch 23/25\n",
            "118/118 [==============================] - 5s 43ms/step - loss: 0.0076 - accuracy: 0.9980\n",
            "Epoch 24/25\n",
            "118/118 [==============================] - 5s 43ms/step - loss: 0.0106 - accuracy: 0.9972\n",
            "Epoch 25/25\n",
            "118/118 [==============================] - 5s 44ms/step - loss: 0.0087 - accuracy: 0.9975\n",
            "Model: \"sequential_7\"\n",
            "_________________________________________________________________\n",
            " Layer (type)                Output Shape              Param #   \n",
            "=================================================================\n",
            " conv2d_70 (Conv2D)          (None, 28, 28, 64)        640       \n",
            "                                                                 \n",
            " conv2d_71 (Conv2D)          (None, 14, 14, 64)        36928     \n",
            "                                                                 \n",
            " max_pooling2d_35 (MaxPoolin  (None, 7, 7, 64)         0         \n",
            " g2D)                                                            \n",
            "                                                                 \n",
            " conv2d_72 (Conv2D)          (None, 7, 7, 128)         73856     \n",
            "                                                                 \n",
            " conv2d_73 (Conv2D)          (None, 4, 4, 128)         147584    \n",
            "                                                                 \n",
            " max_pooling2d_36 (MaxPoolin  (None, 2, 2, 128)        0         \n",
            " g2D)                                                            \n",
            "                                                                 \n",
            " conv2d_74 (Conv2D)          (None, 2, 2, 256)         295168    \n",
            "                                                                 \n",
            " conv2d_75 (Conv2D)          (None, 1, 1, 256)         590080    \n",
            "                                                                 \n",
            " max_pooling2d_37 (MaxPoolin  (None, 1, 1, 256)        0         \n",
            " g2D)                                                            \n",
            "                                                                 \n",
            " conv2d_76 (Conv2D)          (None, 1, 1, 128)         295040    \n",
            "                                                                 \n",
            " conv2d_77 (Conv2D)          (None, 1, 1, 128)         147584    \n",
            "                                                                 \n",
            " max_pooling2d_38 (MaxPoolin  (None, 1, 1, 128)        0         \n",
            " g2D)                                                            \n",
            "                                                                 \n",
            " conv2d_78 (Conv2D)          (None, 1, 1, 64)          73792     \n",
            "                                                                 \n",
            " max_pooling2d_39 (MaxPoolin  (None, 1, 1, 64)         0         \n",
            " g2D)                                                            \n",
            "                                                                 \n",
            " conv2d_79 (Conv2D)          (None, 1, 1, 64)          36928     \n",
            "                                                                 \n",
            " flatten_7 (Flatten)         (None, 64)                0         \n",
            "                                                                 \n",
            " dense_14 (Dense)            (None, 512)               33280     \n",
            "                                                                 \n",
            " activation_14 (Activation)  (None, 512)               0         \n",
            "                                                                 \n",
            " dense_15 (Dense)            (None, 10)                5130      \n",
            "                                                                 \n",
            " activation_15 (Activation)  (None, 10)                0         \n",
            "                                                                 \n",
            "=================================================================\n",
            "Total params: 1,736,010\n",
            "Trainable params: 1,736,010\n",
            "Non-trainable params: 0\n",
            "_________________________________________________________________\n"
          ]
        }
      ]
    },
    {
      "cell_type": "code",
      "source": [
        "print(acc)\n",
        "plt.plot(np.array(learningRate).reshape(3,1), np.array(acc).reshape(3,1), color = 'red')\n",
        "plt.ylabel('Accuracy')\n",
        "plt.xlabel('learning rate')\n",
        "plt.title('Accuracy Vs Learning rate')\n",
        "plt.show()"
      ],
      "metadata": {
        "id": "MybdQiN25amm",
        "colab": {
          "base_uri": "https://localhost:8080/",
          "height": 312
        },
        "outputId": "4393ef86-1a48-410a-db70-2aa2e0493016"
      },
      "execution_count": 14,
      "outputs": [
        {
          "output_type": "stream",
          "name": "stdout",
          "text": [
            "[0.99736667 0.99731666 0.99753332]\n"
          ]
        },
        {
          "output_type": "display_data",
          "data": {
            "text/plain": [
              "<Figure size 432x288 with 1 Axes>"
            ],
            "image/png": "[encoded data removed]"
          },
          "metadata": {
            "needs_background": "light"
          }
        }
      ]
    },
    {
      "cell_type": "markdown",
      "source": [
        "**Which one performed best**"
      ],
      "metadata": {
        "id": "hHuGwEUYnRYm"
      }
    },
    {
      "cell_type": "code",
      "source": [
        "from tabulate import tabulate\n",
        "mydata = [[0.0001, 0.99736667],\n",
        "          [0.001, 0.99731666],\n",
        "          [0.01, 0.99753332]]\n",
        "head = [\"Learning Rate\", \"Accuarcy\"]\n",
        "# Display Table\n",
        "print(tabulate(mydata, headers=head, tablefmt=\"grid\", numalign=\"center\"))"
      ],
      "metadata": {
        "colab": {
          "base_uri": "https://localhost:8080/"
        },
        "id": "B-Pq4sDSnSIq",
        "outputId": "1dfd2890-d761-4365-ac6e-a4b61ee8c296"
      },
      "execution_count": 11,
      "outputs": [
        {
          "output_type": "stream",
          "name": "stdout",
          "text": [
            "+-----------------+------------+\n",
            "|  Learning Rate  |  Accuarcy  |\n",
            "+=================+============+\n",
            "|     0.0001      |  0.997883  |\n",
            "+-----------------+------------+\n",
            "|      0.001      |  0.997933  |\n",
            "+-----------------+------------+\n",
            "|      0.01       |  0.997233  |\n",
            "+-----------------+------------+\n"
          ]
        }
      ]
    },
    {
      "cell_type": "markdown",
      "source": [
        "#####Based on the above results, we can say that for my case, learning rate = 0.01 gives highest accuarcy (0.99753332), but the other learning rate also shows good accuracy."
      ],
      "metadata": {
        "id": "n3-lNp7TthgV"
      }
    },
    {
      "cell_type": "markdown",
      "source": [
        "**Effect of batch size on Hour-glass shaped CNN**"
      ],
      "metadata": {
        "id": "-nLHBAdNnWpK"
      }
    },
    {
      "cell_type": "code",
      "source": [
        "batch=[128, 256, 512]\n",
        "acc=np.zeros(3)\n",
        "for i in range(len(batch)):\n",
        "  cnn_model_g = tf.keras.models.Sequential()\n",
        "  cnn_model_g.add(tf.keras.layers.Conv2D(64, (3, 3), padding='same', activation='relu'))\n",
        "  cnn_model_g.add(tf.keras.layers.Conv2D(64, (3, 3), strides=(2, 2), padding='same', activation='relu'))\n",
        "  cnn_model_g.add(tf.keras.layers.MaxPooling2D(pool_size=(2, 2), strides=(2,2), padding='same'))\n",
        "  cnn_model_g.add(tf.keras.layers.Conv2D(128, (3, 3), padding='same', activation='relu'))\n",
        "  cnn_model_g.add(tf.keras.layers.Conv2D(128, (3, 3), strides=(2, 2), padding='same', activation='relu'))\n",
        "  cnn_model_g.add(tf.keras.layers.MaxPooling2D(pool_size=(2, 2), strides=(2,2),padding='same'))\n",
        "  cnn_model_g.add(tf.keras.layers.Conv2D(256, (3, 3), padding='same', activation='relu'))\n",
        "  cnn_model_g.add(tf.keras.layers.Conv2D(256, (3, 3), strides=(2, 2), padding='same', activation='relu'))\n",
        "  cnn_model_g.add(tf.keras.layers.MaxPooling2D(pool_size=(2, 2), strides=(2,2),padding='same'))\n",
        "  cnn_model_g.add(tf.keras.layers.Conv2D(128, (3, 3), padding='same', activation='relu'))\n",
        "  cnn_model_g.add(tf.keras.layers.Conv2D(128, (3, 3), strides=(2, 2), padding='same', activation='relu'))\n",
        "  cnn_model_g.add(tf.keras.layers.MaxPooling2D(pool_size=(2, 2), strides=(2,2),padding='same'))\n",
        "  cnn_model_g.add(tf.keras.layers.Conv2D(64, (3, 3), padding='same', activation='relu'))\n",
        "  cnn_model_g.add(tf.keras.layers.MaxPooling2D(pool_size=(2, 2), strides=(2,2),padding='same'))\n",
        "  cnn_model_g.add(tf.keras.layers.Conv2D(64, (3, 3), strides=(2, 2), padding='same', activation='relu'))\n",
        "\n",
        "  cnn_model_g.add(tf.keras.layers.Flatten())\n",
        "  cnn_model_g.add(tf.keras.layers.Dense(512))\n",
        "  cnn_model_g.add(tf.keras.layers.Activation('relu'))\n",
        "  cnn_model_g.add(tf.keras.layers.Dense(10))\n",
        "  cnn_model_g.add(tf.keras.layers.Activation('softmax'))\n",
        "\n",
        "  cnn_model_g.compile(loss='sparse_categorical_crossentropy', optimizer='adam', metrics=['accuracy'])\n",
        "  cnn_model_g.build(input_shape=(1,28,28,1))\n",
        "  accuracy= cnn_model_g.fit(train_images, train_labels, batch_size=batch[i], epochs=25)\n",
        "  acc[i]=accuracy.history['accuracy'][24]\n",
        "  cnn_model_g.summary()"
      ],
      "metadata": {
        "id": "LIF_Haxn54ag",
        "colab": {
          "base_uri": "https://localhost:8080/"
        },
        "outputId": "6b93b4d2-7e85-43f9-b289-42b057b5ec38"
      },
      "execution_count": 15,
      "outputs": [
        {
          "output_type": "stream",
          "name": "stdout",
          "text": [
            "Epoch 1/25\n",
            "469/469 [==============================] - 11s 19ms/step - loss: 0.7936 - accuracy: 0.7010\n",
            "Epoch 2/25\n",
            "469/469 [==============================] - 9s 19ms/step - loss: 0.1143 - accuracy: 0.9716\n",
            "Epoch 3/25\n",
            "469/469 [==============================] - 8s 17ms/step - loss: 0.0655 - accuracy: 0.9839\n",
            "Epoch 4/25\n",
            "469/469 [==============================] - 7s 15ms/step - loss: 0.0531 - accuracy: 0.9868\n",
            "Epoch 5/25\n",
            "469/469 [==============================] - 7s 16ms/step - loss: 0.0427 - accuracy: 0.9890\n",
            "Epoch 6/25\n",
            "469/469 [==============================] - 7s 15ms/step - loss: 0.0328 - accuracy: 0.9917\n",
            "Epoch 7/25\n",
            "469/469 [==============================] - 7s 15ms/step - loss: 0.0318 - accuracy: 0.9918\n",
            "Epoch 8/25\n",
            "469/469 [==============================] - 7s 16ms/step - loss: 0.0267 - accuracy: 0.9936\n",
            "Epoch 9/25\n",
            "469/469 [==============================] - 8s 17ms/step - loss: 0.0252 - accuracy: 0.9941\n",
            "Epoch 10/25\n",
            "469/469 [==============================] - 8s 17ms/step - loss: 0.0207 - accuracy: 0.9950\n",
            "Epoch 11/25\n",
            "469/469 [==============================] - 8s 17ms/step - loss: 0.0202 - accuracy: 0.9954\n",
            "Epoch 12/25\n",
            "469/469 [==============================] - 8s 17ms/step - loss: 0.0179 - accuracy: 0.9955\n",
            "Epoch 13/25\n",
            "469/469 [==============================] - 7s 15ms/step - loss: 0.0176 - accuracy: 0.9962\n",
            "Epoch 14/25\n",
            "469/469 [==============================] - 7s 15ms/step - loss: 0.0155 - accuracy: 0.9963\n",
            "Epoch 15/25\n",
            "469/469 [==============================] - 7s 15ms/step - loss: 0.0217 - accuracy: 0.9949\n",
            "Epoch 16/25\n",
            "469/469 [==============================] - 7s 15ms/step - loss: 0.0140 - accuracy: 0.9969\n",
            "Epoch 17/25\n",
            "469/469 [==============================] - 7s 15ms/step - loss: 0.0164 - accuracy: 0.9964\n",
            "Epoch 18/25\n",
            "469/469 [==============================] - 7s 15ms/step - loss: 0.0085 - accuracy: 0.9980\n",
            "Epoch 19/25\n",
            "469/469 [==============================] - 7s 15ms/step - loss: 0.0113 - accuracy: 0.9973\n",
            "Epoch 20/25\n",
            "469/469 [==============================] - 7s 15ms/step - loss: 0.0126 - accuracy: 0.9972\n",
            "Epoch 21/25\n",
            "469/469 [==============================] - 7s 15ms/step - loss: 0.0117 - accuracy: 0.9972\n",
            "Epoch 22/25\n",
            "469/469 [==============================] - 7s 15ms/step - loss: 0.0145 - accuracy: 0.9966\n",
            "Epoch 23/25\n",
            "469/469 [==============================] - 7s 16ms/step - loss: 0.0062 - accuracy: 0.9986\n",
            "Epoch 24/25\n",
            "469/469 [==============================] - 7s 15ms/step - loss: 0.0062 - accuracy: 0.9986\n",
            "Epoch 25/25\n",
            "469/469 [==============================] - 7s 15ms/step - loss: 0.0096 - accuracy: 0.9977\n",
            "Model: \"sequential_8\"\n",
            "_________________________________________________________________\n",
            " Layer (type)                Output Shape              Param #   \n",
            "=================================================================\n",
            " conv2d_80 (Conv2D)          (None, 28, 28, 64)        640       \n",
            "                                                                 \n",
            " conv2d_81 (Conv2D)          (None, 14, 14, 64)        36928     \n",
            "                                                                 \n",
            " max_pooling2d_40 (MaxPoolin  (None, 7, 7, 64)         0         \n",
            " g2D)                                                            \n",
            "                                                                 \n",
            " conv2d_82 (Conv2D)          (None, 7, 7, 128)         73856     \n",
            "                                                                 \n",
            " conv2d_83 (Conv2D)          (None, 4, 4, 128)         147584    \n",
            "                                                                 \n",
            " max_pooling2d_41 (MaxPoolin  (None, 2, 2, 128)        0         \n",
            " g2D)                                                            \n",
            "                                                                 \n",
            " conv2d_84 (Conv2D)          (None, 2, 2, 256)         295168    \n",
            "                                                                 \n",
            " conv2d_85 (Conv2D)          (None, 1, 1, 256)         590080    \n",
            "                                                                 \n",
            " max_pooling2d_42 (MaxPoolin  (None, 1, 1, 256)        0         \n",
            " g2D)                                                            \n",
            "                                                                 \n",
            " conv2d_86 (Conv2D)          (None, 1, 1, 128)         295040    \n",
            "                                                                 \n",
            " conv2d_87 (Conv2D)          (None, 1, 1, 128)         147584    \n",
            "                                                                 \n",
            " max_pooling2d_43 (MaxPoolin  (None, 1, 1, 128)        0         \n",
            " g2D)                                                            \n",
            "                                                                 \n",
            " conv2d_88 (Conv2D)          (None, 1, 1, 64)          73792     \n",
            "                                                                 \n",
            " max_pooling2d_44 (MaxPoolin  (None, 1, 1, 64)         0         \n",
            " g2D)                                                            \n",
            "                                                                 \n",
            " conv2d_89 (Conv2D)          (None, 1, 1, 64)          36928     \n",
            "                                                                 \n",
            " flatten_8 (Flatten)         (None, 64)                0         \n",
            "                                                                 \n",
            " dense_16 (Dense)            (None, 512)               33280     \n",
            "                                                                 \n",
            " activation_16 (Activation)  (None, 512)               0         \n",
            "                                                                 \n",
            " dense_17 (Dense)            (None, 10)                5130      \n",
            "                                                                 \n",
            " activation_17 (Activation)  (None, 10)                0         \n",
            "                                                                 \n",
            "=================================================================\n",
            "Total params: 1,736,010\n",
            "Trainable params: 1,736,010\n",
            "Non-trainable params: 0\n",
            "_________________________________________________________________\n",
            "Epoch 1/25\n",
            "235/235 [==============================] - 7s 24ms/step - loss: 1.2134 - accuracy: 0.5366\n",
            "Epoch 2/25\n",
            "235/235 [==============================] - 6s 25ms/step - loss: 0.1799 - accuracy: 0.9576\n",
            "Epoch 3/25\n",
            "235/235 [==============================] - 6s 25ms/step - loss: 0.0887 - accuracy: 0.9776\n",
            "Epoch 4/25\n",
            "235/235 [==============================] - 6s 25ms/step - loss: 0.0624 - accuracy: 0.9841\n",
            "Epoch 5/25\n",
            "235/235 [==============================] - 6s 25ms/step - loss: 0.0414 - accuracy: 0.9897\n",
            "Epoch 6/25\n",
            "235/235 [==============================] - 6s 25ms/step - loss: 0.0357 - accuracy: 0.9910\n",
            "Epoch 7/25\n",
            "235/235 [==============================] - 6s 25ms/step - loss: 0.0285 - accuracy: 0.9928\n",
            "Epoch 8/25\n",
            "235/235 [==============================] - 6s 25ms/step - loss: 0.0229 - accuracy: 0.9935\n",
            "Epoch 9/25\n",
            "235/235 [==============================] - 6s 25ms/step - loss: 0.0227 - accuracy: 0.9945\n",
            "Epoch 10/25\n",
            "235/235 [==============================] - 6s 25ms/step - loss: 0.0228 - accuracy: 0.9944\n",
            "Epoch 11/25\n",
            "235/235 [==============================] - 6s 25ms/step - loss: 0.0196 - accuracy: 0.9949\n",
            "Epoch 12/25\n",
            "235/235 [==============================] - 6s 24ms/step - loss: 0.0146 - accuracy: 0.9962\n",
            "Epoch 13/25\n",
            "235/235 [==============================] - 6s 25ms/step - loss: 0.0140 - accuracy: 0.9965\n",
            "Epoch 14/25\n",
            "235/235 [==============================] - 6s 24ms/step - loss: 0.0114 - accuracy: 0.9970\n",
            "Epoch 15/25\n",
            "235/235 [==============================] - 6s 24ms/step - loss: 0.0156 - accuracy: 0.9962\n",
            "Epoch 16/25\n",
            "235/235 [==============================] - 6s 25ms/step - loss: 0.0117 - accuracy: 0.9970\n",
            "Epoch 17/25\n",
            "235/235 [==============================] - 6s 25ms/step - loss: 0.0102 - accuracy: 0.9974\n",
            "Epoch 18/25\n",
            "235/235 [==============================] - 6s 25ms/step - loss: 0.0119 - accuracy: 0.9971\n",
            "Epoch 19/25\n",
            "235/235 [==============================] - 6s 25ms/step - loss: 0.0112 - accuracy: 0.9974\n",
            "Epoch 20/25\n",
            "235/235 [==============================] - 6s 25ms/step - loss: 0.0104 - accuracy: 0.9977\n",
            "Epoch 21/25\n",
            "235/235 [==============================] - 6s 25ms/step - loss: 0.0091 - accuracy: 0.9979\n",
            "Epoch 22/25\n",
            "235/235 [==============================] - 6s 25ms/step - loss: 0.0110 - accuracy: 0.9971\n",
            "Epoch 23/25\n",
            "235/235 [==============================] - 6s 25ms/step - loss: 0.0109 - accuracy: 0.9973\n",
            "Epoch 24/25\n",
            "235/235 [==============================] - 6s 25ms/step - loss: 0.0065 - accuracy: 0.9984\n",
            "Epoch 25/25\n",
            "235/235 [==============================] - 6s 25ms/step - loss: 0.0089 - accuracy: 0.9982\n",
            "Model: \"sequential_9\"\n",
            "_________________________________________________________________\n",
            " Layer (type)                Output Shape              Param #   \n",
            "=================================================================\n",
            " conv2d_90 (Conv2D)          (None, 28, 28, 64)        640       \n",
            "                                                                 \n",
            " conv2d_91 (Conv2D)          (None, 14, 14, 64)        36928     \n",
            "                                                                 \n",
            " max_pooling2d_45 (MaxPoolin  (None, 7, 7, 64)         0         \n",
            " g2D)                                                            \n",
            "                                                                 \n",
            " conv2d_92 (Conv2D)          (None, 7, 7, 128)         73856     \n",
            "                                                                 \n",
            " conv2d_93 (Conv2D)          (None, 4, 4, 128)         147584    \n",
            "                                                                 \n",
            " max_pooling2d_46 (MaxPoolin  (None, 2, 2, 128)        0         \n",
            " g2D)                                                            \n",
            "                                                                 \n",
            " conv2d_94 (Conv2D)          (None, 2, 2, 256)         295168    \n",
            "                                                                 \n",
            " conv2d_95 (Conv2D)          (None, 1, 1, 256)         590080    \n",
            "                                                                 \n",
            " max_pooling2d_47 (MaxPoolin  (None, 1, 1, 256)        0         \n",
            " g2D)                                                            \n",
            "                                                                 \n",
            " conv2d_96 (Conv2D)          (None, 1, 1, 128)         295040    \n",
            "                                                                 \n",
            " conv2d_97 (Conv2D)          (None, 1, 1, 128)         147584    \n",
            "                                                                 \n",
            " max_pooling2d_48 (MaxPoolin  (None, 1, 1, 128)        0         \n",
            " g2D)                                                            \n",
            "                                                                 \n",
            " conv2d_98 (Conv2D)          (None, 1, 1, 64)          73792     \n",
            "                                                                 \n",
            " max_pooling2d_49 (MaxPoolin  (None, 1, 1, 64)         0         \n",
            " g2D)                                                            \n",
            "                                                                 \n",
            " conv2d_99 (Conv2D)          (None, 1, 1, 64)          36928     \n",
            "                                                                 \n",
            " flatten_9 (Flatten)         (None, 64)                0         \n",
            "                                                                 \n",
            " dense_18 (Dense)            (None, 512)               33280     \n",
            "                                                                 \n",
            " activation_18 (Activation)  (None, 512)               0         \n",
            "                                                                 \n",
            " dense_19 (Dense)            (None, 10)                5130      \n",
            "                                                                 \n",
            " activation_19 (Activation)  (None, 10)                0         \n",
            "                                                                 \n",
            "=================================================================\n",
            "Total params: 1,736,010\n",
            "Trainable params: 1,736,010\n",
            "Non-trainable params: 0\n",
            "_________________________________________________________________\n",
            "Epoch 1/25\n",
            "118/118 [==============================] - 6s 44ms/step - loss: 1.7073 - accuracy: 0.3294\n",
            "Epoch 2/25\n",
            "118/118 [==============================] - 5s 44ms/step - loss: 0.3433 - accuracy: 0.8873\n",
            "Epoch 3/25\n",
            "118/118 [==============================] - 5s 44ms/step - loss: 0.1189 - accuracy: 0.9656\n",
            "Epoch 4/25\n",
            "118/118 [==============================] - 5s 43ms/step - loss: 0.0775 - accuracy: 0.9772\n",
            "Epoch 5/25\n",
            "118/118 [==============================] - 5s 44ms/step - loss: 0.0558 - accuracy: 0.9844\n",
            "Epoch 6/25\n",
            "118/118 [==============================] - 5s 43ms/step - loss: 0.0415 - accuracy: 0.9884\n",
            "Epoch 7/25\n",
            "118/118 [==============================] - 5s 43ms/step - loss: 0.0342 - accuracy: 0.9903\n",
            "Epoch 8/25\n",
            "118/118 [==============================] - 5s 44ms/step - loss: 0.0325 - accuracy: 0.9906\n",
            "Epoch 9/25\n",
            "118/118 [==============================] - 5s 45ms/step - loss: 0.0265 - accuracy: 0.9923\n",
            "Epoch 10/25\n",
            "118/118 [==============================] - 5s 44ms/step - loss: 0.0217 - accuracy: 0.9937\n",
            "Epoch 11/25\n",
            "118/118 [==============================] - 5s 44ms/step - loss: 0.0191 - accuracy: 0.9944\n",
            "Epoch 12/25\n",
            "118/118 [==============================] - 5s 43ms/step - loss: 0.0185 - accuracy: 0.9951\n",
            "Epoch 13/25\n",
            "118/118 [==============================] - 5s 43ms/step - loss: 0.0140 - accuracy: 0.9960\n",
            "Epoch 14/25\n",
            "118/118 [==============================] - 5s 44ms/step - loss: 0.0132 - accuracy: 0.9963\n",
            "Epoch 15/25\n",
            "118/118 [==============================] - 5s 43ms/step - loss: 0.0132 - accuracy: 0.9961\n",
            "Epoch 16/25\n",
            "118/118 [==============================] - 5s 43ms/step - loss: 0.0139 - accuracy: 0.9957\n",
            "Epoch 17/25\n",
            "118/118 [==============================] - 5s 43ms/step - loss: 0.0126 - accuracy: 0.9965\n",
            "Epoch 18/25\n",
            "118/118 [==============================] - 5s 43ms/step - loss: 0.0081 - accuracy: 0.9979\n",
            "Epoch 19/25\n",
            "118/118 [==============================] - 5s 43ms/step - loss: 0.0106 - accuracy: 0.9971\n",
            "Epoch 20/25\n",
            "118/118 [==============================] - 5s 43ms/step - loss: 0.0091 - accuracy: 0.9973\n",
            "Epoch 21/25\n",
            "118/118 [==============================] - 5s 43ms/step - loss: 0.0081 - accuracy: 0.9979\n",
            "Epoch 22/25\n",
            "118/118 [==============================] - 5s 43ms/step - loss: 0.0067 - accuracy: 0.9982\n",
            "Epoch 23/25\n",
            "118/118 [==============================] - 5s 43ms/step - loss: 0.0085 - accuracy: 0.9980\n",
            "Epoch 24/25\n",
            "118/118 [==============================] - 5s 43ms/step - loss: 0.0117 - accuracy: 0.9970\n",
            "Epoch 25/25\n",
            "118/118 [==============================] - 5s 43ms/step - loss: 0.0068 - accuracy: 0.9982\n",
            "Model: \"sequential_10\"\n",
            "_________________________________________________________________\n",
            " Layer (type)                Output Shape              Param #   \n",
            "=================================================================\n",
            " conv2d_100 (Conv2D)         (None, 28, 28, 64)        640       \n",
            "                                                                 \n",
            " conv2d_101 (Conv2D)         (None, 14, 14, 64)        36928     \n",
            "                                                                 \n",
            " max_pooling2d_50 (MaxPoolin  (None, 7, 7, 64)         0         \n",
            " g2D)                                                            \n",
            "                                                                 \n",
            " conv2d_102 (Conv2D)         (None, 7, 7, 128)         73856     \n",
            "                                                                 \n",
            " conv2d_103 (Conv2D)         (None, 4, 4, 128)         147584    \n",
            "                                                                 \n",
            " max_pooling2d_51 (MaxPoolin  (None, 2, 2, 128)        0         \n",
            " g2D)                                                            \n",
            "                                                                 \n",
            " conv2d_104 (Conv2D)         (None, 2, 2, 256)         295168    \n",
            "                                                                 \n",
            " conv2d_105 (Conv2D)         (None, 1, 1, 256)         590080    \n",
            "                                                                 \n",
            " max_pooling2d_52 (MaxPoolin  (None, 1, 1, 256)        0         \n",
            " g2D)                                                            \n",
            "                                                                 \n",
            " conv2d_106 (Conv2D)         (None, 1, 1, 128)         295040    \n",
            "                                                                 \n",
            " conv2d_107 (Conv2D)         (None, 1, 1, 128)         147584    \n",
            "                                                                 \n",
            " max_pooling2d_53 (MaxPoolin  (None, 1, 1, 128)        0         \n",
            " g2D)                                                            \n",
            "                                                                 \n",
            " conv2d_108 (Conv2D)         (None, 1, 1, 64)          73792     \n",
            "                                                                 \n",
            " max_pooling2d_54 (MaxPoolin  (None, 1, 1, 64)         0         \n",
            " g2D)                                                            \n",
            "                                                                 \n",
            " conv2d_109 (Conv2D)         (None, 1, 1, 64)          36928     \n",
            "                                                                 \n",
            " flatten_10 (Flatten)        (None, 64)                0         \n",
            "                                                                 \n",
            " dense_20 (Dense)            (None, 512)               33280     \n",
            "                                                                 \n",
            " activation_20 (Activation)  (None, 512)               0         \n",
            "                                                                 \n",
            " dense_21 (Dense)            (None, 10)                5130      \n",
            "                                                                 \n",
            " activation_21 (Activation)  (None, 10)                0         \n",
            "                                                                 \n",
            "=================================================================\n",
            "Total params: 1,736,010\n",
            "Trainable params: 1,736,010\n",
            "Non-trainable params: 0\n",
            "_________________________________________________________________\n"
          ]
        }
      ]
    },
    {
      "cell_type": "code",
      "source": [
        "print(acc)\n",
        "plt.plot(np.array(batch).reshape(3,1), np.array(acc).reshape(3,1), color = 'red')\n",
        "plt.ylabel('Accuracy')\n",
        "plt.xlabel('Batch size')\n",
        "plt.title('Accuracy Vs Batch size')\n",
        "plt.show()"
      ],
      "metadata": {
        "colab": {
          "base_uri": "https://localhost:8080/",
          "height": 312
        },
        "id": "uGhMN4ueoqjX",
        "outputId": "4df81feb-c560-42e6-c1c2-61792525db33"
      },
      "execution_count": 16,
      "outputs": [
        {
          "output_type": "stream",
          "name": "stdout",
          "text": [
            "[0.99771667 0.99816668 0.99818331]\n"
          ]
        },
        {
          "output_type": "display_data",
          "data": {
            "text/plain": [
              "<Figure size 432x288 with 1 Axes>"
            ],
            "image/png": "[encoded data removed]"
          },
          "metadata": {
            "needs_background": "light"
          }
        }
      ]
    },
    {
      "cell_type": "markdown",
      "source": [
        "**Which one performed best**"
      ],
      "metadata": {
        "id": "AYdYhY9OorBA"
      }
    },
    {
      "cell_type": "code",
      "source": [
        "from tabulate import tabulate\n",
        "mydata = [[128, 0.99771667],\n",
        "          [256, 0.99816668],\n",
        "          [512, 0.99818331]]\n",
        "head = [\"Batch Size\", \"Accuarcy\"]\n",
        "# Display Table\n",
        "print(tabulate(mydata, headers=head, tablefmt=\"grid\", numalign=\"center\"))"
      ],
      "metadata": {
        "colab": {
          "base_uri": "https://localhost:8080/"
        },
        "id": "sNJrTBlCotAa",
        "outputId": "a24e0513-15fb-4881-df56-1536bad43503"
      },
      "execution_count": 17,
      "outputs": [
        {
          "output_type": "stream",
          "name": "stdout",
          "text": [
            "+--------------+------------+\n",
            "|  Batch Size  |  Accuarcy  |\n",
            "+==============+============+\n",
            "|     128      |  0.997717  |\n",
            "+--------------+------------+\n",
            "|     256      |  0.998167  |\n",
            "+--------------+------------+\n",
            "|     512      |  0.998183  |\n",
            "+--------------+------------+\n"
          ]
        }
      ]
    },
    {
      "cell_type": "markdown",
      "source": [
        "#####Based on the above results, we can say that for my case, batch = 512 gives highest accuarcy (0.998183)."
      ],
      "metadata": {
        "id": "6p0gIH1Yz0ei"
      }
    },
    {
      "cell_type": "markdown",
      "source": [
        "**Effect of optimizer on Hour-glass shaped CNN**"
      ],
      "metadata": {
        "id": "FL8Q9KUWoxIL"
      }
    },
    {
      "cell_type": "code",
      "source": [
        "batch=[512]\n",
        "acc1=np.zeros(1)\n",
        "acc2=np.zeros(1)\n",
        "acc3=np.zeros(1)\n",
        "for k in range(3):\n",
        "  for i in range(len(batch)):    \n",
        "        cnn_model_g = tf.keras.models.Sequential()\n",
        "        cnn_model_g.add(tf.keras.layers.Conv2D(64, (3, 3), padding='same', activation='relu'))\n",
        "        cnn_model_g.add(tf.keras.layers.Conv2D(64, (3, 3), strides=(2, 2), padding='same', activation='relu'))\n",
        "        cnn_model_g.add(tf.keras.layers.MaxPooling2D(pool_size=(2, 2), strides=(2,2), padding='same'))\n",
        "        cnn_model_g.add(tf.keras.layers.Conv2D(128, (3, 3), padding='same', activation='relu'))\n",
        "        cnn_model_g.add(tf.keras.layers.Conv2D(128, (3, 3), strides=(2, 2), padding='same', activation='relu'))\n",
        "        cnn_model_g.add(tf.keras.layers.MaxPooling2D(pool_size=(2, 2), strides=(2,2),padding='same'))\n",
        "        cnn_model_g.add(tf.keras.layers.Conv2D(256, (3, 3), padding='same', activation='relu'))\n",
        "        cnn_model_g.add(tf.keras.layers.Conv2D(256, (3, 3), strides=(2, 2), padding='same', activation='relu'))\n",
        "        cnn_model_g.add(tf.keras.layers.MaxPooling2D(pool_size=(2, 2), strides=(2,2),padding='same'))\n",
        "        cnn_model_g.add(tf.keras.layers.Conv2D(128, (3, 3), padding='same', activation='relu'))\n",
        "        cnn_model_g.add(tf.keras.layers.Conv2D(128, (3, 3), strides=(2, 2), padding='same', activation='relu'))\n",
        "        cnn_model_g.add(tf.keras.layers.MaxPooling2D(pool_size=(2, 2), strides=(2,2),padding='same'))\n",
        "        cnn_model_g.add(tf.keras.layers.Conv2D(64, (3, 3), padding='same', activation='relu'))\n",
        "        cnn_model_g.add(tf.keras.layers.MaxPooling2D(pool_size=(2, 2), strides=(2,2),padding='same'))\n",
        "        cnn_model_g.add(tf.keras.layers.Conv2D(64, (3, 3), strides=(2, 2), padding='same', activation='relu'))\n",
        "\n",
        "        cnn_model_g.add(tf.keras.layers.Flatten())\n",
        "        cnn_model_g.add(tf.keras.layers.Dense(512))\n",
        "        cnn_model_g.add(tf.keras.layers.Activation('relu'))\n",
        "        cnn_model_g.add(tf.keras.layers.Dense(10))\n",
        "        cnn_model_g.add(tf.keras.layers.Activation('softmax'))\n",
        "\n",
        "        if k==0:\n",
        "          opt_lr = tf.keras.optimizers.Adam(learning_rate=0.001)\n",
        "          cnn_model_g.compile(loss='sparse_categorical_crossentropy', optimizer=opt_lr, metrics=['accuracy'])\n",
        "          cnn_model_g.build(input_shape=(1,28,28,1)) \n",
        "          accuracy1= cnn_model_g.fit(train_images, train_labels, batch_size=batch[i], epochs=25, verbose=0)\n",
        "          acc1[i]=accuracy1.history['accuracy'][24]\n",
        "        elif k==1:\n",
        "          opt_lr = tf.keras.optimizers.SGD(learning_rate=0.001)\n",
        "          cnn_model_g.compile(loss='sparse_categorical_crossentropy', optimizer=opt_lr, metrics=['accuracy'])\n",
        "          cnn_model_g.build(input_shape=(1,28,28,1))\n",
        "          accuracy2= cnn_model_g.fit(train_images, train_labels, batch_size=batch[i], epochs=25, verbose=0)\n",
        "          acc2[i]=accuracy2.history['accuracy'][24]\n",
        "        else:\n",
        "          opt_lr = tf.keras.optimizers.RMSprop(learning_rate=0.001)\n",
        "          cnn_model_g.compile(loss='sparse_categorical_crossentropy', optimizer=opt_lr, metrics=['accuracy'])\n",
        "          cnn_model_g.build(input_shape=(1,28,28,1))\n",
        "          accuracy3= cnn_model_g.fit(train_images, train_labels, batch_size=batch[i], epochs=25, verbose=0)\n",
        "          acc3[i]=accuracy3.history['accuracy'][24]"
      ],
      "metadata": {
        "id": "GLWWcCeqoz6L"
      },
      "execution_count": 18,
      "outputs": []
    },
    {
      "cell_type": "code",
      "source": [
        "print(acc1)\n",
        "print(acc2)\n",
        "print(acc3)"
      ],
      "metadata": {
        "colab": {
          "base_uri": "https://localhost:8080/"
        },
        "id": "7nPPRF9-0Iao",
        "outputId": "6e7f7712-6cc7-4727-8dcb-d6f091bcf9b6"
      },
      "execution_count": 19,
      "outputs": [
        {
          "output_type": "stream",
          "name": "stdout",
          "text": [
            "[0.99831665]\n",
            "[0.11236667]\n",
            "[0.99791664]\n"
          ]
        }
      ]
    },
    {
      "cell_type": "code",
      "source": [
        "from tabulate import tabulate\n",
        "mydata = [[0.99831665, 0.11236667, 0.99791664]]\n",
        "head = [\"Adam Accuracy\", \"SGD Accuracy\", \"RMSprop Accuracy\"]\n",
        "# Display Table\n",
        "print(tabulate(mydata, headers=head, tablefmt=\"grid\", numalign=\"center\"))"
      ],
      "metadata": {
        "colab": {
          "base_uri": "https://localhost:8080/"
        },
        "id": "RPuZcR0Y1IFz",
        "outputId": "cb7ffcdc-3950-489a-931d-538173a62cba"
      },
      "execution_count": 21,
      "outputs": [
        {
          "output_type": "stream",
          "name": "stdout",
          "text": [
            "+-----------------+----------------+--------------------+\n",
            "|  Adam Accuracy  |  SGD Accuracy  |  RMSprop Accuracy  |\n",
            "+=================+================+====================+\n",
            "|    0.998317     |    0.112367    |      0.997917      |\n",
            "+-----------------+----------------+--------------------+\n"
          ]
        }
      ]
    },
    {
      "cell_type": "markdown",
      "source": [
        "**Comparison**"
      ],
      "metadata": {
        "id": "JeNffrgo0M1k"
      }
    },
    {
      "cell_type": "code",
      "source": [
        "from tabulate import tabulate\n",
        "mydata = [[\"Regular CNN\", 0.0310057420283556, 0.9918000102043152, 0.06496333330869675, 0.9848999977111816],\n",
        "          [\"Inverted\", 0.014482562430202961, 0.996666669845581, 0.04515833407640457, 0.9887999892234802],\n",
        "          [\"Hour-glass shaped CNN\", 0.016877416521310806, 0.9958166480064392, 0.042658720165491104, 0.9890000224113464]]\n",
        "head = [\"CNN\", \"Train loss\", \"Train accuracy\", \"Test accuracy\", \"Test accuracy\"]\n",
        "# Display Table\n",
        "print(tabulate(mydata, headers=head, tablefmt=\"grid\", numalign=\"center\"))"
      ],
      "metadata": {
        "colab": {
          "base_uri": "https://localhost:8080/"
        },
        "id": "29jqmc6b1kSX",
        "outputId": "d0ef8470-bbd2-4059-9e1b-8b3de3c6c297"
      },
      "execution_count": 24,
      "outputs": [
        {
          "output_type": "stream",
          "name": "stdout",
          "text": [
            "+-----------------------+--------------+------------------+-----------------+-----------------+\n",
            "| CNN                   |  Train loss  |  Train accuracy  |  Test accuracy  |  Test accuracy  |\n",
            "+=======================+==============+==================+=================+=================+\n",
            "| Regular CNN           |  0.0310057   |      0.9918      |    0.0649633    |     0.9849      |\n",
            "+-----------------------+--------------+------------------+-----------------+-----------------+\n",
            "| Inverted              |  0.0144826   |     0.996667     |    0.0451583    |     0.9888      |\n",
            "+-----------------------+--------------+------------------+-----------------+-----------------+\n",
            "| Hour-glass shaped CNN |  0.0168774   |     0.995817     |    0.0426587    |      0.989      |\n",
            "+-----------------------+--------------+------------------+-----------------+-----------------+\n"
          ]
        }
      ]
    },
    {
      "cell_type": "markdown",
      "source": [
        "Adam and RMSprop otimizer gives better result instead of SGD. From all the tables, graphs and discussion, we can conclude that Adam optimizer with 0.001 learning rate and 512 batch size led to a proper accuracy with 25 epocs."
      ],
      "metadata": {
        "id": "clewCsqf0Whz"
      }
    }
  ]
}