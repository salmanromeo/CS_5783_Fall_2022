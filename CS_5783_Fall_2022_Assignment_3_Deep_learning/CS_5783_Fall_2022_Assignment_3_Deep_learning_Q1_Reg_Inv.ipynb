{
  "nbformat": 4,
  "nbformat_minor": 0,
  "metadata": {
    "colab": {
      "provenance": [],
      "collapsed_sections": [],
      "authorship_tag": "ABX9TyMv7su7zlZODqQEX9j5KXqa",
      "include_colab_link": true
    },
    "kernelspec": {
      "name": "python3",
      "display_name": "Python 3"
    },
    "language_info": {
      "name": "python"
    },
    "accelerator": "GPU",
    "gpuClass": "standard"
  },
  "cells": [
    {
      "cell_type": "markdown",
      "metadata": {
        "id": "view-in-github",
        "colab_type": "text"
      },
      "source": [
        "<a href=\"https://colab.research.google.com/github/salmanromeo/CS_5783_Machine_Learning_Fall_2022/blob/main/CS_5783_Fall_2022_Assignment_3_Deep_learning/CS_5783_Fall_2022_Assignment_3_Deep_learning_Q1_Reg_Inv.ipynb\" target=\"_parent\"><img src=\"https://colab.research.google.com/assets/colab-badge.svg\" alt=\"Open In Colab\"/></a>"
      ]
    },
    {
      "cell_type": "markdown",
      "source": [
        "**Problem 1**"
      ],
      "metadata": {
        "id": "1gGTJwWS7J4Z"
      }
    },
    {
      "cell_type": "markdown",
      "source": [
        "#####Design a convolutional neural network in Keras of at least 10 convolutional layers. Use the MNIST dataset for evaluation. You must try three designs as detailed below and provide your observations on the performance of each:\n",
        "1.   A regular CNN where the number of filters in each layer increases as the depth of the \n",
        "network grows i.e., the Lth layer will have more filters than the (L-1)th layer.\n",
        "2.   An inverted CNN where the number of filters in each layer decreases as the depth of the network grows i.e., the Lth layer will have less filters than the (L-1)th layer.\n",
        "1.   An hour-glass shaped CNN where the number of filters will increase till the Lth layer and reduce afterwards.\n",
        "\n",
        "#####Your goal is to design these networks and optimize them to their best performance by choosing the right hyperparameters for each network, such as the learning rate, batch size and the choice of optimizer (‘SGD’, ‘adam’, ‘RMSProp’). You must provide a detailed report of what values you tried for each hyperparameters, your observations on why the network performed well (or not) and the final accuracy for each network on the MNIST dataset.\n",
        "\n",
        "#####You can refer to the Keras documentation for more details."
      ],
      "metadata": {
        "id": "xVrHeiDf7NuP"
      }
    },
    {
      "cell_type": "markdown",
      "source": [
        "**Solution 1**"
      ],
      "metadata": {
        "id": "rvQ_GIMY7Saq"
      }
    },
    {
      "cell_type": "markdown",
      "source": [
        "**Libraries**"
      ],
      "metadata": {
        "id": "6GT0uyhz7Uj-"
      }
    },
    {
      "cell_type": "code",
      "execution_count": 1,
      "metadata": {
        "id": "iBJ2uiLI7Boe"
      },
      "outputs": [],
      "source": [
        "from datetime import datetime\n",
        "from packaging import version\n",
        "\n",
        "import numpy as np\n",
        "import matplotlib.pyplot as plt\n",
        "from tensorflow import keras\n",
        "import tensorflow as tf"
      ]
    },
    {
      "cell_type": "markdown",
      "source": [
        "**Loading Data**"
      ],
      "metadata": {
        "id": "eEvrjdY67Y0k"
      }
    },
    {
      "cell_type": "code",
      "source": [
        "(train_images, train_labels), (test_images, test_labels) = keras.datasets.mnist.load_data()\n",
        "train_images = train_images / 255.0\n",
        "test_images = test_images / 255.0 \n",
        "train_images = np.expand_dims(train_images, axis=-1)\n",
        "test_images = np.expand_dims(test_images, axis=-1)\n",
        "print(train_images.shape)\n",
        "\n",
        "# Add an additional dimension to represent the single-channel\n",
        "x_train = train_images.reshape(-1, 28, 28, 1)\n",
        "x_test = test_images.reshape(-1, 28, 28, 1)\n",
        "x_train = train_images.reshape(-1, 28, 28, 1)\n",
        "x_test = test_images.reshape(-1, 28, 28, 1)"
      ],
      "metadata": {
        "colab": {
          "base_uri": "https://localhost:8080/"
        },
        "id": "ROF34wv27Za5",
        "outputId": "4f4eef0d-532c-4a43-9f09-d9a534ad8348"
      },
      "execution_count": 2,
      "outputs": [
        {
          "output_type": "stream",
          "name": "stdout",
          "text": [
            "Downloading data from https://storage.googleapis.com/tensorflow/tf-keras-datasets/mnist.npz\n",
            "11490434/11490434 [==============================] - 0s 0us/step\n",
            "(60000, 28, 28, 1)\n"
          ]
        }
      ]
    },
    {
      "cell_type": "markdown",
      "source": [
        "**Plotting**"
      ],
      "metadata": {
        "id": "VEK-P1vw7baa"
      }
    },
    {
      "cell_type": "code",
      "source": [
        "# Plotting\n",
        "fig, ax = plt.subplots(2,5,figsize = (20, 10))\n",
        "fig.suptitle('Train Images')\n",
        "ax = ax.flatten()\n",
        "for i in range(10):\n",
        "    im_idx = np.argwhere(train_labels == i)[0]\n",
        "    ax[i].set(xlabel='x', ylabel='y')\n",
        "    plt.setp(ax, xticks=[0, 27], yticks=[0, 27])\n",
        "    plottable_image = np.reshape(train_images[im_idx], (28, 28))\n",
        "    ax[i].imshow(plottable_image, cmap='gray')"
      ],
      "metadata": {
        "colab": {
          "base_uri": "https://localhost:8080/",
          "height": 650
        },
        "id": "jAzYSn0S7dhv",
        "outputId": "a699abe8-e532-4cfd-aa3d-8d68160e02c5"
      },
      "execution_count": 3,
      "outputs": [
        {
          "output_type": "display_data",
          "data": {
            "text/plain": [
              "<Figure size 1440x720 with 10 Axes>"
            ],
            "image/png": "[encoded data removed]"
          },
          "metadata": {
            "needs_background": "light"
          }
        }
      ]
    },
    {
      "cell_type": "markdown",
      "source": [
        "**1.1 Regular CNN**"
      ],
      "metadata": {
        "id": "RsOlIWm47h4f"
      }
    },
    {
      "cell_type": "code",
      "source": [
        "cnn_model = tf.keras.models.Sequential()\n",
        "cnn_model.add(tf.keras.layers.Conv2D(16, (3, 3), padding='same', activation='relu'))\n",
        "cnn_model.add(tf.keras.layers.Conv2D(16, (3, 3), strides=(2, 2), padding='same', activation='relu'))\n",
        "cnn_model.add(tf.keras.layers.MaxPooling2D(pool_size=(2, 2), strides=(2,2), padding='same'))\n",
        "cnn_model.add(tf.keras.layers.Conv2D(32, (3, 3), padding='same', activation='relu'))\n",
        "cnn_model.add(tf.keras.layers.Conv2D(32, (3, 3), strides=(2, 2), padding='same', activation='relu'))\n",
        "cnn_model.add(tf.keras.layers.MaxPooling2D(pool_size=(2, 2), strides=(2,2),padding='same'))\n",
        "cnn_model.add(tf.keras.layers.Conv2D(64, (3, 3), padding='same', activation='relu'))\n",
        "cnn_model.add(tf.keras.layers.Conv2D(64, (3, 3), strides=(2, 2), padding='same', activation='relu'))\n",
        "cnn_model.add(tf.keras.layers.MaxPooling2D(pool_size=(2, 2), strides=(2,2),padding='same'))\n",
        "cnn_model.add(tf.keras.layers.Conv2D(128, (3, 3), padding='same', activation='relu'))\n",
        "cnn_model.add(tf.keras.layers.Conv2D(128, (3, 3), strides=(2, 2), padding='same', activation='relu'))\n",
        "cnn_model.add(tf.keras.layers.MaxPooling2D(pool_size=(2, 2), strides=(2,2),padding='same'))\n",
        "cnn_model.add(tf.keras.layers.Conv2D(256, (3, 3), padding='same', activation='relu'))\n",
        "cnn_model.add(tf.keras.layers.MaxPooling2D(pool_size=(2, 2), strides=(2,2),padding='same'))\n",
        "cnn_model.add(tf.keras.layers.Conv2D(256, (3, 3), strides=(2, 2), padding='same', activation='relu'))\n",
        "\n",
        "cnn_model.add(tf.keras.layers.Flatten())\n",
        "cnn_model.add(tf.keras.layers.Dense(512))\n",
        "cnn_model.add(tf.keras.layers.Activation('relu'))\n",
        "cnn_model.add(tf.keras.layers.Dense(10))\n",
        "cnn_model.add(tf.keras.layers.Activation('softmax'))\n",
        "\n",
        "cnn_model.compile(loss='sparse_categorical_crossentropy', optimizer=keras.optimizers.Adam(learning_rate=0.001), metrics=['accuracy'])\n",
        "cnn_model.build(input_shape=(1,28,28,1))\n",
        "cnn_model.summary()\n",
        "\n",
        "model_cnn = cnn_model\n",
        "history_cnn = model_cnn.fit(x_train, train_labels, validation_split = 0.2, batch_size=512, epochs=25)"
      ],
      "metadata": {
        "colab": {
          "base_uri": "https://localhost:8080/"
        },
        "id": "Dp72JPNF7fgR",
        "outputId": "19f8ca8f-4572-4724-fb46-4a660129860e"
      },
      "execution_count": 4,
      "outputs": [
        {
          "output_type": "stream",
          "name": "stdout",
          "text": [
            "Model: \"sequential\"\n",
            "_________________________________________________________________\n",
            " Layer (type)                Output Shape              Param #   \n",
            "=================================================================\n",
            " conv2d (Conv2D)             (1, 28, 28, 16)           160       \n",
            "                                                                 \n",
            " conv2d_1 (Conv2D)           (1, 14, 14, 16)           2320      \n",
            "                                                                 \n",
            " max_pooling2d (MaxPooling2D  (1, 7, 7, 16)            0         \n",
            " )                                                               \n",
            "                                                                 \n",
            " conv2d_2 (Conv2D)           (1, 7, 7, 32)             4640      \n",
            "                                                                 \n",
            " conv2d_3 (Conv2D)           (1, 4, 4, 32)             9248      \n",
            "                                                                 \n",
            " max_pooling2d_1 (MaxPooling  (1, 2, 2, 32)            0         \n",
            " 2D)                                                             \n",
            "                                                                 \n",
            " conv2d_4 (Conv2D)           (1, 2, 2, 64)             18496     \n",
            "                                                                 \n",
            " conv2d_5 (Conv2D)           (1, 1, 1, 64)             36928     \n",
            "                                                                 \n",
            " max_pooling2d_2 (MaxPooling  (1, 1, 1, 64)            0         \n",
            " 2D)                                                             \n",
            "                                                                 \n",
            " conv2d_6 (Conv2D)           (1, 1, 1, 128)            73856     \n",
            "                                                                 \n",
            " conv2d_7 (Conv2D)           (1, 1, 1, 128)            147584    \n",
            "                                                                 \n",
            " max_pooling2d_3 (MaxPooling  (1, 1, 1, 128)           0         \n",
            " 2D)                                                             \n",
            "                                                                 \n",
            " conv2d_8 (Conv2D)           (1, 1, 1, 256)            295168    \n",
            "                                                                 \n",
            " max_pooling2d_4 (MaxPooling  (1, 1, 1, 256)           0         \n",
            " 2D)                                                             \n",
            "                                                                 \n",
            " conv2d_9 (Conv2D)           (1, 1, 1, 256)            590080    \n",
            "                                                                 \n",
            " flatten (Flatten)           (1, 256)                  0         \n",
            "                                                                 \n",
            " dense (Dense)               (1, 512)                  131584    \n",
            "                                                                 \n",
            " activation (Activation)     (1, 512)                  0         \n",
            "                                                                 \n",
            " dense_1 (Dense)             (1, 10)                   5130      \n",
            "                                                                 \n",
            " activation_1 (Activation)   (1, 10)                   0         \n",
            "                                                                 \n",
            "=================================================================\n",
            "Total params: 1,315,194\n",
            "Trainable params: 1,315,194\n",
            "Non-trainable params: 0\n",
            "_________________________________________________________________\n",
            "Epoch 1/25\n",
            "94/94 [==============================] - 13s 33ms/step - loss: 1.9571 - accuracy: 0.2329 - val_loss: 1.3681 - val_accuracy: 0.4467\n",
            "Epoch 2/25\n",
            "94/94 [==============================] - 2s 18ms/step - loss: 1.1190 - accuracy: 0.5527 - val_loss: 0.8585 - val_accuracy: 0.6733\n",
            "Epoch 3/25\n",
            "94/94 [==============================] - 2s 17ms/step - loss: 0.6976 - accuracy: 0.7401 - val_loss: 0.5339 - val_accuracy: 0.7997\n",
            "Epoch 4/25\n",
            "94/94 [==============================] - 2s 17ms/step - loss: 0.4661 - accuracy: 0.8373 - val_loss: 0.3597 - val_accuracy: 0.8818\n",
            "Epoch 5/25\n",
            "94/94 [==============================] - 2s 17ms/step - loss: 0.3007 - accuracy: 0.9043 - val_loss: 0.2627 - val_accuracy: 0.9188\n",
            "Epoch 6/25\n",
            "94/94 [==============================] - 2s 17ms/step - loss: 0.1911 - accuracy: 0.9432 - val_loss: 0.1503 - val_accuracy: 0.9568\n",
            "Epoch 7/25\n",
            "94/94 [==============================] - 2s 17ms/step - loss: 0.1488 - accuracy: 0.9565 - val_loss: 0.1215 - val_accuracy: 0.9672\n",
            "Epoch 8/25\n",
            "94/94 [==============================] - 2s 17ms/step - loss: 0.1063 - accuracy: 0.9697 - val_loss: 0.1073 - val_accuracy: 0.9704\n",
            "Epoch 9/25\n",
            "94/94 [==============================] - 2s 17ms/step - loss: 0.0947 - accuracy: 0.9732 - val_loss: 0.0949 - val_accuracy: 0.9739\n",
            "Epoch 10/25\n",
            "94/94 [==============================] - 2s 17ms/step - loss: 0.0785 - accuracy: 0.9781 - val_loss: 0.0975 - val_accuracy: 0.9722\n",
            "Epoch 11/25\n",
            "94/94 [==============================] - 2s 17ms/step - loss: 0.0746 - accuracy: 0.9787 - val_loss: 0.0861 - val_accuracy: 0.9762\n",
            "Epoch 12/25\n",
            "94/94 [==============================] - 2s 17ms/step - loss: 0.0603 - accuracy: 0.9833 - val_loss: 0.0842 - val_accuracy: 0.9767\n",
            "Epoch 13/25\n",
            "94/94 [==============================] - 2s 17ms/step - loss: 0.0557 - accuracy: 0.9843 - val_loss: 0.0880 - val_accuracy: 0.9765\n",
            "Epoch 14/25\n",
            "94/94 [==============================] - 2s 18ms/step - loss: 0.0538 - accuracy: 0.9844 - val_loss: 0.0825 - val_accuracy: 0.9788\n",
            "Epoch 15/25\n",
            "94/94 [==============================] - 2s 17ms/step - loss: 0.0495 - accuracy: 0.9858 - val_loss: 0.0780 - val_accuracy: 0.9803\n",
            "Epoch 16/25\n",
            "94/94 [==============================] - 2s 18ms/step - loss: 0.0441 - accuracy: 0.9872 - val_loss: 0.0875 - val_accuracy: 0.9784\n",
            "Epoch 17/25\n",
            "94/94 [==============================] - 2s 18ms/step - loss: 0.0438 - accuracy: 0.9876 - val_loss: 0.0721 - val_accuracy: 0.9820\n",
            "Epoch 18/25\n",
            "94/94 [==============================] - 2s 17ms/step - loss: 0.0374 - accuracy: 0.9895 - val_loss: 0.0778 - val_accuracy: 0.9797\n",
            "Epoch 19/25\n",
            "94/94 [==============================] - 2s 17ms/step - loss: 0.0354 - accuracy: 0.9900 - val_loss: 0.0849 - val_accuracy: 0.9810\n",
            "Epoch 20/25\n",
            "94/94 [==============================] - 2s 18ms/step - loss: 0.0310 - accuracy: 0.9913 - val_loss: 0.0687 - val_accuracy: 0.9827\n",
            "Epoch 21/25\n",
            "94/94 [==============================] - 2s 17ms/step - loss: 0.0300 - accuracy: 0.9912 - val_loss: 0.0676 - val_accuracy: 0.9843\n",
            "Epoch 22/25\n",
            "94/94 [==============================] - 2s 19ms/step - loss: 0.0254 - accuracy: 0.9927 - val_loss: 0.0741 - val_accuracy: 0.9832\n",
            "Epoch 23/25\n",
            "94/94 [==============================] - 2s 19ms/step - loss: 0.0263 - accuracy: 0.9924 - val_loss: 0.0716 - val_accuracy: 0.9835\n",
            "Epoch 24/25\n",
            "94/94 [==============================] - 2s 21ms/step - loss: 0.0219 - accuracy: 0.9936 - val_loss: 0.0696 - val_accuracy: 0.9835\n",
            "Epoch 25/25\n",
            "94/94 [==============================] - 2s 19ms/step - loss: 0.0218 - accuracy: 0.9941 - val_loss: 0.0725 - val_accuracy: 0.9825\n"
          ]
        }
      ]
    },
    {
      "cell_type": "code",
      "source": [
        "plt.plot(history_cnn.history['accuracy'])\n",
        "plt.plot(history_cnn.history['val_accuracy'])\n",
        "plt.title('Model Accuracy')\n",
        "plt.ylabel('Accuracy')\n",
        "plt.xlabel('Epoch')\n",
        "plt.legend(['Train', 'Val'], loc='upper left')\n",
        "plt.show()"
      ],
      "metadata": {
        "colab": {
          "base_uri": "https://localhost:8080/",
          "height": 295
        },
        "id": "lPDclKPh7nDs",
        "outputId": "928fb65d-5fa5-48c0-d0ae-e39ebe05710e"
      },
      "execution_count": 5,
      "outputs": [
        {
          "output_type": "display_data",
          "data": {
            "text/plain": [
              "<Figure size 432x288 with 1 Axes>"
            ],
            "image/png": "[encoded data removed]"
          },
          "metadata": {
            "needs_background": "light"
          }
        }
      ]
    },
    {
      "cell_type": "code",
      "source": [
        "score = model_cnn.evaluate(x_train, train_labels)\n",
        "print('Train loss:', score[0])\n",
        "print('Train accuracy:', score[1])"
      ],
      "metadata": {
        "colab": {
          "base_uri": "https://localhost:8080/"
        },
        "id": "KAixqrxE7nhQ",
        "outputId": "51860ed2-cbeb-4d15-dd68-c2be40f83f88"
      },
      "execution_count": 6,
      "outputs": [
        {
          "output_type": "stream",
          "name": "stdout",
          "text": [
            "1875/1875 [==============================] - 8s 4ms/step - loss: 0.0310 - accuracy: 0.9918\n",
            "Train loss: 0.0310057420283556\n",
            "Train accuracy: 0.9918000102043152\n"
          ]
        }
      ]
    },
    {
      "cell_type": "code",
      "source": [
        "score = model_cnn.evaluate(x_test, test_labels)\n",
        "print('Test loss:', score[0])\n",
        "print('Test accuracy:', score[1])"
      ],
      "metadata": {
        "colab": {
          "base_uri": "https://localhost:8080/"
        },
        "id": "Mdj5E5047pFw",
        "outputId": "30da81ad-e4a2-401e-9bf9-c71b214fc330"
      },
      "execution_count": 7,
      "outputs": [
        {
          "output_type": "stream",
          "name": "stdout",
          "text": [
            "313/313 [==============================] - 2s 5ms/step - loss: 0.0650 - accuracy: 0.9849\n",
            "Test loss: 0.06496333330869675\n",
            "Test accuracy: 0.9848999977111816\n"
          ]
        }
      ]
    },
    {
      "cell_type": "markdown",
      "source": [
        "**Effect of learning rate on Regular CNN**"
      ],
      "metadata": {
        "id": "U9307vcS7uAM"
      }
    },
    {
      "cell_type": "markdown",
      "source": [
        "To examine the effect of learning rate on the training process, we took different learning rate as $0.0001, 0.001, 0.01$"
      ],
      "metadata": {
        "id": "CZVb_y45Ilec"
      }
    },
    {
      "cell_type": "code",
      "source": [
        "learningRate=[0.0001, 0.001, 0.01]\n",
        "acc=np.zeros(3)\n",
        "for i in range(len(learningRate)):\n",
        "  cnn_model = tf.keras.models.Sequential()\n",
        "  cnn_model.add(tf.keras.layers.Conv2D(16, (3, 3), padding='same', activation='relu'))\n",
        "  cnn_model.add(tf.keras.layers.Conv2D(16, (3, 3), strides=(2, 2), padding='same', activation='relu'))\n",
        "  cnn_model.add(tf.keras.layers.MaxPooling2D(pool_size=(2, 2), strides=(2,2), padding='same'))\n",
        "  cnn_model.add(tf.keras.layers.Conv2D(32, (3, 3), padding='same', activation='relu'))\n",
        "  cnn_model.add(tf.keras.layers.Conv2D(32, (3, 3), strides=(2, 2), padding='same', activation='relu'))\n",
        "  cnn_model.add(tf.keras.layers.MaxPooling2D(pool_size=(2, 2), strides=(2,2),padding='same'))\n",
        "  cnn_model.add(tf.keras.layers.Conv2D(64, (3, 3), padding='same', activation='relu'))\n",
        "  cnn_model.add(tf.keras.layers.Conv2D(64, (3, 3), strides=(2, 2), padding='same', activation='relu'))\n",
        "  cnn_model.add(tf.keras.layers.MaxPooling2D(pool_size=(2, 2), strides=(2,2),padding='same'))\n",
        "  cnn_model.add(tf.keras.layers.Conv2D(128, (3, 3), padding='same', activation='relu'))\n",
        "  cnn_model.add(tf.keras.layers.Conv2D(128, (3, 3), strides=(2, 2), padding='same', activation='relu'))\n",
        "  cnn_model.add(tf.keras.layers.MaxPooling2D(pool_size=(2, 2), strides=(2,2),padding='same'))\n",
        "  cnn_model.add(tf.keras.layers.Conv2D(256, (3, 3), padding='same', activation='relu'))\n",
        "  cnn_model.add(tf.keras.layers.MaxPooling2D(pool_size=(2, 2), strides=(2,2),padding='same'))\n",
        "  cnn_model.add(tf.keras.layers.Conv2D(256, (3, 3), strides=(2, 2), padding='same', activation='relu'))\n",
        "\n",
        "  cnn_model.add(tf.keras.layers.Flatten())\n",
        "  cnn_model.add(tf.keras.layers.Dense(512))\n",
        "  cnn_model.add(tf.keras.layers.Activation('relu'))\n",
        "  cnn_model.add(tf.keras.layers.Dense(10))\n",
        "  cnn_model.add(tf.keras.layers.Activation('softmax'))\n",
        "\n",
        "  cnn_model.compile(loss='sparse_categorical_crossentropy', optimizer='adam', metrics=['accuracy'])\n",
        "  cnn_model.build(input_shape=(1,28,28,1))\n",
        "  accuracy= cnn_model.fit(train_images, train_labels, batch_size=512, epochs=25)\n",
        "  acc[i]=accuracy.history['accuracy'][24]\n",
        "  cnn_model.summary()"
      ],
      "metadata": {
        "colab": {
          "base_uri": "https://localhost:8080/"
        },
        "id": "ppchC8gA7qxI",
        "outputId": "57e7afd1-435b-45aa-e13d-4adc7dea8664"
      },
      "execution_count": 12,
      "outputs": [
        {
          "output_type": "stream",
          "name": "stdout",
          "text": [
            "Epoch 1/25\n",
            "118/118 [==============================] - 3s 17ms/step - loss: 1.9540 - accuracy: 0.2317\n",
            "Epoch 2/25\n",
            "118/118 [==============================] - 2s 16ms/step - loss: 0.9719 - accuracy: 0.6197\n",
            "Epoch 3/25\n",
            "118/118 [==============================] - 2s 17ms/step - loss: 0.4485 - accuracy: 0.8450\n",
            "Epoch 4/25\n",
            "118/118 [==============================] - 3s 22ms/step - loss: 0.2480 - accuracy: 0.9212\n",
            "Epoch 5/25\n",
            "118/118 [==============================] - 3s 21ms/step - loss: 0.1775 - accuracy: 0.9463\n",
            "Epoch 6/25\n",
            "118/118 [==============================] - 2s 17ms/step - loss: 0.1380 - accuracy: 0.9590\n",
            "Epoch 7/25\n",
            "118/118 [==============================] - 2s 16ms/step - loss: 0.1021 - accuracy: 0.9699\n",
            "Epoch 8/25\n",
            "118/118 [==============================] - 2s 16ms/step - loss: 0.0861 - accuracy: 0.9749\n",
            "Epoch 9/25\n",
            "118/118 [==============================] - 2s 18ms/step - loss: 0.0700 - accuracy: 0.9789\n",
            "Epoch 10/25\n",
            "118/118 [==============================] - 2s 16ms/step - loss: 0.0610 - accuracy: 0.9815\n",
            "Epoch 11/25\n",
            "118/118 [==============================] - 2s 17ms/step - loss: 0.0541 - accuracy: 0.9839\n",
            "Epoch 12/25\n",
            "118/118 [==============================] - 2s 18ms/step - loss: 0.0464 - accuracy: 0.9860\n",
            "Epoch 13/25\n",
            "118/118 [==============================] - 2s 18ms/step - loss: 0.0480 - accuracy: 0.9855\n",
            "Epoch 14/25\n",
            "118/118 [==============================] - 2s 17ms/step - loss: 0.0386 - accuracy: 0.9887\n",
            "Epoch 15/25\n",
            "118/118 [==============================] - 2s 16ms/step - loss: 0.0340 - accuracy: 0.9899\n",
            "Epoch 16/25\n",
            "118/118 [==============================] - 2s 17ms/step - loss: 0.0302 - accuracy: 0.9913\n",
            "Epoch 17/25\n",
            "118/118 [==============================] - 2s 19ms/step - loss: 0.0323 - accuracy: 0.9906\n",
            "Epoch 18/25\n",
            "118/118 [==============================] - 2s 17ms/step - loss: 0.0266 - accuracy: 0.9921\n",
            "Epoch 19/25\n",
            "118/118 [==============================] - 2s 18ms/step - loss: 0.0265 - accuracy: 0.9921\n",
            "Epoch 20/25\n",
            "118/118 [==============================] - 2s 16ms/step - loss: 0.0225 - accuracy: 0.9934\n",
            "Epoch 21/25\n",
            "118/118 [==============================] - 2s 16ms/step - loss: 0.0227 - accuracy: 0.9934\n",
            "Epoch 22/25\n",
            "118/118 [==============================] - 2s 16ms/step - loss: 0.0199 - accuracy: 0.9941\n",
            "Epoch 23/25\n",
            "118/118 [==============================] - 2s 16ms/step - loss: 0.0212 - accuracy: 0.9936\n",
            "Epoch 24/25\n",
            "118/118 [==============================] - 2s 17ms/step - loss: 0.0188 - accuracy: 0.9941\n",
            "Epoch 25/25\n",
            "118/118 [==============================] - 2s 16ms/step - loss: 0.0207 - accuracy: 0.9937\n",
            "Model: \"sequential_11\"\n",
            "_________________________________________________________________\n",
            " Layer (type)                Output Shape              Param #   \n",
            "=================================================================\n",
            " conv2d_110 (Conv2D)         (None, 28, 28, 16)        160       \n",
            "                                                                 \n",
            " conv2d_111 (Conv2D)         (None, 14, 14, 16)        2320      \n",
            "                                                                 \n",
            " max_pooling2d_55 (MaxPoolin  (None, 7, 7, 16)         0         \n",
            " g2D)                                                            \n",
            "                                                                 \n",
            " conv2d_112 (Conv2D)         (None, 7, 7, 32)          4640      \n",
            "                                                                 \n",
            " conv2d_113 (Conv2D)         (None, 4, 4, 32)          9248      \n",
            "                                                                 \n",
            " max_pooling2d_56 (MaxPoolin  (None, 2, 2, 32)         0         \n",
            " g2D)                                                            \n",
            "                                                                 \n",
            " conv2d_114 (Conv2D)         (None, 2, 2, 64)          18496     \n",
            "                                                                 \n",
            " conv2d_115 (Conv2D)         (None, 1, 1, 64)          36928     \n",
            "                                                                 \n",
            " max_pooling2d_57 (MaxPoolin  (None, 1, 1, 64)         0         \n",
            " g2D)                                                            \n",
            "                                                                 \n",
            " conv2d_116 (Conv2D)         (None, 1, 1, 128)         73856     \n",
            "                                                                 \n",
            " conv2d_117 (Conv2D)         (None, 1, 1, 128)         147584    \n",
            "                                                                 \n",
            " max_pooling2d_58 (MaxPoolin  (None, 1, 1, 128)        0         \n",
            " g2D)                                                            \n",
            "                                                                 \n",
            " conv2d_118 (Conv2D)         (None, 1, 1, 256)         295168    \n",
            "                                                                 \n",
            " max_pooling2d_59 (MaxPoolin  (None, 1, 1, 256)        0         \n",
            " g2D)                                                            \n",
            "                                                                 \n",
            " conv2d_119 (Conv2D)         (None, 1, 1, 256)         590080    \n",
            "                                                                 \n",
            " flatten_11 (Flatten)        (None, 256)               0         \n",
            "                                                                 \n",
            " dense_22 (Dense)            (None, 512)               131584    \n",
            "                                                                 \n",
            " activation_22 (Activation)  (None, 512)               0         \n",
            "                                                                 \n",
            " dense_23 (Dense)            (None, 10)                5130      \n",
            "                                                                 \n",
            " activation_23 (Activation)  (None, 10)                0         \n",
            "                                                                 \n",
            "=================================================================\n",
            "Total params: 1,315,194\n",
            "Trainable params: 1,315,194\n",
            "Non-trainable params: 0\n",
            "_________________________________________________________________\n",
            "Epoch 1/25\n",
            "118/118 [==============================] - 3s 16ms/step - loss: 1.7986 - accuracy: 0.2947\n",
            "Epoch 2/25\n",
            "118/118 [==============================] - 2s 16ms/step - loss: 0.9376 - accuracy: 0.6387\n",
            "Epoch 3/25\n",
            "118/118 [==============================] - 2s 16ms/step - loss: 0.5684 - accuracy: 0.8020\n",
            "Epoch 4/25\n",
            "118/118 [==============================] - 2s 16ms/step - loss: 0.3627 - accuracy: 0.8850\n",
            "Epoch 5/25\n",
            "118/118 [==============================] - 2s 16ms/step - loss: 0.2532 - accuracy: 0.9251\n",
            "Epoch 6/25\n",
            "118/118 [==============================] - 2s 16ms/step - loss: 0.1820 - accuracy: 0.9495\n",
            "Epoch 7/25\n",
            "118/118 [==============================] - 2s 16ms/step - loss: 0.1419 - accuracy: 0.9605\n",
            "Epoch 8/25\n",
            "118/118 [==============================] - 2s 16ms/step - loss: 0.1238 - accuracy: 0.9654\n",
            "Epoch 9/25\n",
            "118/118 [==============================] - 2s 16ms/step - loss: 0.0989 - accuracy: 0.9728\n",
            "Epoch 10/25\n",
            "118/118 [==============================] - 2s 16ms/step - loss: 0.0811 - accuracy: 0.9779\n",
            "Epoch 11/25\n",
            "118/118 [==============================] - 2s 16ms/step - loss: 0.0721 - accuracy: 0.9805\n",
            "Epoch 12/25\n",
            "118/118 [==============================] - 2s 16ms/step - loss: 0.0597 - accuracy: 0.9836\n",
            "Epoch 13/25\n",
            "118/118 [==============================] - 2s 16ms/step - loss: 0.0538 - accuracy: 0.9854\n",
            "Epoch 14/25\n",
            "118/118 [==============================] - 2s 16ms/step - loss: 0.0460 - accuracy: 0.9872\n",
            "Epoch 15/25\n",
            "118/118 [==============================] - 2s 16ms/step - loss: 0.0432 - accuracy: 0.9876\n",
            "Epoch 16/25\n",
            "118/118 [==============================] - 2s 16ms/step - loss: 0.0408 - accuracy: 0.9883\n",
            "Epoch 17/25\n",
            "118/118 [==============================] - 2s 16ms/step - loss: 0.0347 - accuracy: 0.9904\n",
            "Epoch 18/25\n",
            "118/118 [==============================] - 2s 16ms/step - loss: 0.0301 - accuracy: 0.9913\n",
            "Epoch 19/25\n",
            "118/118 [==============================] - 2s 16ms/step - loss: 0.0251 - accuracy: 0.9927\n",
            "Epoch 20/25\n",
            "118/118 [==============================] - 2s 16ms/step - loss: 0.0301 - accuracy: 0.9909\n",
            "Epoch 21/25\n",
            "118/118 [==============================] - 2s 16ms/step - loss: 0.0262 - accuracy: 0.9926\n",
            "Epoch 22/25\n",
            "118/118 [==============================] - 2s 16ms/step - loss: 0.0223 - accuracy: 0.9940\n",
            "Epoch 23/25\n",
            "118/118 [==============================] - 2s 16ms/step - loss: 0.0239 - accuracy: 0.9933\n",
            "Epoch 24/25\n",
            "118/118 [==============================] - 2s 16ms/step - loss: 0.0185 - accuracy: 0.9948\n",
            "Epoch 25/25\n",
            "118/118 [==============================] - 2s 16ms/step - loss: 0.0179 - accuracy: 0.9947\n",
            "Model: \"sequential_12\"\n",
            "_________________________________________________________________\n",
            " Layer (type)                Output Shape              Param #   \n",
            "=================================================================\n",
            " conv2d_120 (Conv2D)         (None, 28, 28, 16)        160       \n",
            "                                                                 \n",
            " conv2d_121 (Conv2D)         (None, 14, 14, 16)        2320      \n",
            "                                                                 \n",
            " max_pooling2d_60 (MaxPoolin  (None, 7, 7, 16)         0         \n",
            " g2D)                                                            \n",
            "                                                                 \n",
            " conv2d_122 (Conv2D)         (None, 7, 7, 32)          4640      \n",
            "                                                                 \n",
            " conv2d_123 (Conv2D)         (None, 4, 4, 32)          9248      \n",
            "                                                                 \n",
            " max_pooling2d_61 (MaxPoolin  (None, 2, 2, 32)         0         \n",
            " g2D)                                                            \n",
            "                                                                 \n",
            " conv2d_124 (Conv2D)         (None, 2, 2, 64)          18496     \n",
            "                                                                 \n",
            " conv2d_125 (Conv2D)         (None, 1, 1, 64)          36928     \n",
            "                                                                 \n",
            " max_pooling2d_62 (MaxPoolin  (None, 1, 1, 64)         0         \n",
            " g2D)                                                            \n",
            "                                                                 \n",
            " conv2d_126 (Conv2D)         (None, 1, 1, 128)         73856     \n",
            "                                                                 \n",
            " conv2d_127 (Conv2D)         (None, 1, 1, 128)         147584    \n",
            "                                                                 \n",
            " max_pooling2d_63 (MaxPoolin  (None, 1, 1, 128)        0         \n",
            " g2D)                                                            \n",
            "                                                                 \n",
            " conv2d_128 (Conv2D)         (None, 1, 1, 256)         295168    \n",
            "                                                                 \n",
            " max_pooling2d_64 (MaxPoolin  (None, 1, 1, 256)        0         \n",
            " g2D)                                                            \n",
            "                                                                 \n",
            " conv2d_129 (Conv2D)         (None, 1, 1, 256)         590080    \n",
            "                                                                 \n",
            " flatten_12 (Flatten)        (None, 256)               0         \n",
            "                                                                 \n",
            " dense_24 (Dense)            (None, 512)               131584    \n",
            "                                                                 \n",
            " activation_24 (Activation)  (None, 512)               0         \n",
            "                                                                 \n",
            " dense_25 (Dense)            (None, 10)                5130      \n",
            "                                                                 \n",
            " activation_25 (Activation)  (None, 10)                0         \n",
            "                                                                 \n",
            "=================================================================\n",
            "Total params: 1,315,194\n",
            "Trainable params: 1,315,194\n",
            "Non-trainable params: 0\n",
            "_________________________________________________________________\n",
            "Epoch 1/25\n",
            "118/118 [==============================] - 3s 16ms/step - loss: 1.8705 - accuracy: 0.2562\n",
            "Epoch 2/25\n",
            "118/118 [==============================] - 2s 16ms/step - loss: 0.9947 - accuracy: 0.5975\n",
            "Epoch 3/25\n",
            "118/118 [==============================] - 2s 16ms/step - loss: 0.6881 - accuracy: 0.7491\n",
            "Epoch 4/25\n",
            "118/118 [==============================] - 2s 18ms/step - loss: 0.4145 - accuracy: 0.8817\n",
            "Epoch 5/25\n",
            "118/118 [==============================] - 2s 19ms/step - loss: 0.2191 - accuracy: 0.9409\n",
            "Epoch 6/25\n",
            "118/118 [==============================] - 2s 16ms/step - loss: 0.1423 - accuracy: 0.9611\n",
            "Epoch 7/25\n",
            "118/118 [==============================] - 2s 16ms/step - loss: 0.1068 - accuracy: 0.9708\n",
            "Epoch 8/25\n",
            "118/118 [==============================] - 2s 17ms/step - loss: 0.0825 - accuracy: 0.9764\n",
            "Epoch 9/25\n",
            "118/118 [==============================] - 2s 17ms/step - loss: 0.0697 - accuracy: 0.9803\n",
            "Epoch 10/25\n",
            "118/118 [==============================] - 2s 20ms/step - loss: 0.0566 - accuracy: 0.9842\n",
            "Epoch 11/25\n",
            "118/118 [==============================] - 2s 16ms/step - loss: 0.0530 - accuracy: 0.9848\n",
            "Epoch 12/25\n",
            "118/118 [==============================] - 2s 16ms/step - loss: 0.0464 - accuracy: 0.9869\n",
            "Epoch 13/25\n",
            "118/118 [==============================] - 2s 17ms/step - loss: 0.0453 - accuracy: 0.9872\n",
            "Epoch 14/25\n",
            "118/118 [==============================] - 2s 17ms/step - loss: 0.0393 - accuracy: 0.9888\n",
            "Epoch 15/25\n",
            "118/118 [==============================] - 2s 16ms/step - loss: 0.0360 - accuracy: 0.9898\n",
            "Epoch 16/25\n",
            "118/118 [==============================] - 2s 16ms/step - loss: 0.0296 - accuracy: 0.9918\n",
            "Epoch 17/25\n",
            "118/118 [==============================] - 2s 16ms/step - loss: 0.0276 - accuracy: 0.9921\n",
            "Epoch 18/25\n",
            "118/118 [==============================] - 2s 16ms/step - loss: 0.0295 - accuracy: 0.9916\n",
            "Epoch 19/25\n",
            "118/118 [==============================] - 2s 16ms/step - loss: 0.0290 - accuracy: 0.9915\n",
            "Epoch 20/25\n",
            "118/118 [==============================] - 2s 16ms/step - loss: 0.0239 - accuracy: 0.9933\n",
            "Epoch 21/25\n",
            "118/118 [==============================] - 2s 16ms/step - loss: 0.0334 - accuracy: 0.9906\n",
            "Epoch 22/25\n",
            "118/118 [==============================] - 2s 16ms/step - loss: 0.0219 - accuracy: 0.9940\n",
            "Epoch 23/25\n",
            "118/118 [==============================] - 2s 16ms/step - loss: 0.0198 - accuracy: 0.9940\n",
            "Epoch 24/25\n",
            "118/118 [==============================] - 2s 16ms/step - loss: 0.0157 - accuracy: 0.9955\n",
            "Epoch 25/25\n",
            "118/118 [==============================] - 2s 16ms/step - loss: 0.0186 - accuracy: 0.9945\n",
            "Model: \"sequential_13\"\n",
            "_________________________________________________________________\n",
            " Layer (type)                Output Shape              Param #   \n",
            "=================================================================\n",
            " conv2d_130 (Conv2D)         (None, 28, 28, 16)        160       \n",
            "                                                                 \n",
            " conv2d_131 (Conv2D)         (None, 14, 14, 16)        2320      \n",
            "                                                                 \n",
            " max_pooling2d_65 (MaxPoolin  (None, 7, 7, 16)         0         \n",
            " g2D)                                                            \n",
            "                                                                 \n",
            " conv2d_132 (Conv2D)         (None, 7, 7, 32)          4640      \n",
            "                                                                 \n",
            " conv2d_133 (Conv2D)         (None, 4, 4, 32)          9248      \n",
            "                                                                 \n",
            " max_pooling2d_66 (MaxPoolin  (None, 2, 2, 32)         0         \n",
            " g2D)                                                            \n",
            "                                                                 \n",
            " conv2d_134 (Conv2D)         (None, 2, 2, 64)          18496     \n",
            "                                                                 \n",
            " conv2d_135 (Conv2D)         (None, 1, 1, 64)          36928     \n",
            "                                                                 \n",
            " max_pooling2d_67 (MaxPoolin  (None, 1, 1, 64)         0         \n",
            " g2D)                                                            \n",
            "                                                                 \n",
            " conv2d_136 (Conv2D)         (None, 1, 1, 128)         73856     \n",
            "                                                                 \n",
            " conv2d_137 (Conv2D)         (None, 1, 1, 128)         147584    \n",
            "                                                                 \n",
            " max_pooling2d_68 (MaxPoolin  (None, 1, 1, 128)        0         \n",
            " g2D)                                                            \n",
            "                                                                 \n",
            " conv2d_138 (Conv2D)         (None, 1, 1, 256)         295168    \n",
            "                                                                 \n",
            " max_pooling2d_69 (MaxPoolin  (None, 1, 1, 256)        0         \n",
            " g2D)                                                            \n",
            "                                                                 \n",
            " conv2d_139 (Conv2D)         (None, 1, 1, 256)         590080    \n",
            "                                                                 \n",
            " flatten_13 (Flatten)        (None, 256)               0         \n",
            "                                                                 \n",
            " dense_26 (Dense)            (None, 512)               131584    \n",
            "                                                                 \n",
            " activation_26 (Activation)  (None, 512)               0         \n",
            "                                                                 \n",
            " dense_27 (Dense)            (None, 10)                5130      \n",
            "                                                                 \n",
            " activation_27 (Activation)  (None, 10)                0         \n",
            "                                                                 \n",
            "=================================================================\n",
            "Total params: 1,315,194\n",
            "Trainable params: 1,315,194\n",
            "Non-trainable params: 0\n",
            "_________________________________________________________________\n"
          ]
        }
      ]
    },
    {
      "cell_type": "code",
      "source": [
        "print(acc)\n",
        "plt.plot(np.array(learningRate).reshape(3,1), np.array(acc).reshape(3,1), color = 'red')\n",
        "plt.ylabel('Accuracy')\n",
        "plt.xlabel('Learning Rate')\n",
        "plt.title('Accuracy Vs Learning rate')\n",
        "plt.show()"
      ],
      "metadata": {
        "colab": {
          "base_uri": "https://localhost:8080/",
          "height": 312
        },
        "id": "y8gKm9tW8Il9",
        "outputId": "eb1a10bc-a101-494d-eac5-c4e07f0c956d"
      },
      "execution_count": 13,
      "outputs": [
        {
          "output_type": "stream",
          "name": "stdout",
          "text": [
            "[0.99370003 0.99468333 0.99448335]\n"
          ]
        },
        {
          "output_type": "display_data",
          "data": {
            "text/plain": [
              "<Figure size 432x288 with 1 Axes>"
            ],
            "image/png": "[encoded data removed]"
          },
          "metadata": {
            "needs_background": "light"
          }
        }
      ]
    },
    {
      "cell_type": "markdown",
      "source": [
        "**Which one performed best**"
      ],
      "metadata": {
        "id": "hLmLAtsB8iEA"
      }
    },
    {
      "cell_type": "code",
      "source": [
        "from tabulate import tabulate\n",
        "mydata = [[0.0001, 0.99370003],\n",
        "          [0.001, 0.99468333],\n",
        "          [0.01, 0.99448335]]\n",
        "head = [\"Learning Rate\", \"Accuarcy\"]\n",
        "# Display Table\n",
        "print(tabulate(mydata, headers=head, tablefmt=\"grid\", numalign=\"center\"))"
      ],
      "metadata": {
        "colab": {
          "base_uri": "https://localhost:8080/"
        },
        "id": "gl_h6wAJ8kML",
        "outputId": "2c785c5c-a0c8-4a3f-99f4-6e57b91590ac"
      },
      "execution_count": 16,
      "outputs": [
        {
          "output_type": "stream",
          "name": "stdout",
          "text": [
            "+-----------------+------------+\n",
            "|  Learning Rate  |  Accuarcy  |\n",
            "+=================+============+\n",
            "|     0.0001      |   0.9937   |\n",
            "+-----------------+------------+\n",
            "|      0.001      |  0.994683  |\n",
            "+-----------------+------------+\n",
            "|      0.01       |  0.994483  |\n",
            "+-----------------+------------+\n"
          ]
        }
      ]
    },
    {
      "cell_type": "markdown",
      "source": [
        "#####Based on the above results, we can say that for my case, learning rate = 0.001 gives highest accuarcy (0.99468333). This may be because of easily skipping of the minima for higher learning rates or unable to reach to minima due to high change in values. "
      ],
      "metadata": {
        "id": "uSxkDmcMF8pd"
      }
    },
    {
      "cell_type": "markdown",
      "source": [
        "**Effect of batch size on Regular CNN**"
      ],
      "metadata": {
        "id": "vaEH_uVA8Wa2"
      }
    },
    {
      "cell_type": "markdown",
      "source": [
        "To examine the effect of batch size on the training process, we took different batch size as $128, 256, 512$"
      ],
      "metadata": {
        "id": "3Lr9o3kjIw0F"
      }
    },
    {
      "cell_type": "code",
      "source": [
        "batch=[128, 256, 512]\n",
        "acc=np.zeros(3)\n",
        "for i in range(len(batch)):\n",
        "  cnn_model = tf.keras.models.Sequential()\n",
        "  cnn_model.add(tf.keras.layers.Conv2D(16, (3, 3), padding='same', activation='relu'))\n",
        "  cnn_model.add(tf.keras.layers.Conv2D(16, (3, 3), strides=(2, 2), padding='same', activation='relu'))\n",
        "  cnn_model.add(tf.keras.layers.MaxPooling2D(pool_size=(2, 2), strides=(2,2), padding='same'))\n",
        "  cnn_model.add(tf.keras.layers.Conv2D(32, (3, 3), padding='same', activation='relu'))\n",
        "  cnn_model.add(tf.keras.layers.Conv2D(32, (3, 3), strides=(2, 2), padding='same', activation='relu'))\n",
        "  cnn_model.add(tf.keras.layers.MaxPooling2D(pool_size=(2, 2), strides=(2,2),padding='same'))\n",
        "  cnn_model.add(tf.keras.layers.Conv2D(64, (3, 3), padding='same', activation='relu'))\n",
        "  cnn_model.add(tf.keras.layers.Conv2D(64, (3, 3), strides=(2, 2), padding='same', activation='relu'))\n",
        "  cnn_model.add(tf.keras.layers.MaxPooling2D(pool_size=(2, 2), strides=(2,2),padding='same'))\n",
        "  cnn_model.add(tf.keras.layers.Conv2D(128, (3, 3), padding='same', activation='relu'))\n",
        "  cnn_model.add(tf.keras.layers.Conv2D(128, (3, 3), strides=(2, 2), padding='same', activation='relu'))\n",
        "  cnn_model.add(tf.keras.layers.MaxPooling2D(pool_size=(2, 2), strides=(2,2),padding='same'))\n",
        "  cnn_model.add(tf.keras.layers.Conv2D(256, (3, 3), padding='same', activation='relu'))\n",
        "  cnn_model.add(tf.keras.layers.MaxPooling2D(pool_size=(2, 2), strides=(2,2),padding='same'))\n",
        "  cnn_model.add(tf.keras.layers.Conv2D(256, (3, 3), strides=(2, 2), padding='same', activation='relu'))\n",
        "\n",
        "  cnn_model.add(tf.keras.layers.Flatten())\n",
        "  cnn_model.add(tf.keras.layers.Dense(512))\n",
        "  cnn_model.add(tf.keras.layers.Activation('relu'))\n",
        "  cnn_model.add(tf.keras.layers.Dense(10))\n",
        "  cnn_model.add(tf.keras.layers.Activation('softmax'))\n",
        "\n",
        "  cnn_model.compile(loss='sparse_categorical_crossentropy', optimizer='adam', metrics=['accuracy'])\n",
        "  cnn_model.build(input_shape=(1,28,28,1))\n",
        "  accuracy= cnn_model.fit(train_images, train_labels, batch_size=batch[i], epochs=25)\n",
        "  acc[i]=accuracy.history['accuracy'][24]\n",
        "  cnn_model.summary()"
      ],
      "metadata": {
        "colab": {
          "base_uri": "https://localhost:8080/"
        },
        "id": "lsOPNT-f8juh",
        "outputId": "50328197-3ad5-4b98-ee1d-67d7f8fa80d1"
      },
      "execution_count": 18,
      "outputs": [
        {
          "output_type": "stream",
          "name": "stdout",
          "text": [
            "Epoch 1/25\n",
            "469/469 [==============================] - 6s 10ms/step - loss: 1.0624 - accuracy: 0.5938\n",
            "Epoch 2/25\n",
            "469/469 [==============================] - 4s 9ms/step - loss: 0.2724 - accuracy: 0.9198\n",
            "Epoch 3/25\n",
            "469/469 [==============================] - 4s 8ms/step - loss: 0.1443 - accuracy: 0.9613\n",
            "Epoch 4/25\n",
            "469/469 [==============================] - 4s 8ms/step - loss: 0.0998 - accuracy: 0.9731\n",
            "Epoch 5/25\n",
            "469/469 [==============================] - 4s 8ms/step - loss: 0.0775 - accuracy: 0.9793\n",
            "Epoch 6/25\n",
            "469/469 [==============================] - 4s 8ms/step - loss: 0.0678 - accuracy: 0.9824\n",
            "Epoch 7/25\n",
            "469/469 [==============================] - 4s 8ms/step - loss: 0.0519 - accuracy: 0.9864\n",
            "Epoch 8/25\n",
            "469/469 [==============================] - 4s 8ms/step - loss: 0.0459 - accuracy: 0.9875\n",
            "Epoch 9/25\n",
            "469/469 [==============================] - 4s 9ms/step - loss: 0.0406 - accuracy: 0.9891\n",
            "Epoch 10/25\n",
            "469/469 [==============================] - 4s 8ms/step - loss: 0.0406 - accuracy: 0.9890\n",
            "Epoch 11/25\n",
            "469/469 [==============================] - 4s 8ms/step - loss: 0.0360 - accuracy: 0.9901\n",
            "Epoch 12/25\n",
            "469/469 [==============================] - 5s 10ms/step - loss: 0.0337 - accuracy: 0.9910\n",
            "Epoch 13/25\n",
            "469/469 [==============================] - 4s 8ms/step - loss: 0.0281 - accuracy: 0.9926\n",
            "Epoch 14/25\n",
            "469/469 [==============================] - 4s 9ms/step - loss: 0.0359 - accuracy: 0.9909\n",
            "Epoch 15/25\n",
            "469/469 [==============================] - 4s 9ms/step - loss: 0.0246 - accuracy: 0.9934\n",
            "Epoch 16/25\n",
            "469/469 [==============================] - 4s 8ms/step - loss: 0.0232 - accuracy: 0.9938\n",
            "Epoch 17/25\n",
            "469/469 [==============================] - 4s 8ms/step - loss: 0.0208 - accuracy: 0.9946\n",
            "Epoch 18/25\n",
            "469/469 [==============================] - 4s 9ms/step - loss: 0.0204 - accuracy: 0.9946\n",
            "Epoch 19/25\n",
            "469/469 [==============================] - 4s 8ms/step - loss: 0.0211 - accuracy: 0.9939\n",
            "Epoch 20/25\n",
            "469/469 [==============================] - 4s 8ms/step - loss: 0.0189 - accuracy: 0.9951\n",
            "Epoch 21/25\n",
            "469/469 [==============================] - 4s 8ms/step - loss: 0.0214 - accuracy: 0.9943\n",
            "Epoch 22/25\n",
            "469/469 [==============================] - 4s 8ms/step - loss: 0.0186 - accuracy: 0.9949\n",
            "Epoch 23/25\n",
            "469/469 [==============================] - 4s 8ms/step - loss: 0.0159 - accuracy: 0.9957\n",
            "Epoch 24/25\n",
            "469/469 [==============================] - 4s 8ms/step - loss: 0.0132 - accuracy: 0.9967\n",
            "Epoch 25/25\n",
            "469/469 [==============================] - 4s 8ms/step - loss: 0.0155 - accuracy: 0.9960\n",
            "Model: \"sequential_18\"\n",
            "_________________________________________________________________\n",
            " Layer (type)                Output Shape              Param #   \n",
            "=================================================================\n",
            " conv2d_180 (Conv2D)         (None, 28, 28, 16)        160       \n",
            "                                                                 \n",
            " conv2d_181 (Conv2D)         (None, 14, 14, 16)        2320      \n",
            "                                                                 \n",
            " max_pooling2d_90 (MaxPoolin  (None, 7, 7, 16)         0         \n",
            " g2D)                                                            \n",
            "                                                                 \n",
            " conv2d_182 (Conv2D)         (None, 7, 7, 32)          4640      \n",
            "                                                                 \n",
            " conv2d_183 (Conv2D)         (None, 4, 4, 32)          9248      \n",
            "                                                                 \n",
            " max_pooling2d_91 (MaxPoolin  (None, 2, 2, 32)         0         \n",
            " g2D)                                                            \n",
            "                                                                 \n",
            " conv2d_184 (Conv2D)         (None, 2, 2, 64)          18496     \n",
            "                                                                 \n",
            " conv2d_185 (Conv2D)         (None, 1, 1, 64)          36928     \n",
            "                                                                 \n",
            " max_pooling2d_92 (MaxPoolin  (None, 1, 1, 64)         0         \n",
            " g2D)                                                            \n",
            "                                                                 \n",
            " conv2d_186 (Conv2D)         (None, 1, 1, 128)         73856     \n",
            "                                                                 \n",
            " conv2d_187 (Conv2D)         (None, 1, 1, 128)         147584    \n",
            "                                                                 \n",
            " max_pooling2d_93 (MaxPoolin  (None, 1, 1, 128)        0         \n",
            " g2D)                                                            \n",
            "                                                                 \n",
            " conv2d_188 (Conv2D)         (None, 1, 1, 256)         295168    \n",
            "                                                                 \n",
            " max_pooling2d_94 (MaxPoolin  (None, 1, 1, 256)        0         \n",
            " g2D)                                                            \n",
            "                                                                 \n",
            " conv2d_189 (Conv2D)         (None, 1, 1, 256)         590080    \n",
            "                                                                 \n",
            " flatten_18 (Flatten)        (None, 256)               0         \n",
            "                                                                 \n",
            " dense_36 (Dense)            (None, 512)               131584    \n",
            "                                                                 \n",
            " activation_36 (Activation)  (None, 512)               0         \n",
            "                                                                 \n",
            " dense_37 (Dense)            (None, 10)                5130      \n",
            "                                                                 \n",
            " activation_37 (Activation)  (None, 10)                0         \n",
            "                                                                 \n",
            "=================================================================\n",
            "Total params: 1,315,194\n",
            "Trainable params: 1,315,194\n",
            "Non-trainable params: 0\n",
            "_________________________________________________________________\n",
            "Epoch 1/25\n",
            "235/235 [==============================] - 3s 10ms/step - loss: 1.3845 - accuracy: 0.4453\n",
            "Epoch 2/25\n",
            "235/235 [==============================] - 2s 10ms/step - loss: 0.5130 - accuracy: 0.8244\n",
            "Epoch 3/25\n",
            "235/235 [==============================] - 2s 10ms/step - loss: 0.2334 - accuracy: 0.9348\n",
            "Epoch 4/25\n",
            "235/235 [==============================] - 2s 10ms/step - loss: 0.1270 - accuracy: 0.9631\n",
            "Epoch 5/25\n",
            "235/235 [==============================] - 2s 10ms/step - loss: 0.0969 - accuracy: 0.9723\n",
            "Epoch 6/25\n",
            "235/235 [==============================] - 2s 10ms/step - loss: 0.0736 - accuracy: 0.9785\n",
            "Epoch 7/25\n",
            "235/235 [==============================] - 2s 10ms/step - loss: 0.0596 - accuracy: 0.9828\n",
            "Epoch 8/25\n",
            "235/235 [==============================] - 2s 11ms/step - loss: 0.0503 - accuracy: 0.9854\n",
            "Epoch 9/25\n",
            "235/235 [==============================] - 2s 10ms/step - loss: 0.0494 - accuracy: 0.9859\n",
            "Epoch 10/25\n",
            "235/235 [==============================] - 2s 10ms/step - loss: 0.0429 - accuracy: 0.9876\n",
            "Epoch 11/25\n",
            "235/235 [==============================] - 2s 10ms/step - loss: 0.0359 - accuracy: 0.9903\n",
            "Epoch 12/25\n",
            "235/235 [==============================] - 2s 10ms/step - loss: 0.0344 - accuracy: 0.9901\n",
            "Epoch 13/25\n",
            "235/235 [==============================] - 2s 11ms/step - loss: 0.0346 - accuracy: 0.9902\n",
            "Epoch 14/25\n",
            "235/235 [==============================] - 2s 11ms/step - loss: 0.0333 - accuracy: 0.9903\n",
            "Epoch 15/25\n",
            "235/235 [==============================] - 2s 11ms/step - loss: 0.0260 - accuracy: 0.9926\n",
            "Epoch 16/25\n",
            "235/235 [==============================] - 2s 11ms/step - loss: 0.0252 - accuracy: 0.9930\n",
            "Epoch 17/25\n",
            "235/235 [==============================] - 2s 10ms/step - loss: 0.0215 - accuracy: 0.9935\n",
            "Epoch 18/25\n",
            "235/235 [==============================] - 2s 11ms/step - loss: 0.0253 - accuracy: 0.9930\n",
            "Epoch 19/25\n",
            "235/235 [==============================] - 2s 10ms/step - loss: 0.0217 - accuracy: 0.9941\n",
            "Epoch 20/25\n",
            "235/235 [==============================] - 2s 11ms/step - loss: 0.0223 - accuracy: 0.9940\n",
            "Epoch 21/25\n",
            "235/235 [==============================] - 2s 10ms/step - loss: 0.0186 - accuracy: 0.9948\n",
            "Epoch 22/25\n",
            "235/235 [==============================] - 3s 12ms/step - loss: 0.0189 - accuracy: 0.9945\n",
            "Epoch 23/25\n",
            "235/235 [==============================] - 3s 12ms/step - loss: 0.0189 - accuracy: 0.9948\n",
            "Epoch 24/25\n",
            "235/235 [==============================] - 3s 13ms/step - loss: 0.0185 - accuracy: 0.9950\n",
            "Epoch 25/25\n",
            "235/235 [==============================] - 3s 14ms/step - loss: 0.0178 - accuracy: 0.9954\n",
            "Model: \"sequential_19\"\n",
            "_________________________________________________________________\n",
            " Layer (type)                Output Shape              Param #   \n",
            "=================================================================\n",
            " conv2d_190 (Conv2D)         (None, 28, 28, 16)        160       \n",
            "                                                                 \n",
            " conv2d_191 (Conv2D)         (None, 14, 14, 16)        2320      \n",
            "                                                                 \n",
            " max_pooling2d_95 (MaxPoolin  (None, 7, 7, 16)         0         \n",
            " g2D)                                                            \n",
            "                                                                 \n",
            " conv2d_192 (Conv2D)         (None, 7, 7, 32)          4640      \n",
            "                                                                 \n",
            " conv2d_193 (Conv2D)         (None, 4, 4, 32)          9248      \n",
            "                                                                 \n",
            " max_pooling2d_96 (MaxPoolin  (None, 2, 2, 32)         0         \n",
            " g2D)                                                            \n",
            "                                                                 \n",
            " conv2d_194 (Conv2D)         (None, 2, 2, 64)          18496     \n",
            "                                                                 \n",
            " conv2d_195 (Conv2D)         (None, 1, 1, 64)          36928     \n",
            "                                                                 \n",
            " max_pooling2d_97 (MaxPoolin  (None, 1, 1, 64)         0         \n",
            " g2D)                                                            \n",
            "                                                                 \n",
            " conv2d_196 (Conv2D)         (None, 1, 1, 128)         73856     \n",
            "                                                                 \n",
            " conv2d_197 (Conv2D)         (None, 1, 1, 128)         147584    \n",
            "                                                                 \n",
            " max_pooling2d_98 (MaxPoolin  (None, 1, 1, 128)        0         \n",
            " g2D)                                                            \n",
            "                                                                 \n",
            " conv2d_198 (Conv2D)         (None, 1, 1, 256)         295168    \n",
            "                                                                 \n",
            " max_pooling2d_99 (MaxPoolin  (None, 1, 1, 256)        0         \n",
            " g2D)                                                            \n",
            "                                                                 \n",
            " conv2d_199 (Conv2D)         (None, 1, 1, 256)         590080    \n",
            "                                                                 \n",
            " flatten_19 (Flatten)        (None, 256)               0         \n",
            "                                                                 \n",
            " dense_38 (Dense)            (None, 512)               131584    \n",
            "                                                                 \n",
            " activation_38 (Activation)  (None, 512)               0         \n",
            "                                                                 \n",
            " dense_39 (Dense)            (None, 10)                5130      \n",
            "                                                                 \n",
            " activation_39 (Activation)  (None, 10)                0         \n",
            "                                                                 \n",
            "=================================================================\n",
            "Total params: 1,315,194\n",
            "Trainable params: 1,315,194\n",
            "Non-trainable params: 0\n",
            "_________________________________________________________________\n",
            "Epoch 1/25\n",
            "118/118 [==============================] - 3s 18ms/step - loss: 1.7724 - accuracy: 0.3038\n",
            "Epoch 2/25\n",
            "118/118 [==============================] - 2s 16ms/step - loss: 0.8612 - accuracy: 0.6678\n",
            "Epoch 3/25\n",
            "118/118 [==============================] - 2s 17ms/step - loss: 0.3444 - accuracy: 0.8918\n",
            "Epoch 4/25\n",
            "118/118 [==============================] - 2s 19ms/step - loss: 0.1732 - accuracy: 0.9496\n",
            "Epoch 5/25\n",
            "118/118 [==============================] - 2s 16ms/step - loss: 0.1282 - accuracy: 0.9623\n",
            "Epoch 6/25\n",
            "118/118 [==============================] - 2s 16ms/step - loss: 0.0974 - accuracy: 0.9711\n",
            "Epoch 7/25\n",
            "118/118 [==============================] - 2s 17ms/step - loss: 0.0890 - accuracy: 0.9739\n",
            "Epoch 8/25\n",
            "118/118 [==============================] - 2s 16ms/step - loss: 0.0702 - accuracy: 0.9799\n",
            "Epoch 9/25\n",
            "118/118 [==============================] - 2s 17ms/step - loss: 0.0623 - accuracy: 0.9823\n",
            "Epoch 10/25\n",
            "118/118 [==============================] - 2s 16ms/step - loss: 0.0585 - accuracy: 0.9834\n",
            "Epoch 11/25\n",
            "118/118 [==============================] - 2s 16ms/step - loss: 0.0503 - accuracy: 0.9858\n",
            "Epoch 12/25\n",
            "118/118 [==============================] - 2s 16ms/step - loss: 0.0485 - accuracy: 0.9862\n",
            "Epoch 13/25\n",
            "118/118 [==============================] - 2s 16ms/step - loss: 0.0422 - accuracy: 0.9873\n",
            "Epoch 14/25\n",
            "118/118 [==============================] - 2s 17ms/step - loss: 0.0355 - accuracy: 0.9902\n",
            "Epoch 15/25\n",
            "118/118 [==============================] - 2s 16ms/step - loss: 0.0374 - accuracy: 0.9892\n",
            "Epoch 16/25\n",
            "118/118 [==============================] - 2s 16ms/step - loss: 0.0371 - accuracy: 0.9897\n",
            "Epoch 17/25\n",
            "118/118 [==============================] - 2s 16ms/step - loss: 0.0287 - accuracy: 0.9919\n",
            "Epoch 18/25\n",
            "118/118 [==============================] - 2s 16ms/step - loss: 0.0261 - accuracy: 0.9923\n",
            "Epoch 19/25\n",
            "118/118 [==============================] - 2s 16ms/step - loss: 0.0249 - accuracy: 0.9926\n",
            "Epoch 20/25\n",
            "118/118 [==============================] - 2s 17ms/step - loss: 0.0245 - accuracy: 0.9926\n",
            "Epoch 21/25\n",
            "118/118 [==============================] - 3s 21ms/step - loss: 0.0207 - accuracy: 0.9939\n",
            "Epoch 22/25\n",
            "118/118 [==============================] - 2s 21ms/step - loss: 0.0297 - accuracy: 0.9912\n",
            "Epoch 23/25\n",
            "118/118 [==============================] - 2s 18ms/step - loss: 0.0187 - accuracy: 0.9948\n",
            "Epoch 24/25\n",
            "118/118 [==============================] - 2s 19ms/step - loss: 0.0212 - accuracy: 0.9937\n",
            "Epoch 25/25\n",
            "118/118 [==============================] - 2s 18ms/step - loss: 0.0181 - accuracy: 0.9945\n",
            "Model: \"sequential_20\"\n",
            "_________________________________________________________________\n",
            " Layer (type)                Output Shape              Param #   \n",
            "=================================================================\n",
            " conv2d_200 (Conv2D)         (None, 28, 28, 16)        160       \n",
            "                                                                 \n",
            " conv2d_201 (Conv2D)         (None, 14, 14, 16)        2320      \n",
            "                                                                 \n",
            " max_pooling2d_100 (MaxPooli  (None, 7, 7, 16)         0         \n",
            " ng2D)                                                           \n",
            "                                                                 \n",
            " conv2d_202 (Conv2D)         (None, 7, 7, 32)          4640      \n",
            "                                                                 \n",
            " conv2d_203 (Conv2D)         (None, 4, 4, 32)          9248      \n",
            "                                                                 \n",
            " max_pooling2d_101 (MaxPooli  (None, 2, 2, 32)         0         \n",
            " ng2D)                                                           \n",
            "                                                                 \n",
            " conv2d_204 (Conv2D)         (None, 2, 2, 64)          18496     \n",
            "                                                                 \n",
            " conv2d_205 (Conv2D)         (None, 1, 1, 64)          36928     \n",
            "                                                                 \n",
            " max_pooling2d_102 (MaxPooli  (None, 1, 1, 64)         0         \n",
            " ng2D)                                                           \n",
            "                                                                 \n",
            " conv2d_206 (Conv2D)         (None, 1, 1, 128)         73856     \n",
            "                                                                 \n",
            " conv2d_207 (Conv2D)         (None, 1, 1, 128)         147584    \n",
            "                                                                 \n",
            " max_pooling2d_103 (MaxPooli  (None, 1, 1, 128)        0         \n",
            " ng2D)                                                           \n",
            "                                                                 \n",
            " conv2d_208 (Conv2D)         (None, 1, 1, 256)         295168    \n",
            "                                                                 \n",
            " max_pooling2d_104 (MaxPooli  (None, 1, 1, 256)        0         \n",
            " ng2D)                                                           \n",
            "                                                                 \n",
            " conv2d_209 (Conv2D)         (None, 1, 1, 256)         590080    \n",
            "                                                                 \n",
            " flatten_20 (Flatten)        (None, 256)               0         \n",
            "                                                                 \n",
            " dense_40 (Dense)            (None, 512)               131584    \n",
            "                                                                 \n",
            " activation_40 (Activation)  (None, 512)               0         \n",
            "                                                                 \n",
            " dense_41 (Dense)            (None, 10)                5130      \n",
            "                                                                 \n",
            " activation_41 (Activation)  (None, 10)                0         \n",
            "                                                                 \n",
            "=================================================================\n",
            "Total params: 1,315,194\n",
            "Trainable params: 1,315,194\n",
            "Non-trainable params: 0\n",
            "_________________________________________________________________\n"
          ]
        }
      ]
    },
    {
      "cell_type": "code",
      "source": [
        "print(acc)\n",
        "plt.plot(np.array(batch).reshape(3,1), np.array(acc).reshape(3,1), color = 'red')\n",
        "plt.ylabel('Accuracy')\n",
        "plt.xlabel('Batch size')\n",
        "plt.title('Accuracy Vs Batch size')\n",
        "plt.show()"
      ],
      "metadata": {
        "colab": {
          "base_uri": "https://localhost:8080/",
          "height": 312
        },
        "id": "_a3ZhZ3s8v_6",
        "outputId": "f1fc3259-b840-40dc-f1c2-5bb92e4120a1"
      },
      "execution_count": 19,
      "outputs": [
        {
          "output_type": "stream",
          "name": "stdout",
          "text": [
            "[0.99601668 0.99536669 0.99453336]\n"
          ]
        },
        {
          "output_type": "display_data",
          "data": {
            "text/plain": [
              "<Figure size 432x288 with 1 Axes>"
            ],
            "image/png": "[encoded data removed]"
          },
          "metadata": {
            "needs_background": "light"
          }
        }
      ]
    },
    {
      "cell_type": "markdown",
      "source": [
        "**Which one performed best**"
      ],
      "metadata": {
        "id": "DWYfDPyL861c"
      }
    },
    {
      "cell_type": "code",
      "source": [
        "from tabulate import tabulate\n",
        "mydata = [[128, 0.99601668],\n",
        "          [256, 0.99536669],\n",
        "          [512, 0.99453336]]\n",
        "head = [\"Batch Size\", \"Accuarcy\"]\n",
        "# Display Table\n",
        "print(tabulate(mydata, headers=head, tablefmt=\"grid\", numalign=\"center\"))"
      ],
      "metadata": {
        "colab": {
          "base_uri": "https://localhost:8080/"
        },
        "id": "AqOt8XT787zi",
        "outputId": "24ec5bcb-99ba-4e0c-f3ac-3f3e58a0a108"
      },
      "execution_count": 20,
      "outputs": [
        {
          "output_type": "stream",
          "name": "stdout",
          "text": [
            "+--------------+------------+\n",
            "|  Batch Size  |  Accuarcy  |\n",
            "+==============+============+\n",
            "|     128      |  0.996017  |\n",
            "+--------------+------------+\n",
            "|     256      |  0.995367  |\n",
            "+--------------+------------+\n",
            "|     512      |  0.994533  |\n",
            "+--------------+------------+\n"
          ]
        }
      ]
    },
    {
      "cell_type": "markdown",
      "source": [
        "Based on the above results, we can say that for my case, batch = 128 gives highest accuarcy (0.996017). Increasing batch size tends to worse results."
      ],
      "metadata": {
        "id": "UkY0khCLHYeO"
      }
    },
    {
      "cell_type": "markdown",
      "source": [
        "**Effect of optimizer on Regular CNN**"
      ],
      "metadata": {
        "id": "kz_Quztc88Y8"
      }
    },
    {
      "cell_type": "markdown",
      "source": [
        "To examine the effect of optimizer on the training process, we took different optimizer as ‘SGD’, ‘adam’ and ‘RMSProp’ for fixed epoch 25 and learning rate 0.001 with various batch size."
      ],
      "metadata": {
        "id": "Va4jPAJ7I2mG"
      }
    },
    {
      "cell_type": "code",
      "source": [
        "batch=[128, 256, 512]\n",
        "acc1=np.zeros(3)\n",
        "acc2=np.zeros(3)\n",
        "acc3=np.zeros(3)\n",
        "for k in range(3):\n",
        "  for i in range(len(batch)):    \n",
        "        cnn_model = tf.keras.models.Sequential()\n",
        "        cnn_model.add(tf.keras.layers.Conv2D(16, (3, 3), padding='same', activation='relu'))\n",
        "        cnn_model.add(tf.keras.layers.Conv2D(16, (3, 3), strides=(2, 2), padding='same', activation='relu'))\n",
        "        cnn_model.add(tf.keras.layers.MaxPooling2D(pool_size=(2, 2), strides=(2,2), padding='same'))\n",
        "        cnn_model.add(tf.keras.layers.Conv2D(32, (3, 3), padding='same', activation='relu'))\n",
        "        cnn_model.add(tf.keras.layers.Conv2D(32, (3, 3), strides=(2, 2), padding='same', activation='relu'))\n",
        "        cnn_model.add(tf.keras.layers.MaxPooling2D(pool_size=(2, 2), strides=(2,2),padding='same'))\n",
        "        cnn_model.add(tf.keras.layers.Conv2D(64, (3, 3), padding='same', activation='relu'))\n",
        "        cnn_model.add(tf.keras.layers.Conv2D(64, (3, 3), strides=(2, 2), padding='same', activation='relu'))\n",
        "        cnn_model.add(tf.keras.layers.MaxPooling2D(pool_size=(2, 2), strides=(2,2),padding='same'))\n",
        "        cnn_model.add(tf.keras.layers.Conv2D(128, (3, 3), padding='same', activation='relu'))\n",
        "        cnn_model.add(tf.keras.layers.Conv2D(128, (3, 3), strides=(2, 2), padding='same', activation='relu'))\n",
        "        cnn_model.add(tf.keras.layers.MaxPooling2D(pool_size=(2, 2), strides=(2,2),padding='same'))\n",
        "        cnn_model.add(tf.keras.layers.Conv2D(256, (3, 3), padding='same', activation='relu'))\n",
        "        cnn_model.add(tf.keras.layers.MaxPooling2D(pool_size=(2, 2), strides=(2,2),padding='same'))\n",
        "        cnn_model.add(tf.keras.layers.Conv2D(256, (3, 3), strides=(2, 2), padding='same', activation='relu'))\n",
        "\n",
        "        cnn_model.add(tf.keras.layers.Flatten())\n",
        "        cnn_model.add(tf.keras.layers.Dense(512))\n",
        "        cnn_model.add(tf.keras.layers.Activation('relu'))\n",
        "        cnn_model.add(tf.keras.layers.Dense(10))\n",
        "        cnn_model.add(tf.keras.layers.Activation('softmax'))\n",
        "\n",
        "        if k==0:\n",
        "          opt_lr = tf.keras.optimizers.Adam(learning_rate=0.001)\n",
        "          cnn_model.compile(loss='sparse_categorical_crossentropy', optimizer=opt_lr, metrics=['accuracy'])\n",
        "          cnn_model.build(input_shape=(1,28,28,1)) \n",
        "          accuracy1= cnn_model.fit(train_images, train_labels, batch_size=batch[i], epochs=25, verbose=0)\n",
        "          acc1[i]=accuracy1.history['accuracy'][24]\n",
        "        elif k==1:\n",
        "          opt_lr = tf.keras.optimizers.SGD(learning_rate=0.001)\n",
        "          cnn_model.compile(loss='sparse_categorical_crossentropy', optimizer=opt_lr, metrics=['accuracy'])\n",
        "          cnn_model.build(input_shape=(1,28,28,1))\n",
        "          accuracy2= cnn_model.fit(train_images, train_labels, batch_size=batch[i], epochs=25, verbose=0)\n",
        "          acc2[i]=accuracy2.history['accuracy'][24]\n",
        "        else:\n",
        "          opt_lr = tf.keras.optimizers.RMSprop(learning_rate=0.001)\n",
        "          cnn_model.compile(loss='sparse_categorical_crossentropy', optimizer=opt_lr, metrics=['accuracy'])\n",
        "          cnn_model.build(input_shape=(1,28,28,1))\n",
        "          accuracy3= cnn_model.fit(train_images, train_labels, batch_size=batch[i], epochs=25, verbose=0)\n",
        "          acc3[i]=accuracy3.history['accuracy'][24]"
      ],
      "metadata": {
        "id": "-rjE9Usy93x4"
      },
      "execution_count": 21,
      "outputs": []
    },
    {
      "cell_type": "code",
      "source": [
        "print(acc1)\n",
        "print(acc2)\n",
        "print(acc3)\n",
        "plt.plot(np.array(batch).reshape(3,1), np.array(acc1).reshape(3,1), color = 'red', label='Adam')\n",
        "plt.plot(np.array(batch).reshape(3,1), np.array(acc2).reshape(3,1), color = 'green', label='SGD')\n",
        "plt.plot(np.array(batch).reshape(3,1), np.array(acc3).reshape(3,1), color = 'blue', label='RMSprop')\n",
        "plt.ylabel('Accuracy')\n",
        "plt.xlabel('Batch Size')\n",
        "plt.title('Accuracy Vs Batch Size')\n",
        "plt.show()"
      ],
      "metadata": {
        "colab": {
          "base_uri": "https://localhost:8080/",
          "height": 347
        },
        "id": "Sf_9UHow_e_j",
        "outputId": "5183c0c6-7a7e-4b16-e478-a5389a2980e7"
      },
      "execution_count": 23,
      "outputs": [
        {
          "output_type": "stream",
          "name": "stdout",
          "text": [
            "[0.99564999 0.99603331 0.9957    ]\n",
            "[0.11236667 0.11236667 0.11236667]\n",
            "[0.99331665 0.99585003 0.99633336]\n"
          ]
        },
        {
          "output_type": "display_data",
          "data": {
            "text/plain": [
              "<Figure size 432x288 with 1 Axes>"
            ],
            "image/png": "[encoded data removed]"
          },
          "metadata": {
            "needs_background": "light"
          }
        }
      ]
    },
    {
      "cell_type": "markdown",
      "source": [
        "**Which one performed best**"
      ],
      "metadata": {
        "id": "EgvG_2g6JeE8"
      }
    },
    {
      "cell_type": "code",
      "source": [
        "from tabulate import tabulate\n",
        "mydata = [[128, 0.99564999, 0.11236667, 0.99331665],\n",
        "          [256, 0.99603331, 0.11236667, 0.99585003],\n",
        "          [512, 0.9957, 0.11236667, 0.99633336]]\n",
        "head = [\"Batch Size\", \"Adam Accuracy\", \"SGD Accuracy\", \"RMSprop Accuracy\"]\n",
        "# Display Table\n",
        "print(tabulate(mydata, headers=head, tablefmt=\"grid\", numalign=\"center\"))"
      ],
      "metadata": {
        "colab": {
          "base_uri": "https://localhost:8080/"
        },
        "id": "5rx4c3xLMMc0",
        "outputId": "8e58fe2c-123c-4f05-8475-bdd7358f309f"
      },
      "execution_count": 25,
      "outputs": [
        {
          "output_type": "stream",
          "name": "stdout",
          "text": [
            "+--------------+-----------------+----------------+--------------------+\n",
            "|  Batch Size  |  Adam Accuracy  |  SGD Accuracy  |  RMSprop Accuracy  |\n",
            "+==============+=================+================+====================+\n",
            "|     128      |     0.99565     |    0.112367    |      0.993317      |\n",
            "+--------------+-----------------+----------------+--------------------+\n",
            "|     256      |    0.996033     |    0.112367    |      0.99585       |\n",
            "+--------------+-----------------+----------------+--------------------+\n",
            "|     512      |     0.9957      |    0.112367    |      0.996333      |\n",
            "+--------------+-----------------+----------------+--------------------+\n"
          ]
        }
      ]
    },
    {
      "cell_type": "markdown",
      "source": [
        "#####Based on the graphs, with fixed epoch 25 and learning rate 0.001, RMSProp optimizer with batch size of 512 achieved the best result (0.996333). The Adam optimizer with batch size 256 leds to very close accuracy (0.996033) to RMSProp optimizer. However, SGD performed very poor with the current setup."
      ],
      "metadata": {
        "id": "mcyfQrzmJ7uB"
      }
    },
    {
      "cell_type": "markdown",
      "source": [
        "**1.2  Inverted CNN**"
      ],
      "metadata": {
        "id": "xW_1wVc9OGcu"
      }
    },
    {
      "cell_type": "code",
      "source": [
        "x_train = train_images.reshape(-1, 28, 28, 1)\n",
        "x_test = test_images.reshape(-1, 28, 28, 1)\n",
        "\n",
        "cnn_model_i = tf.keras.models.Sequential()\n",
        "cnn_model_i.add(tf.keras.layers.Conv2D(256, (3, 3), padding='same', activation='relu'))\n",
        "cnn_model_i.add(tf.keras.layers.Conv2D(256, (3, 3), strides=(2, 2), padding='same', activation='relu'))\n",
        "cnn_model_i.add(tf.keras.layers.MaxPooling2D(pool_size=(2, 2), strides=(2,2), padding='same'))\n",
        "cnn_model_i.add(tf.keras.layers.Conv2D(128, (3, 3), padding='same', activation='relu'))\n",
        "cnn_model_i.add(tf.keras.layers.Conv2D(128, (3, 3), strides=(2, 2), padding='same', activation='relu'))\n",
        "cnn_model_i.add(tf.keras.layers.MaxPooling2D(pool_size=(2, 2), strides=(2,2),padding='same'))\n",
        "cnn_model_i.add(tf.keras.layers.Conv2D(64, (3, 3), padding='same', activation='relu'))\n",
        "cnn_model_i.add(tf.keras.layers.Conv2D(64, (3, 3), strides=(2, 2), padding='same', activation='relu'))\n",
        "cnn_model_i.add(tf.keras.layers.MaxPooling2D(pool_size=(2, 2), strides=(2,2),padding='same'))\n",
        "cnn_model_i.add(tf.keras.layers.Conv2D(32, (3, 3), padding='same', activation='relu'))\n",
        "cnn_model_i.add(tf.keras.layers.Conv2D(32, (3, 3), strides=(2, 2), padding='same', activation='relu'))\n",
        "cnn_model_i.add(tf.keras.layers.MaxPooling2D(pool_size=(2, 2), strides=(2,2),padding='same'))\n",
        "cnn_model_i.add(tf.keras.layers.Conv2D(16, (3, 3), padding='same', activation='relu'))\n",
        "cnn_model_i.add(tf.keras.layers.MaxPooling2D(pool_size=(2, 2), strides=(2,2),padding='same'))\n",
        "cnn_model_i.add(tf.keras.layers.Conv2D(16, (3, 3), strides=(2, 2), padding='same', activation='relu'))\n",
        "\n",
        "cnn_model_i.add(tf.keras.layers.Flatten())\n",
        "cnn_model_i.add(tf.keras.layers.Dense(512))\n",
        "cnn_model_i.add(tf.keras.layers.Activation('relu'))\n",
        "cnn_model_i.add(tf.keras.layers.Dense(10))\n",
        "cnn_model_i.add(tf.keras.layers.Activation('softmax'))\n",
        "\n",
        "cnn_model_i.compile(loss='sparse_categorical_crossentropy', optimizer=keras.optimizers.Adam(learning_rate=0.001), metrics=['accuracy'])\n",
        "cnn_model_i.build(input_shape=(1,28,28,1))\n",
        "cnn_model_i.summary()\n",
        "\n",
        "model_cnn_i = cnn_model_i\n",
        "history_cnn_i = model_cnn_i.fit(x_train, train_labels, validation_split = 0.2, batch_size=512, epochs=25)"
      ],
      "metadata": {
        "colab": {
          "base_uri": "https://localhost:8080/"
        },
        "id": "SO0fYFjqOiCZ",
        "outputId": "bafb7e62-2e1f-4027-96df-bac970e191f9"
      },
      "execution_count": 27,
      "outputs": [
        {
          "output_type": "stream",
          "name": "stdout",
          "text": [
            "Model: \"sequential_31\"\n",
            "_________________________________________________________________\n",
            " Layer (type)                Output Shape              Param #   \n",
            "=================================================================\n",
            " conv2d_310 (Conv2D)         (1, 28, 28, 256)          2560      \n",
            "                                                                 \n",
            " conv2d_311 (Conv2D)         (1, 14, 14, 256)          590080    \n",
            "                                                                 \n",
            " max_pooling2d_155 (MaxPooli  (1, 7, 7, 256)           0         \n",
            " ng2D)                                                           \n",
            "                                                                 \n",
            " conv2d_312 (Conv2D)         (1, 7, 7, 128)            295040    \n",
            "                                                                 \n",
            " conv2d_313 (Conv2D)         (1, 4, 4, 128)            147584    \n",
            "                                                                 \n",
            " max_pooling2d_156 (MaxPooli  (1, 2, 2, 128)           0         \n",
            " ng2D)                                                           \n",
            "                                                                 \n",
            " conv2d_314 (Conv2D)         (1, 2, 2, 64)             73792     \n",
            "                                                                 \n",
            " conv2d_315 (Conv2D)         (1, 1, 1, 64)             36928     \n",
            "                                                                 \n",
            " max_pooling2d_157 (MaxPooli  (1, 1, 1, 64)            0         \n",
            " ng2D)                                                           \n",
            "                                                                 \n",
            " conv2d_316 (Conv2D)         (1, 1, 1, 32)             18464     \n",
            "                                                                 \n",
            " conv2d_317 (Conv2D)         (1, 1, 1, 32)             9248      \n",
            "                                                                 \n",
            " max_pooling2d_158 (MaxPooli  (1, 1, 1, 32)            0         \n",
            " ng2D)                                                           \n",
            "                                                                 \n",
            " conv2d_318 (Conv2D)         (1, 1, 1, 16)             4624      \n",
            "                                                                 \n",
            " max_pooling2d_159 (MaxPooli  (1, 1, 1, 16)            0         \n",
            " ng2D)                                                           \n",
            "                                                                 \n",
            " conv2d_319 (Conv2D)         (1, 1, 1, 16)             2320      \n",
            "                                                                 \n",
            " flatten_31 (Flatten)        (1, 16)                   0         \n",
            "                                                                 \n",
            " dense_62 (Dense)            (1, 512)                  8704      \n",
            "                                                                 \n",
            " activation_62 (Activation)  (1, 512)                  0         \n",
            "                                                                 \n",
            " dense_63 (Dense)            (1, 10)                   5130      \n",
            "                                                                 \n",
            " activation_63 (Activation)  (1, 10)                   0         \n",
            "                                                                 \n",
            "=================================================================\n",
            "Total params: 1,194,474\n",
            "Trainable params: 1,194,474\n",
            "Non-trainable params: 0\n",
            "_________________________________________________________________\n",
            "Epoch 1/25\n",
            "94/94 [==============================] - 23s 221ms/step - loss: 1.9211 - accuracy: 0.2476 - val_loss: 1.2778 - val_accuracy: 0.4906\n",
            "Epoch 2/25\n",
            "94/94 [==============================] - 19s 199ms/step - loss: 0.8296 - accuracy: 0.6815 - val_loss: 0.3991 - val_accuracy: 0.8720\n",
            "Epoch 3/25\n",
            "94/94 [==============================] - 18s 193ms/step - loss: 0.2904 - accuracy: 0.9140 - val_loss: 0.1869 - val_accuracy: 0.9476\n",
            "Epoch 4/25\n",
            "94/94 [==============================] - 18s 193ms/step - loss: 0.1520 - accuracy: 0.9570 - val_loss: 0.1226 - val_accuracy: 0.9645\n",
            "Epoch 5/25\n",
            "94/94 [==============================] - 18s 194ms/step - loss: 0.1106 - accuracy: 0.9674 - val_loss: 0.1122 - val_accuracy: 0.9687\n",
            "Epoch 6/25\n",
            "94/94 [==============================] - 18s 197ms/step - loss: 0.0774 - accuracy: 0.9777 - val_loss: 0.0746 - val_accuracy: 0.9791\n",
            "Epoch 7/25\n",
            "94/94 [==============================] - 18s 194ms/step - loss: 0.0559 - accuracy: 0.9837 - val_loss: 0.0750 - val_accuracy: 0.9799\n",
            "Epoch 8/25\n",
            "94/94 [==============================] - 18s 195ms/step - loss: 0.0434 - accuracy: 0.9880 - val_loss: 0.0664 - val_accuracy: 0.9815\n",
            "Epoch 9/25\n",
            "94/94 [==============================] - 18s 194ms/step - loss: 0.0375 - accuracy: 0.9894 - val_loss: 0.0718 - val_accuracy: 0.9808\n",
            "Epoch 10/25\n",
            "94/94 [==============================] - 18s 194ms/step - loss: 0.0330 - accuracy: 0.9905 - val_loss: 0.0699 - val_accuracy: 0.9807\n",
            "Epoch 11/25\n",
            "94/94 [==============================] - 18s 194ms/step - loss: 0.0250 - accuracy: 0.9925 - val_loss: 0.0578 - val_accuracy: 0.9844\n",
            "Epoch 12/25\n",
            "94/94 [==============================] - 18s 194ms/step - loss: 0.0217 - accuracy: 0.9939 - val_loss: 0.0533 - val_accuracy: 0.9866\n",
            "Epoch 13/25\n",
            "94/94 [==============================] - 18s 194ms/step - loss: 0.0213 - accuracy: 0.9933 - val_loss: 0.0783 - val_accuracy: 0.9812\n",
            "Epoch 14/25\n",
            "94/94 [==============================] - 19s 204ms/step - loss: 0.0186 - accuracy: 0.9946 - val_loss: 0.0597 - val_accuracy: 0.9855\n",
            "Epoch 15/25\n",
            "94/94 [==============================] - 18s 193ms/step - loss: 0.0151 - accuracy: 0.9954 - val_loss: 0.0578 - val_accuracy: 0.9848\n",
            "Epoch 16/25\n",
            "94/94 [==============================] - 18s 193ms/step - loss: 0.0153 - accuracy: 0.9955 - val_loss: 0.0643 - val_accuracy: 0.9835\n",
            "Epoch 17/25\n",
            "94/94 [==============================] - 18s 194ms/step - loss: 0.0139 - accuracy: 0.9959 - val_loss: 0.0510 - val_accuracy: 0.9880\n",
            "Epoch 18/25\n",
            "94/94 [==============================] - 18s 193ms/step - loss: 0.0107 - accuracy: 0.9968 - val_loss: 0.0530 - val_accuracy: 0.9882\n",
            "Epoch 19/25\n",
            "94/94 [==============================] - 18s 193ms/step - loss: 0.0081 - accuracy: 0.9975 - val_loss: 0.0671 - val_accuracy: 0.9877\n",
            "Epoch 20/25\n",
            "94/94 [==============================] - 19s 204ms/step - loss: 0.0101 - accuracy: 0.9966 - val_loss: 0.0564 - val_accuracy: 0.9877\n",
            "Epoch 21/25\n",
            "94/94 [==============================] - 18s 193ms/step - loss: 0.0105 - accuracy: 0.9966 - val_loss: 0.0581 - val_accuracy: 0.9866\n",
            "Epoch 22/25\n",
            "94/94 [==============================] - 18s 194ms/step - loss: 0.0102 - accuracy: 0.9971 - val_loss: 0.0623 - val_accuracy: 0.9852\n",
            "Epoch 23/25\n",
            "94/94 [==============================] - 18s 193ms/step - loss: 0.0096 - accuracy: 0.9969 - val_loss: 0.0489 - val_accuracy: 0.9888\n",
            "Epoch 24/25\n",
            "94/94 [==============================] - 18s 193ms/step - loss: 0.0068 - accuracy: 0.9976 - val_loss: 0.0559 - val_accuracy: 0.9887\n",
            "Epoch 25/25\n",
            "94/94 [==============================] - 18s 194ms/step - loss: 0.0105 - accuracy: 0.9967 - val_loss: 0.0552 - val_accuracy: 0.9883\n"
          ]
        }
      ]
    },
    {
      "cell_type": "code",
      "source": [
        "plt.plot(history_cnn_i.history['accuracy'])\n",
        "plt.plot(history_cnn_i.history['val_accuracy'])\n",
        "plt.title('Model Accuracy')\n",
        "plt.ylabel('Accuracy')\n",
        "plt.xlabel('Epoch')\n",
        "plt.legend(['Train', 'Val'], loc='upper left')\n",
        "plt.show()"
      ],
      "metadata": {
        "colab": {
          "base_uri": "https://localhost:8080/",
          "height": 295
        },
        "id": "WKi1-GDbPMZn",
        "outputId": "9622e4f4-b752-4af9-f40c-fd32e2b99304"
      },
      "execution_count": 28,
      "outputs": [
        {
          "output_type": "display_data",
          "data": {
            "text/plain": [
              "<Figure size 432x288 with 1 Axes>"
            ],
            "image/png": "[encoded data removed]"
          },
          "metadata": {
            "needs_background": "light"
          }
        }
      ]
    },
    {
      "cell_type": "code",
      "source": [
        "score_i = model_cnn_i.evaluate(x_train, train_labels)\n",
        "print('Train loss:', score_i[0])\n",
        "print('Train accuracy:', score_i[1])"
      ],
      "metadata": {
        "colab": {
          "base_uri": "https://localhost:8080/"
        },
        "id": "4k6wOZnuPZFb",
        "outputId": "9afaa2d9-d104-4b6a-cd35-db53475c8eab"
      },
      "execution_count": 29,
      "outputs": [
        {
          "output_type": "stream",
          "name": "stdout",
          "text": [
            "1875/1875 [==============================] - 11s 6ms/step - loss: 0.0145 - accuracy: 0.9967\n",
            "Train loss: 0.014482562430202961\n",
            "Train accuracy: 0.996666669845581\n"
          ]
        }
      ]
    },
    {
      "cell_type": "code",
      "source": [
        "score_i = model_cnn_i.evaluate(x_test, test_labels)\n",
        "print('Test loss:', score_i[0])\n",
        "print('Test accuracy:', score_i[1])"
      ],
      "metadata": {
        "colab": {
          "base_uri": "https://localhost:8080/"
        },
        "id": "gmv8ubqEPd9t",
        "outputId": "f0826dbd-45a7-40c7-8a82-495c42f4c049"
      },
      "execution_count": 30,
      "outputs": [
        {
          "output_type": "stream",
          "name": "stdout",
          "text": [
            "313/313 [==============================] - 2s 6ms/step - loss: 0.0452 - accuracy: 0.9888\n",
            "Test loss: 0.04515833407640457\n",
            "Test accuracy: 0.9887999892234802\n"
          ]
        }
      ]
    },
    {
      "cell_type": "markdown",
      "source": [
        "**Effect of learning rate on Inverted CNN**"
      ],
      "metadata": {
        "id": "GDKx6lCSRfqb"
      }
    },
    {
      "cell_type": "code",
      "source": [
        "learningRate=[0.0001, 0.001, 0.01]\n",
        "acc=np.zeros(3)\n",
        "for i in range(len(learningRate)):\n",
        "  cnn_model_i = tf.keras.models.Sequential()\n",
        "  cnn_model_i.add(tf.keras.layers.Conv2D(256, (3, 3), padding='same', activation='relu'))\n",
        "  cnn_model_i.add(tf.keras.layers.Conv2D(256, (3, 3), strides=(2, 2), padding='same', activation='relu'))\n",
        "  cnn_model_i.add(tf.keras.layers.MaxPooling2D(pool_size=(2, 2), strides=(2,2), padding='same'))\n",
        "  cnn_model_i.add(tf.keras.layers.Conv2D(128, (3, 3), padding='same', activation='relu'))\n",
        "  cnn_model_i.add(tf.keras.layers.Conv2D(128, (3, 3), strides=(2, 2), padding='same', activation='relu'))\n",
        "  cnn_model_i.add(tf.keras.layers.MaxPooling2D(pool_size=(2, 2), strides=(2,2),padding='same'))\n",
        "  cnn_model_i.add(tf.keras.layers.Conv2D(64, (3, 3), padding='same', activation='relu'))\n",
        "  cnn_model_i.add(tf.keras.layers.Conv2D(64, (3, 3), strides=(2, 2), padding='same', activation='relu'))\n",
        "  cnn_model_i.add(tf.keras.layers.MaxPooling2D(pool_size=(2, 2), strides=(2,2),padding='same'))\n",
        "  cnn_model_i.add(tf.keras.layers.Conv2D(32, (3, 3), padding='same', activation='relu'))\n",
        "  cnn_model_i.add(tf.keras.layers.Conv2D(32, (3, 3), strides=(2, 2), padding='same', activation='relu'))\n",
        "  cnn_model_i.add(tf.keras.layers.MaxPooling2D(pool_size=(2, 2), strides=(2,2),padding='same'))\n",
        "  cnn_model_i.add(tf.keras.layers.Conv2D(16, (3, 3), padding='same', activation='relu'))\n",
        "  cnn_model_i.add(tf.keras.layers.MaxPooling2D(pool_size=(2, 2), strides=(2,2),padding='same'))\n",
        "  cnn_model_i.add(tf.keras.layers.Conv2D(16, (3, 3), strides=(2, 2), padding='same', activation='relu'))\n",
        "\n",
        "  cnn_model_i.add(tf.keras.layers.Flatten())\n",
        "  cnn_model_i.add(tf.keras.layers.Dense(512))\n",
        "  cnn_model_i.add(tf.keras.layers.Activation('relu'))\n",
        "  cnn_model_i.add(tf.keras.layers.Dense(10))\n",
        "  cnn_model_i.add(tf.keras.layers.Activation('softmax'))\n",
        "\n",
        "  cnn_model_i.compile(loss='sparse_categorical_crossentropy', optimizer='adam', metrics=['accuracy'])\n",
        "  cnn_model_i.build(input_shape=(1,28,28,1))\n",
        "  accuracy= cnn_model_i.fit(train_images, train_labels, batch_size=512, epochs=25)\n",
        "  acc[i]=accuracy.history['accuracy'][24]\n",
        "  cnn_model_i.summary()"
      ],
      "metadata": {
        "colab": {
          "base_uri": "https://localhost:8080/"
        },
        "id": "ZMZnTQoVSKnn",
        "outputId": "d078fdba-f9dc-4f54-adaa-9aba1f016ccd"
      },
      "execution_count": 31,
      "outputs": [
        {
          "output_type": "stream",
          "name": "stdout",
          "text": [
            "Epoch 1/25\n",
            "118/118 [==============================] - 23s 183ms/step - loss: 1.7606 - accuracy: 0.3045\n",
            "Epoch 2/25\n",
            "118/118 [==============================] - 21s 180ms/step - loss: 0.4895 - accuracy: 0.8303\n",
            "Epoch 3/25\n",
            "118/118 [==============================] - 21s 177ms/step - loss: 0.1634 - accuracy: 0.9515\n",
            "Epoch 4/25\n",
            "118/118 [==============================] - 21s 179ms/step - loss: 0.0936 - accuracy: 0.9727\n",
            "Epoch 5/25\n",
            "118/118 [==============================] - 21s 178ms/step - loss: 0.0636 - accuracy: 0.9811\n",
            "Epoch 6/25\n",
            "118/118 [==============================] - 21s 178ms/step - loss: 0.0516 - accuracy: 0.9846\n",
            "Epoch 7/25\n",
            "118/118 [==============================] - 21s 177ms/step - loss: 0.0392 - accuracy: 0.9885\n",
            "Epoch 8/25\n",
            "118/118 [==============================] - 21s 177ms/step - loss: 0.0372 - accuracy: 0.9885\n",
            "Epoch 9/25\n",
            "118/118 [==============================] - 21s 176ms/step - loss: 0.0304 - accuracy: 0.9906\n",
            "Epoch 10/25\n",
            "118/118 [==============================] - 21s 176ms/step - loss: 0.0266 - accuracy: 0.9918\n",
            "Epoch 11/25\n",
            "118/118 [==============================] - 21s 176ms/step - loss: 0.0207 - accuracy: 0.9936\n",
            "Epoch 12/25\n",
            "118/118 [==============================] - 21s 176ms/step - loss: 0.0181 - accuracy: 0.9947\n",
            "Epoch 13/25\n",
            "118/118 [==============================] - 21s 176ms/step - loss: 0.0177 - accuracy: 0.9945\n",
            "Epoch 14/25\n",
            "118/118 [==============================] - 21s 176ms/step - loss: 0.0150 - accuracy: 0.9956\n",
            "Epoch 15/25\n",
            "118/118 [==============================] - 21s 176ms/step - loss: 0.0126 - accuracy: 0.9962\n",
            "Epoch 16/25\n",
            "118/118 [==============================] - 21s 175ms/step - loss: 0.0138 - accuracy: 0.9953\n",
            "Epoch 17/25\n",
            "118/118 [==============================] - 21s 176ms/step - loss: 0.0104 - accuracy: 0.9968\n",
            "Epoch 18/25\n",
            "118/118 [==============================] - 21s 175ms/step - loss: 0.0104 - accuracy: 0.9969\n",
            "Epoch 19/25\n",
            "118/118 [==============================] - 21s 176ms/step - loss: 0.0102 - accuracy: 0.9968\n",
            "Epoch 20/25\n",
            "118/118 [==============================] - 21s 175ms/step - loss: 0.0089 - accuracy: 0.9972\n",
            "Epoch 21/25\n",
            "118/118 [==============================] - 21s 175ms/step - loss: 0.0103 - accuracy: 0.9967\n",
            "Epoch 22/25\n",
            "118/118 [==============================] - 21s 175ms/step - loss: 0.0071 - accuracy: 0.9979\n",
            "Epoch 23/25\n",
            "118/118 [==============================] - 21s 175ms/step - loss: 0.0087 - accuracy: 0.9975\n",
            "Epoch 24/25\n",
            "118/118 [==============================] - 21s 175ms/step - loss: 0.0101 - accuracy: 0.9966\n",
            "Epoch 25/25\n",
            "118/118 [==============================] - 21s 174ms/step - loss: 0.0079 - accuracy: 0.9977\n",
            "Model: \"sequential_32\"\n",
            "_________________________________________________________________\n",
            " Layer (type)                Output Shape              Param #   \n",
            "=================================================================\n",
            " conv2d_320 (Conv2D)         (None, 28, 28, 256)       2560      \n",
            "                                                                 \n",
            " conv2d_321 (Conv2D)         (None, 14, 14, 256)       590080    \n",
            "                                                                 \n",
            " max_pooling2d_160 (MaxPooli  (None, 7, 7, 256)        0         \n",
            " ng2D)                                                           \n",
            "                                                                 \n",
            " conv2d_322 (Conv2D)         (None, 7, 7, 128)         295040    \n",
            "                                                                 \n",
            " conv2d_323 (Conv2D)         (None, 4, 4, 128)         147584    \n",
            "                                                                 \n",
            " max_pooling2d_161 (MaxPooli  (None, 2, 2, 128)        0         \n",
            " ng2D)                                                           \n",
            "                                                                 \n",
            " conv2d_324 (Conv2D)         (None, 2, 2, 64)          73792     \n",
            "                                                                 \n",
            " conv2d_325 (Conv2D)         (None, 1, 1, 64)          36928     \n",
            "                                                                 \n",
            " max_pooling2d_162 (MaxPooli  (None, 1, 1, 64)         0         \n",
            " ng2D)                                                           \n",
            "                                                                 \n",
            " conv2d_326 (Conv2D)         (None, 1, 1, 32)          18464     \n",
            "                                                                 \n",
            " conv2d_327 (Conv2D)         (None, 1, 1, 32)          9248      \n",
            "                                                                 \n",
            " max_pooling2d_163 (MaxPooli  (None, 1, 1, 32)         0         \n",
            " ng2D)                                                           \n",
            "                                                                 \n",
            " conv2d_328 (Conv2D)         (None, 1, 1, 16)          4624      \n",
            "                                                                 \n",
            " max_pooling2d_164 (MaxPooli  (None, 1, 1, 16)         0         \n",
            " ng2D)                                                           \n",
            "                                                                 \n",
            " conv2d_329 (Conv2D)         (None, 1, 1, 16)          2320      \n",
            "                                                                 \n",
            " flatten_32 (Flatten)        (None, 16)                0         \n",
            "                                                                 \n",
            " dense_64 (Dense)            (None, 512)               8704      \n",
            "                                                                 \n",
            " activation_64 (Activation)  (None, 512)               0         \n",
            "                                                                 \n",
            " dense_65 (Dense)            (None, 10)                5130      \n",
            "                                                                 \n",
            " activation_65 (Activation)  (None, 10)                0         \n",
            "                                                                 \n",
            "=================================================================\n",
            "Total params: 1,194,474\n",
            "Trainable params: 1,194,474\n",
            "Non-trainable params: 0\n",
            "_________________________________________________________________\n",
            "Epoch 1/25\n",
            "118/118 [==============================] - 21s 176ms/step - loss: 1.8291 - accuracy: 0.2851\n",
            "Epoch 2/25\n",
            "118/118 [==============================] - 21s 177ms/step - loss: 0.5848 - accuracy: 0.7917\n",
            "Epoch 3/25\n",
            "118/118 [==============================] - 21s 177ms/step - loss: 0.1554 - accuracy: 0.9541\n",
            "Epoch 4/25\n",
            "118/118 [==============================] - 21s 177ms/step - loss: 0.0859 - accuracy: 0.9749\n",
            "Epoch 5/25\n",
            "118/118 [==============================] - 21s 177ms/step - loss: 0.0674 - accuracy: 0.9802\n",
            "Epoch 6/25\n",
            "118/118 [==============================] - 21s 176ms/step - loss: 0.0507 - accuracy: 0.9848\n",
            "Epoch 7/25\n",
            "118/118 [==============================] - 21s 176ms/step - loss: 0.0449 - accuracy: 0.9864\n",
            "Epoch 8/25\n",
            "118/118 [==============================] - 21s 177ms/step - loss: 0.0327 - accuracy: 0.9906\n",
            "Epoch 9/25\n",
            "118/118 [==============================] - 21s 176ms/step - loss: 0.0293 - accuracy: 0.9910\n",
            "Epoch 10/25\n",
            "118/118 [==============================] - 21s 176ms/step - loss: 0.0241 - accuracy: 0.9926\n",
            "Epoch 11/25\n",
            "118/118 [==============================] - 21s 176ms/step - loss: 0.0228 - accuracy: 0.9930\n",
            "Epoch 12/25\n",
            "118/118 [==============================] - 21s 176ms/step - loss: 0.0194 - accuracy: 0.9942\n",
            "Epoch 13/25\n",
            "118/118 [==============================] - 21s 176ms/step - loss: 0.0159 - accuracy: 0.9952\n",
            "Epoch 14/25\n",
            "118/118 [==============================] - 21s 175ms/step - loss: 0.0138 - accuracy: 0.9958\n",
            "Epoch 15/25\n",
            "118/118 [==============================] - 21s 175ms/step - loss: 0.0154 - accuracy: 0.9951\n",
            "Epoch 16/25\n",
            "118/118 [==============================] - 21s 176ms/step - loss: 0.0119 - accuracy: 0.9963\n",
            "Epoch 17/25\n",
            "118/118 [==============================] - 21s 176ms/step - loss: 0.0117 - accuracy: 0.9964\n",
            "Epoch 18/25\n",
            "118/118 [==============================] - 21s 176ms/step - loss: 0.0103 - accuracy: 0.9970\n",
            "Epoch 19/25\n",
            "118/118 [==============================] - 21s 175ms/step - loss: 0.0119 - accuracy: 0.9963\n",
            "Epoch 20/25\n",
            "118/118 [==============================] - 21s 175ms/step - loss: 0.0107 - accuracy: 0.9966\n",
            "Epoch 21/25\n",
            "118/118 [==============================] - 21s 176ms/step - loss: 0.0074 - accuracy: 0.9977\n",
            "Epoch 22/25\n",
            "118/118 [==============================] - 21s 176ms/step - loss: 0.0073 - accuracy: 0.9976\n",
            "Epoch 23/25\n",
            "118/118 [==============================] - 21s 176ms/step - loss: 0.0086 - accuracy: 0.9972\n",
            "Epoch 24/25\n",
            "118/118 [==============================] - 21s 176ms/step - loss: 0.0098 - accuracy: 0.9970\n",
            "Epoch 25/25\n",
            "118/118 [==============================] - 21s 176ms/step - loss: 0.0089 - accuracy: 0.9973\n",
            "Model: \"sequential_33\"\n",
            "_________________________________________________________________\n",
            " Layer (type)                Output Shape              Param #   \n",
            "=================================================================\n",
            " conv2d_330 (Conv2D)         (None, 28, 28, 256)       2560      \n",
            "                                                                 \n",
            " conv2d_331 (Conv2D)         (None, 14, 14, 256)       590080    \n",
            "                                                                 \n",
            " max_pooling2d_165 (MaxPooli  (None, 7, 7, 256)        0         \n",
            " ng2D)                                                           \n",
            "                                                                 \n",
            " conv2d_332 (Conv2D)         (None, 7, 7, 128)         295040    \n",
            "                                                                 \n",
            " conv2d_333 (Conv2D)         (None, 4, 4, 128)         147584    \n",
            "                                                                 \n",
            " max_pooling2d_166 (MaxPooli  (None, 2, 2, 128)        0         \n",
            " ng2D)                                                           \n",
            "                                                                 \n",
            " conv2d_334 (Conv2D)         (None, 2, 2, 64)          73792     \n",
            "                                                                 \n",
            " conv2d_335 (Conv2D)         (None, 1, 1, 64)          36928     \n",
            "                                                                 \n",
            " max_pooling2d_167 (MaxPooli  (None, 1, 1, 64)         0         \n",
            " ng2D)                                                           \n",
            "                                                                 \n",
            " conv2d_336 (Conv2D)         (None, 1, 1, 32)          18464     \n",
            "                                                                 \n",
            " conv2d_337 (Conv2D)         (None, 1, 1, 32)          9248      \n",
            "                                                                 \n",
            " max_pooling2d_168 (MaxPooli  (None, 1, 1, 32)         0         \n",
            " ng2D)                                                           \n",
            "                                                                 \n",
            " conv2d_338 (Conv2D)         (None, 1, 1, 16)          4624      \n",
            "                                                                 \n",
            " max_pooling2d_169 (MaxPooli  (None, 1, 1, 16)         0         \n",
            " ng2D)                                                           \n",
            "                                                                 \n",
            " conv2d_339 (Conv2D)         (None, 1, 1, 16)          2320      \n",
            "                                                                 \n",
            " flatten_33 (Flatten)        (None, 16)                0         \n",
            "                                                                 \n",
            " dense_66 (Dense)            (None, 512)               8704      \n",
            "                                                                 \n",
            " activation_66 (Activation)  (None, 512)               0         \n",
            "                                                                 \n",
            " dense_67 (Dense)            (None, 10)                5130      \n",
            "                                                                 \n",
            " activation_67 (Activation)  (None, 10)                0         \n",
            "                                                                 \n",
            "=================================================================\n",
            "Total params: 1,194,474\n",
            "Trainable params: 1,194,474\n",
            "Non-trainable params: 0\n",
            "_________________________________________________________________\n",
            "Epoch 1/25\n",
            "118/118 [==============================] - 22s 176ms/step - loss: 1.9087 - accuracy: 0.2569\n",
            "Epoch 2/25\n",
            "118/118 [==============================] - 21s 181ms/step - loss: 0.6528 - accuracy: 0.7681\n",
            "Epoch 3/25\n",
            "118/118 [==============================] - 21s 178ms/step - loss: 0.1761 - accuracy: 0.9491\n",
            "Epoch 4/25\n",
            "118/118 [==============================] - 21s 176ms/step - loss: 0.1056 - accuracy: 0.9690\n",
            "Epoch 5/25\n",
            "118/118 [==============================] - 21s 177ms/step - loss: 0.0817 - accuracy: 0.9758\n",
            "Epoch 6/25\n",
            "118/118 [==============================] - 21s 178ms/step - loss: 0.0563 - accuracy: 0.9832\n",
            "Epoch 7/25\n",
            "118/118 [==============================] - 21s 177ms/step - loss: 0.0472 - accuracy: 0.9855\n",
            "Epoch 8/25\n",
            "118/118 [==============================] - 21s 176ms/step - loss: 0.0415 - accuracy: 0.9875\n",
            "Epoch 9/25\n",
            "118/118 [==============================] - 21s 177ms/step - loss: 0.0358 - accuracy: 0.9893\n",
            "Epoch 10/25\n",
            "118/118 [==============================] - 21s 177ms/step - loss: 0.0317 - accuracy: 0.9905\n",
            "Epoch 11/25\n",
            "118/118 [==============================] - 21s 177ms/step - loss: 0.0289 - accuracy: 0.9912\n",
            "Epoch 12/25\n",
            "118/118 [==============================] - 21s 177ms/step - loss: 0.0201 - accuracy: 0.9941\n",
            "Epoch 13/25\n",
            "118/118 [==============================] - 21s 176ms/step - loss: 0.0211 - accuracy: 0.9937\n",
            "Epoch 14/25\n",
            "118/118 [==============================] - 21s 176ms/step - loss: 0.0167 - accuracy: 0.9948\n",
            "Epoch 15/25\n",
            "118/118 [==============================] - 21s 176ms/step - loss: 0.0145 - accuracy: 0.9953\n",
            "Epoch 16/25\n",
            "118/118 [==============================] - 21s 176ms/step - loss: 0.0121 - accuracy: 0.9966\n",
            "Epoch 17/25\n",
            "118/118 [==============================] - 21s 177ms/step - loss: 0.0120 - accuracy: 0.9963\n",
            "Epoch 18/25\n",
            "118/118 [==============================] - 21s 176ms/step - loss: 0.0144 - accuracy: 0.9956\n",
            "Epoch 19/25\n",
            "118/118 [==============================] - 21s 175ms/step - loss: 0.0135 - accuracy: 0.9957\n",
            "Epoch 20/25\n",
            "118/118 [==============================] - 21s 175ms/step - loss: 0.0119 - accuracy: 0.9959\n",
            "Epoch 21/25\n",
            "118/118 [==============================] - 21s 175ms/step - loss: 0.0090 - accuracy: 0.9972\n",
            "Epoch 22/25\n",
            "118/118 [==============================] - 21s 176ms/step - loss: 0.0066 - accuracy: 0.9980\n",
            "Epoch 23/25\n",
            "118/118 [==============================] - 21s 175ms/step - loss: 0.0073 - accuracy: 0.9976\n",
            "Epoch 24/25\n",
            "118/118 [==============================] - 21s 175ms/step - loss: 0.0113 - accuracy: 0.9966\n",
            "Epoch 25/25\n",
            "118/118 [==============================] - 21s 175ms/step - loss: 0.0095 - accuracy: 0.9969\n",
            "Model: \"sequential_34\"\n",
            "_________________________________________________________________\n",
            " Layer (type)                Output Shape              Param #   \n",
            "=================================================================\n",
            " conv2d_340 (Conv2D)         (None, 28, 28, 256)       2560      \n",
            "                                                                 \n",
            " conv2d_341 (Conv2D)         (None, 14, 14, 256)       590080    \n",
            "                                                                 \n",
            " max_pooling2d_170 (MaxPooli  (None, 7, 7, 256)        0         \n",
            " ng2D)                                                           \n",
            "                                                                 \n",
            " conv2d_342 (Conv2D)         (None, 7, 7, 128)         295040    \n",
            "                                                                 \n",
            " conv2d_343 (Conv2D)         (None, 4, 4, 128)         147584    \n",
            "                                                                 \n",
            " max_pooling2d_171 (MaxPooli  (None, 2, 2, 128)        0         \n",
            " ng2D)                                                           \n",
            "                                                                 \n",
            " conv2d_344 (Conv2D)         (None, 2, 2, 64)          73792     \n",
            "                                                                 \n",
            " conv2d_345 (Conv2D)         (None, 1, 1, 64)          36928     \n",
            "                                                                 \n",
            " max_pooling2d_172 (MaxPooli  (None, 1, 1, 64)         0         \n",
            " ng2D)                                                           \n",
            "                                                                 \n",
            " conv2d_346 (Conv2D)         (None, 1, 1, 32)          18464     \n",
            "                                                                 \n",
            " conv2d_347 (Conv2D)         (None, 1, 1, 32)          9248      \n",
            "                                                                 \n",
            " max_pooling2d_173 (MaxPooli  (None, 1, 1, 32)         0         \n",
            " ng2D)                                                           \n",
            "                                                                 \n",
            " conv2d_348 (Conv2D)         (None, 1, 1, 16)          4624      \n",
            "                                                                 \n",
            " max_pooling2d_174 (MaxPooli  (None, 1, 1, 16)         0         \n",
            " ng2D)                                                           \n",
            "                                                                 \n",
            " conv2d_349 (Conv2D)         (None, 1, 1, 16)          2320      \n",
            "                                                                 \n",
            " flatten_34 (Flatten)        (None, 16)                0         \n",
            "                                                                 \n",
            " dense_68 (Dense)            (None, 512)               8704      \n",
            "                                                                 \n",
            " activation_68 (Activation)  (None, 512)               0         \n",
            "                                                                 \n",
            " dense_69 (Dense)            (None, 10)                5130      \n",
            "                                                                 \n",
            " activation_69 (Activation)  (None, 10)                0         \n",
            "                                                                 \n",
            "=================================================================\n",
            "Total params: 1,194,474\n",
            "Trainable params: 1,194,474\n",
            "Non-trainable params: 0\n",
            "_________________________________________________________________\n"
          ]
        }
      ]
    },
    {
      "cell_type": "code",
      "source": [
        "print(acc)\n",
        "plt.plot(np.array(learningRate).reshape(3,1), np.array(acc).reshape(3,1), color = 'red')\n",
        "plt.ylabel('Accuracy')\n",
        "plt.xlabel('Learning Rate')\n",
        "plt.title('Accuracy Vs Learning rate')\n",
        "plt.show()"
      ],
      "metadata": {
        "colab": {
          "base_uri": "https://localhost:8080/",
          "height": 312
        },
        "id": "E2w0yFJDSOSe",
        "outputId": "ba943f40-48b3-44b0-8384-2ab7a57f9aa7"
      },
      "execution_count": 32,
      "outputs": [
        {
          "output_type": "stream",
          "name": "stdout",
          "text": [
            "[0.99765003 0.99734998 0.99686664]\n"
          ]
        },
        {
          "output_type": "display_data",
          "data": {
            "text/plain": [
              "<Figure size 432x288 with 1 Axes>"
            ],
            "image/png": "[encoded data removed]"
          },
          "metadata": {
            "needs_background": "light"
          }
        }
      ]
    },
    {
      "cell_type": "markdown",
      "source": [
        "**Which one performed best**"
      ],
      "metadata": {
        "id": "_50Qb4HXSSVt"
      }
    },
    {
      "cell_type": "code",
      "source": [
        "from tabulate import tabulate\n",
        "mydata = [[0.0001, 0.99765003],\n",
        "          [0.001, 0.99734998],\n",
        "          [0.01, 0.99686664]]\n",
        "head = [\"Learning Rate\", \"Accuarcy\"]\n",
        "# Display Table\n",
        "print(tabulate(mydata, headers=head, tablefmt=\"grid\", numalign=\"center\"))"
      ],
      "metadata": {
        "colab": {
          "base_uri": "https://localhost:8080/"
        },
        "id": "mwrJ1iyjSTJI",
        "outputId": "421895e2-46f0-4350-8c2b-6764d7b7d93f"
      },
      "execution_count": 33,
      "outputs": [
        {
          "output_type": "stream",
          "name": "stdout",
          "text": [
            "+-----------------+------------+\n",
            "|  Learning Rate  |  Accuarcy  |\n",
            "+=================+============+\n",
            "|     0.0001      |  0.99765   |\n",
            "+-----------------+------------+\n",
            "|      0.001      |  0.99735   |\n",
            "+-----------------+------------+\n",
            "|      0.01       |  0.996867  |\n",
            "+-----------------+------------+\n"
          ]
        }
      ]
    },
    {
      "cell_type": "markdown",
      "source": [
        "#####Based on the above results, we can say that for my case, learning rate = 0.0001 gives highest accuarcy (0.99765). As the learning rate increases accuracy decreases for inverted CNN."
      ],
      "metadata": {
        "id": "JhoM5hmXhZGL"
      }
    },
    {
      "cell_type": "markdown",
      "source": [
        "**Effect of batch size on Inverted CNN**"
      ],
      "metadata": {
        "id": "ZmSSriB8SYCc"
      }
    },
    {
      "cell_type": "code",
      "source": [
        "batch=[128, 256, 512]\n",
        "acc=np.zeros(3)\n",
        "for i in range(len(batch)):\n",
        "  cnn_model_i = tf.keras.models.Sequential()\n",
        "  cnn_model_i.add(tf.keras.layers.Conv2D(256, (3, 3), padding='same', activation='relu'))\n",
        "  cnn_model_i.add(tf.keras.layers.Conv2D(256, (3, 3), strides=(2, 2), padding='same', activation='relu'))\n",
        "  cnn_model_i.add(tf.keras.layers.MaxPooling2D(pool_size=(2, 2), strides=(2,2), padding='same'))\n",
        "  cnn_model_i.add(tf.keras.layers.Conv2D(128, (3, 3), padding='same', activation='relu'))\n",
        "  cnn_model_i.add(tf.keras.layers.Conv2D(128, (3, 3), strides=(2, 2), padding='same', activation='relu'))\n",
        "  cnn_model_i.add(tf.keras.layers.MaxPooling2D(pool_size=(2, 2), strides=(2,2),padding='same'))\n",
        "  cnn_model_i.add(tf.keras.layers.Conv2D(64, (3, 3), padding='same', activation='relu'))\n",
        "  cnn_model_i.add(tf.keras.layers.Conv2D(64, (3, 3), strides=(2, 2), padding='same', activation='relu'))\n",
        "  cnn_model_i.add(tf.keras.layers.MaxPooling2D(pool_size=(2, 2), strides=(2,2),padding='same'))\n",
        "  cnn_model_i.add(tf.keras.layers.Conv2D(32, (3, 3), padding='same', activation='relu'))\n",
        "  cnn_model_i.add(tf.keras.layers.Conv2D(32, (3, 3), strides=(2, 2), padding='same', activation='relu'))\n",
        "  cnn_model_i.add(tf.keras.layers.MaxPooling2D(pool_size=(2, 2), strides=(2,2),padding='same'))\n",
        "  cnn_model_i.add(tf.keras.layers.Conv2D(16, (3, 3), padding='same', activation='relu'))\n",
        "  cnn_model_i.add(tf.keras.layers.MaxPooling2D(pool_size=(2, 2), strides=(2,2),padding='same'))\n",
        "  cnn_model_i.add(tf.keras.layers.Conv2D(16, (3, 3), strides=(2, 2), padding='same', activation='relu'))\n",
        "\n",
        "  cnn_model_i.add(tf.keras.layers.Flatten())\n",
        "  cnn_model_i.add(tf.keras.layers.Dense(512))\n",
        "  cnn_model_i.add(tf.keras.layers.Activation('relu'))\n",
        "  cnn_model_i.add(tf.keras.layers.Dense(10))\n",
        "  cnn_model_i.add(tf.keras.layers.Activation('softmax'))\n",
        "\n",
        "  cnn_model_i.compile(loss='sparse_categorical_crossentropy', optimizer='adam', metrics=['accuracy'])\n",
        "  cnn_model_i.build(input_shape=(1,28,28,1))\n",
        "  accuracy= cnn_model_i.fit(train_images, train_labels, batch_size=batch[i], epochs=25)\n",
        "  acc[i]=accuracy.history['accuracy'][24]\n",
        "  cnn_model_i.summary()"
      ],
      "metadata": {
        "colab": {
          "base_uri": "https://localhost:8080/"
        },
        "id": "RPSXJqjCSk1o",
        "outputId": "fd9b4c58-17e8-44a2-b5a0-e6b822877f7b"
      },
      "execution_count": 34,
      "outputs": [
        {
          "output_type": "stream",
          "name": "stdout",
          "text": [
            "Epoch 1/25\n",
            "469/469 [==============================] - 22s 43ms/step - loss: 0.7952 - accuracy: 0.7082\n",
            "Epoch 2/25\n",
            "469/469 [==============================] - 21s 44ms/step - loss: 0.1036 - accuracy: 0.9714\n",
            "Epoch 3/25\n",
            "469/469 [==============================] - 21s 44ms/step - loss: 0.0658 - accuracy: 0.9818\n",
            "Epoch 4/25\n",
            "469/469 [==============================] - 20s 43ms/step - loss: 0.0477 - accuracy: 0.9865\n",
            "Epoch 5/25\n",
            "469/469 [==============================] - 20s 43ms/step - loss: 0.0381 - accuracy: 0.9896\n",
            "Epoch 6/25\n",
            "469/469 [==============================] - 20s 44ms/step - loss: 0.0318 - accuracy: 0.9912\n",
            "Epoch 7/25\n",
            "469/469 [==============================] - 20s 43ms/step - loss: 0.0300 - accuracy: 0.9916\n",
            "Epoch 8/25\n",
            "469/469 [==============================] - 20s 43ms/step - loss: 0.0229 - accuracy: 0.9940\n",
            "Epoch 9/25\n",
            "469/469 [==============================] - 20s 43ms/step - loss: 0.0203 - accuracy: 0.9945\n",
            "Epoch 10/25\n",
            "469/469 [==============================] - 20s 43ms/step - loss: 0.0169 - accuracy: 0.9953\n",
            "Epoch 11/25\n",
            "469/469 [==============================] - 20s 43ms/step - loss: 0.0189 - accuracy: 0.9948\n",
            "Epoch 12/25\n",
            "469/469 [==============================] - 20s 43ms/step - loss: 0.0178 - accuracy: 0.9954\n",
            "Epoch 13/25\n",
            "469/469 [==============================] - 20s 43ms/step - loss: 0.0130 - accuracy: 0.9965\n",
            "Epoch 14/25\n",
            "469/469 [==============================] - 20s 43ms/step - loss: 0.0132 - accuracy: 0.9967\n",
            "Epoch 15/25\n",
            "469/469 [==============================] - 20s 43ms/step - loss: 0.0117 - accuracy: 0.9969\n",
            "Epoch 16/25\n",
            "469/469 [==============================] - 20s 43ms/step - loss: 0.0121 - accuracy: 0.9969\n",
            "Epoch 17/25\n",
            "469/469 [==============================] - 20s 43ms/step - loss: 0.0105 - accuracy: 0.9973\n",
            "Epoch 18/25\n",
            "469/469 [==============================] - 20s 43ms/step - loss: 0.0082 - accuracy: 0.9980\n",
            "Epoch 19/25\n",
            "469/469 [==============================] - 20s 43ms/step - loss: 0.0089 - accuracy: 0.9977\n",
            "Epoch 20/25\n",
            "469/469 [==============================] - 20s 43ms/step - loss: 0.0136 - accuracy: 0.9971\n",
            "Epoch 21/25\n",
            "469/469 [==============================] - 20s 43ms/step - loss: 0.0096 - accuracy: 0.9977\n",
            "Epoch 22/25\n",
            "469/469 [==============================] - 20s 42ms/step - loss: 0.0054 - accuracy: 0.9988\n",
            "Epoch 23/25\n",
            "469/469 [==============================] - 20s 43ms/step - loss: 0.0128 - accuracy: 0.9969\n",
            "Epoch 24/25\n",
            "469/469 [==============================] - 20s 43ms/step - loss: 0.0085 - accuracy: 0.9982\n",
            "Epoch 25/25\n",
            "469/469 [==============================] - 20s 42ms/step - loss: 0.0071 - accuracy: 0.9983\n",
            "Model: \"sequential_35\"\n",
            "_________________________________________________________________\n",
            " Layer (type)                Output Shape              Param #   \n",
            "=================================================================\n",
            " conv2d_350 (Conv2D)         (None, 28, 28, 256)       2560      \n",
            "                                                                 \n",
            " conv2d_351 (Conv2D)         (None, 14, 14, 256)       590080    \n",
            "                                                                 \n",
            " max_pooling2d_175 (MaxPooli  (None, 7, 7, 256)        0         \n",
            " ng2D)                                                           \n",
            "                                                                 \n",
            " conv2d_352 (Conv2D)         (None, 7, 7, 128)         295040    \n",
            "                                                                 \n",
            " conv2d_353 (Conv2D)         (None, 4, 4, 128)         147584    \n",
            "                                                                 \n",
            " max_pooling2d_176 (MaxPooli  (None, 2, 2, 128)        0         \n",
            " ng2D)                                                           \n",
            "                                                                 \n",
            " conv2d_354 (Conv2D)         (None, 2, 2, 64)          73792     \n",
            "                                                                 \n",
            " conv2d_355 (Conv2D)         (None, 1, 1, 64)          36928     \n",
            "                                                                 \n",
            " max_pooling2d_177 (MaxPooli  (None, 1, 1, 64)         0         \n",
            " ng2D)                                                           \n",
            "                                                                 \n",
            " conv2d_356 (Conv2D)         (None, 1, 1, 32)          18464     \n",
            "                                                                 \n",
            " conv2d_357 (Conv2D)         (None, 1, 1, 32)          9248      \n",
            "                                                                 \n",
            " max_pooling2d_178 (MaxPooli  (None, 1, 1, 32)         0         \n",
            " ng2D)                                                           \n",
            "                                                                 \n",
            " conv2d_358 (Conv2D)         (None, 1, 1, 16)          4624      \n",
            "                                                                 \n",
            " max_pooling2d_179 (MaxPooli  (None, 1, 1, 16)         0         \n",
            " ng2D)                                                           \n",
            "                                                                 \n",
            " conv2d_359 (Conv2D)         (None, 1, 1, 16)          2320      \n",
            "                                                                 \n",
            " flatten_35 (Flatten)        (None, 16)                0         \n",
            "                                                                 \n",
            " dense_70 (Dense)            (None, 512)               8704      \n",
            "                                                                 \n",
            " activation_70 (Activation)  (None, 512)               0         \n",
            "                                                                 \n",
            " dense_71 (Dense)            (None, 10)                5130      \n",
            "                                                                 \n",
            " activation_71 (Activation)  (None, 10)                0         \n",
            "                                                                 \n",
            "=================================================================\n",
            "Total params: 1,194,474\n",
            "Trainable params: 1,194,474\n",
            "Non-trainable params: 0\n",
            "_________________________________________________________________\n",
            "Epoch 1/25\n",
            "235/235 [==============================] - 21s 83ms/step - loss: 1.0710 - accuracy: 0.5958\n",
            "Epoch 2/25\n",
            "235/235 [==============================] - 20s 83ms/step - loss: 0.1910 - accuracy: 0.9416\n",
            "Epoch 3/25\n",
            "235/235 [==============================] - 20s 84ms/step - loss: 0.0942 - accuracy: 0.9721\n",
            "Epoch 4/25\n",
            "235/235 [==============================] - 19s 83ms/step - loss: 0.0678 - accuracy: 0.9792\n",
            "Epoch 5/25\n",
            "235/235 [==============================] - 19s 83ms/step - loss: 0.0528 - accuracy: 0.9842\n",
            "Epoch 6/25\n",
            "235/235 [==============================] - 19s 83ms/step - loss: 0.0388 - accuracy: 0.9887\n",
            "Epoch 7/25\n",
            "235/235 [==============================] - 19s 83ms/step - loss: 0.0320 - accuracy: 0.9905\n",
            "Epoch 8/25\n",
            "235/235 [==============================] - 19s 83ms/step - loss: 0.0273 - accuracy: 0.9913\n",
            "Epoch 9/25\n",
            "235/235 [==============================] - 19s 83ms/step - loss: 0.0237 - accuracy: 0.9929\n",
            "Epoch 10/25\n",
            "235/235 [==============================] - 19s 82ms/step - loss: 0.0212 - accuracy: 0.9936\n",
            "Epoch 11/25\n",
            "235/235 [==============================] - 19s 83ms/step - loss: 0.0164 - accuracy: 0.9953\n",
            "Epoch 12/25\n",
            "235/235 [==============================] - 19s 83ms/step - loss: 0.0170 - accuracy: 0.9948\n",
            "Epoch 13/25\n",
            "235/235 [==============================] - 19s 83ms/step - loss: 0.0155 - accuracy: 0.9954\n",
            "Epoch 14/25\n",
            "235/235 [==============================] - 19s 82ms/step - loss: 0.0142 - accuracy: 0.9956\n",
            "Epoch 15/25\n",
            "235/235 [==============================] - 19s 82ms/step - loss: 0.0131 - accuracy: 0.9963\n",
            "Epoch 16/25\n",
            "235/235 [==============================] - 19s 82ms/step - loss: 0.0131 - accuracy: 0.9959\n",
            "Epoch 17/25\n",
            "235/235 [==============================] - 19s 82ms/step - loss: 0.0131 - accuracy: 0.9962\n",
            "Epoch 18/25\n",
            "235/235 [==============================] - 19s 83ms/step - loss: 0.0110 - accuracy: 0.9969\n",
            "Epoch 19/25\n",
            "235/235 [==============================] - 19s 83ms/step - loss: 0.0086 - accuracy: 0.9973\n",
            "Epoch 20/25\n",
            "235/235 [==============================] - 19s 82ms/step - loss: 0.0107 - accuracy: 0.9969\n",
            "Epoch 21/25\n",
            "235/235 [==============================] - 19s 82ms/step - loss: 0.0079 - accuracy: 0.9977\n",
            "Epoch 22/25\n",
            "235/235 [==============================] - 19s 82ms/step - loss: 0.0075 - accuracy: 0.9978\n",
            "Epoch 23/25\n",
            "235/235 [==============================] - 19s 82ms/step - loss: 0.0099 - accuracy: 0.9972\n",
            "Epoch 24/25\n",
            "235/235 [==============================] - 19s 81ms/step - loss: 0.0109 - accuracy: 0.9969\n",
            "Epoch 25/25\n",
            "235/235 [==============================] - 19s 81ms/step - loss: 0.0088 - accuracy: 0.9978\n",
            "Model: \"sequential_36\"\n",
            "_________________________________________________________________\n",
            " Layer (type)                Output Shape              Param #   \n",
            "=================================================================\n",
            " conv2d_360 (Conv2D)         (None, 28, 28, 256)       2560      \n",
            "                                                                 \n",
            " conv2d_361 (Conv2D)         (None, 14, 14, 256)       590080    \n",
            "                                                                 \n",
            " max_pooling2d_180 (MaxPooli  (None, 7, 7, 256)        0         \n",
            " ng2D)                                                           \n",
            "                                                                 \n",
            " conv2d_362 (Conv2D)         (None, 7, 7, 128)         295040    \n",
            "                                                                 \n",
            " conv2d_363 (Conv2D)         (None, 4, 4, 128)         147584    \n",
            "                                                                 \n",
            " max_pooling2d_181 (MaxPooli  (None, 2, 2, 128)        0         \n",
            " ng2D)                                                           \n",
            "                                                                 \n",
            " conv2d_364 (Conv2D)         (None, 2, 2, 64)          73792     \n",
            "                                                                 \n",
            " conv2d_365 (Conv2D)         (None, 1, 1, 64)          36928     \n",
            "                                                                 \n",
            " max_pooling2d_182 (MaxPooli  (None, 1, 1, 64)         0         \n",
            " ng2D)                                                           \n",
            "                                                                 \n",
            " conv2d_366 (Conv2D)         (None, 1, 1, 32)          18464     \n",
            "                                                                 \n",
            " conv2d_367 (Conv2D)         (None, 1, 1, 32)          9248      \n",
            "                                                                 \n",
            " max_pooling2d_183 (MaxPooli  (None, 1, 1, 32)         0         \n",
            " ng2D)                                                           \n",
            "                                                                 \n",
            " conv2d_368 (Conv2D)         (None, 1, 1, 16)          4624      \n",
            "                                                                 \n",
            " max_pooling2d_184 (MaxPooli  (None, 1, 1, 16)         0         \n",
            " ng2D)                                                           \n",
            "                                                                 \n",
            " conv2d_369 (Conv2D)         (None, 1, 1, 16)          2320      \n",
            "                                                                 \n",
            " flatten_36 (Flatten)        (None, 16)                0         \n",
            "                                                                 \n",
            " dense_72 (Dense)            (None, 512)               8704      \n",
            "                                                                 \n",
            " activation_72 (Activation)  (None, 512)               0         \n",
            "                                                                 \n",
            " dense_73 (Dense)            (None, 10)                5130      \n",
            "                                                                 \n",
            " activation_73 (Activation)  (None, 10)                0         \n",
            "                                                                 \n",
            "=================================================================\n",
            "Total params: 1,194,474\n",
            "Trainable params: 1,194,474\n",
            "Non-trainable params: 0\n",
            "_________________________________________________________________\n",
            "Epoch 1/25\n",
            "118/118 [==============================] - 22s 176ms/step - loss: 1.7875 - accuracy: 0.2919\n",
            "Epoch 2/25\n",
            "118/118 [==============================] - 21s 177ms/step - loss: 0.5697 - accuracy: 0.7932\n",
            "Epoch 3/25\n",
            "118/118 [==============================] - 21s 177ms/step - loss: 0.1822 - accuracy: 0.9453\n",
            "Epoch 4/25\n",
            "118/118 [==============================] - 21s 178ms/step - loss: 0.1010 - accuracy: 0.9704\n",
            "Epoch 5/25\n",
            "118/118 [==============================] - 21s 177ms/step - loss: 0.0744 - accuracy: 0.9786\n",
            "Epoch 6/25\n",
            "118/118 [==============================] - 21s 177ms/step - loss: 0.0578 - accuracy: 0.9832\n",
            "Epoch 7/25\n",
            "118/118 [==============================] - 21s 177ms/step - loss: 0.0491 - accuracy: 0.9857\n",
            "Epoch 8/25\n",
            "118/118 [==============================] - 21s 177ms/step - loss: 0.0413 - accuracy: 0.9877\n",
            "Epoch 9/25\n",
            "118/118 [==============================] - 21s 176ms/step - loss: 0.0325 - accuracy: 0.9906\n",
            "Epoch 10/25\n",
            "118/118 [==============================] - 21s 176ms/step - loss: 0.0252 - accuracy: 0.9927\n",
            "Epoch 11/25\n",
            "118/118 [==============================] - 21s 177ms/step - loss: 0.0296 - accuracy: 0.9912\n",
            "Epoch 12/25\n",
            "118/118 [==============================] - 21s 176ms/step - loss: 0.0207 - accuracy: 0.9939\n",
            "Epoch 13/25\n",
            "118/118 [==============================] - 21s 175ms/step - loss: 0.0185 - accuracy: 0.9947\n",
            "Epoch 14/25\n",
            "118/118 [==============================] - 21s 175ms/step - loss: 0.0166 - accuracy: 0.9951\n",
            "Epoch 15/25\n",
            "118/118 [==============================] - 21s 176ms/step - loss: 0.0125 - accuracy: 0.9963\n",
            "Epoch 16/25\n",
            "118/118 [==============================] - 21s 176ms/step - loss: 0.0104 - accuracy: 0.9970\n",
            "Epoch 17/25\n",
            "118/118 [==============================] - 21s 176ms/step - loss: 0.0112 - accuracy: 0.9966\n",
            "Epoch 18/25\n",
            "118/118 [==============================] - 21s 176ms/step - loss: 0.0093 - accuracy: 0.9973\n",
            "Epoch 19/25\n",
            "118/118 [==============================] - 21s 176ms/step - loss: 0.0080 - accuracy: 0.9978\n",
            "Epoch 20/25\n",
            "118/118 [==============================] - 21s 176ms/step - loss: 0.0119 - accuracy: 0.9965\n",
            "Epoch 21/25\n",
            "118/118 [==============================] - 21s 175ms/step - loss: 0.0091 - accuracy: 0.9970\n",
            "Epoch 22/25\n",
            "118/118 [==============================] - 21s 174ms/step - loss: 0.0143 - accuracy: 0.9960\n",
            "Epoch 23/25\n",
            "118/118 [==============================] - 21s 175ms/step - loss: 0.0093 - accuracy: 0.9971\n",
            "Epoch 24/25\n",
            "118/118 [==============================] - 21s 175ms/step - loss: 0.0078 - accuracy: 0.9979\n",
            "Epoch 25/25\n",
            "118/118 [==============================] - 21s 175ms/step - loss: 0.0065 - accuracy: 0.9981\n",
            "Model: \"sequential_37\"\n",
            "_________________________________________________________________\n",
            " Layer (type)                Output Shape              Param #   \n",
            "=================================================================\n",
            " conv2d_370 (Conv2D)         (None, 28, 28, 256)       2560      \n",
            "                                                                 \n",
            " conv2d_371 (Conv2D)         (None, 14, 14, 256)       590080    \n",
            "                                                                 \n",
            " max_pooling2d_185 (MaxPooli  (None, 7, 7, 256)        0         \n",
            " ng2D)                                                           \n",
            "                                                                 \n",
            " conv2d_372 (Conv2D)         (None, 7, 7, 128)         295040    \n",
            "                                                                 \n",
            " conv2d_373 (Conv2D)         (None, 4, 4, 128)         147584    \n",
            "                                                                 \n",
            " max_pooling2d_186 (MaxPooli  (None, 2, 2, 128)        0         \n",
            " ng2D)                                                           \n",
            "                                                                 \n",
            " conv2d_374 (Conv2D)         (None, 2, 2, 64)          73792     \n",
            "                                                                 \n",
            " conv2d_375 (Conv2D)         (None, 1, 1, 64)          36928     \n",
            "                                                                 \n",
            " max_pooling2d_187 (MaxPooli  (None, 1, 1, 64)         0         \n",
            " ng2D)                                                           \n",
            "                                                                 \n",
            " conv2d_376 (Conv2D)         (None, 1, 1, 32)          18464     \n",
            "                                                                 \n",
            " conv2d_377 (Conv2D)         (None, 1, 1, 32)          9248      \n",
            "                                                                 \n",
            " max_pooling2d_188 (MaxPooli  (None, 1, 1, 32)         0         \n",
            " ng2D)                                                           \n",
            "                                                                 \n",
            " conv2d_378 (Conv2D)         (None, 1, 1, 16)          4624      \n",
            "                                                                 \n",
            " max_pooling2d_189 (MaxPooli  (None, 1, 1, 16)         0         \n",
            " ng2D)                                                           \n",
            "                                                                 \n",
            " conv2d_379 (Conv2D)         (None, 1, 1, 16)          2320      \n",
            "                                                                 \n",
            " flatten_37 (Flatten)        (None, 16)                0         \n",
            "                                                                 \n",
            " dense_74 (Dense)            (None, 512)               8704      \n",
            "                                                                 \n",
            " activation_74 (Activation)  (None, 512)               0         \n",
            "                                                                 \n",
            " dense_75 (Dense)            (None, 10)                5130      \n",
            "                                                                 \n",
            " activation_75 (Activation)  (None, 10)                0         \n",
            "                                                                 \n",
            "=================================================================\n",
            "Total params: 1,194,474\n",
            "Trainable params: 1,194,474\n",
            "Non-trainable params: 0\n",
            "_________________________________________________________________\n"
          ]
        }
      ]
    },
    {
      "cell_type": "code",
      "source": [
        "print(acc)\n",
        "plt.plot(np.array(batch).reshape(3,1), np.array(acc).reshape(3,1), color = 'red')\n",
        "plt.ylabel('Accuracy')\n",
        "plt.xlabel('Batch size')\n",
        "plt.title('Accuracy Vs Batch size')\n",
        "plt.show()"
      ],
      "metadata": {
        "colab": {
          "base_uri": "https://localhost:8080/",
          "height": 312
        },
        "id": "BeBaF8_nSnjg",
        "outputId": "93071aab-944b-40dc-820f-7fcffdc3aa96"
      },
      "execution_count": 35,
      "outputs": [
        {
          "output_type": "stream",
          "name": "stdout",
          "text": [
            "[0.99828333 0.99783331 0.99814999]\n"
          ]
        },
        {
          "output_type": "display_data",
          "data": {
            "text/plain": [
              "<Figure size 432x288 with 1 Axes>"
            ],
            "image/png": "[encoded data removed]"
          },
          "metadata": {
            "needs_background": "light"
          }
        }
      ]
    },
    {
      "cell_type": "markdown",
      "source": [
        "**Which one performed best**"
      ],
      "metadata": {
        "id": "1yr6Qg6Yf2v7"
      }
    },
    {
      "cell_type": "code",
      "source": [
        "from tabulate import tabulate\n",
        "mydata = [[128, 0.99828333],\n",
        "          [256, 0.99783331],\n",
        "          [512, 0.99814999]]\n",
        "head = [\"Batch Size\", \"Accuarcy\"]\n",
        "# Display Table\n",
        "print(tabulate(mydata, headers=head, tablefmt=\"grid\", numalign=\"center\"))"
      ],
      "metadata": {
        "colab": {
          "base_uri": "https://localhost:8080/"
        },
        "id": "0l7gK6iQf2L5",
        "outputId": "5d89add4-128a-4a14-fcaa-30c49356b9be"
      },
      "execution_count": 36,
      "outputs": [
        {
          "output_type": "stream",
          "name": "stdout",
          "text": [
            "+--------------+------------+\n",
            "|  Batch Size  |  Accuarcy  |\n",
            "+==============+============+\n",
            "|     128      |  0.998283  |\n",
            "+--------------+------------+\n",
            "|     256      |  0.997833  |\n",
            "+--------------+------------+\n",
            "|     512      |  0.99815   |\n",
            "+--------------+------------+\n"
          ]
        }
      ]
    },
    {
      "cell_type": "markdown",
      "source": [
        "#####Based on the above results, we can say that for my case, batch = 128 gives highest accuarcy (0.998283). While the accuracy dropped for batch size 256 but 512 gives good result."
      ],
      "metadata": {
        "id": "GqbCJONzhvDN"
      }
    },
    {
      "cell_type": "markdown",
      "source": [
        "**Effect of optimizer on Inverted CNN**"
      ],
      "metadata": {
        "id": "LZkpgCyRSrXE"
      }
    },
    {
      "cell_type": "markdown",
      "source": [
        "Due to the best performance in Regular CNN, we took batch size 512"
      ],
      "metadata": {
        "id": "Th7ew5umy03E"
      }
    },
    {
      "cell_type": "code",
      "source": [
        "batch=[512]\n",
        "acc1=np.zeros(1)\n",
        "acc2=np.zeros(1)\n",
        "acc2=np.zeros(1)\n",
        "for k in range(3):\n",
        "  for i in range(len(batch)):    \n",
        "        cnn_model_i = tf.keras.models.Sequential()\n",
        "        cnn_model_i.add(tf.keras.layers.Conv2D(256, (3, 3), padding='same', activation='relu'))\n",
        "        cnn_model_i.add(tf.keras.layers.Conv2D(256, (3, 3), strides=(2, 2), padding='same', activation='relu'))\n",
        "        cnn_model_i.add(tf.keras.layers.MaxPooling2D(pool_size=(2, 2), strides=(2,2), padding='same'))\n",
        "        cnn_model_i.add(tf.keras.layers.Conv2D(128, (3, 3), padding='same', activation='relu'))\n",
        "        cnn_model_i.add(tf.keras.layers.Conv2D(128, (3, 3), strides=(2, 2), padding='same', activation='relu'))\n",
        "        cnn_model_i.add(tf.keras.layers.MaxPooling2D(pool_size=(2, 2), strides=(2,2),padding='same'))\n",
        "        cnn_model_i.add(tf.keras.layers.Conv2D(64, (3, 3), padding='same', activation='relu'))\n",
        "        cnn_model_i.add(tf.keras.layers.Conv2D(64, (3, 3), strides=(2, 2), padding='same', activation='relu'))\n",
        "        cnn_model_i.add(tf.keras.layers.MaxPooling2D(pool_size=(2, 2), strides=(2,2),padding='same'))\n",
        "        cnn_model_i.add(tf.keras.layers.Conv2D(32, (3, 3), padding='same', activation='relu'))\n",
        "        cnn_model_i.add(tf.keras.layers.Conv2D(32, (3, 3), strides=(2, 2), padding='same', activation='relu'))\n",
        "        cnn_model_i.add(tf.keras.layers.MaxPooling2D(pool_size=(2, 2), strides=(2,2),padding='same'))\n",
        "        cnn_model_i.add(tf.keras.layers.Conv2D(16, (3, 3), padding='same', activation='relu'))\n",
        "        cnn_model_i.add(tf.keras.layers.MaxPooling2D(pool_size=(2, 2), strides=(2,2),padding='same'))\n",
        "        cnn_model_i.add(tf.keras.layers.Conv2D(16, (3, 3), strides=(2, 2), padding='same', activation='relu'))\n",
        "\n",
        "        cnn_model_i.add(tf.keras.layers.Flatten())\n",
        "        cnn_model_i.add(tf.keras.layers.Dense(512))\n",
        "        cnn_model_i.add(tf.keras.layers.Activation('relu'))\n",
        "        cnn_model_i.add(tf.keras.layers.Dense(10))\n",
        "        cnn_model_i.add(tf.keras.layers.Activation('softmax'))\n",
        "\n",
        "        if k==0:\n",
        "          opt_lr = tf.keras.optimizers.Adam(learning_rate=0.001)\n",
        "          cnn_model_i.compile(loss='sparse_categorical_crossentropy', optimizer=opt_lr, metrics=['accuracy'])\n",
        "          cnn_model_i.build(input_shape=(1,28,28,1)) \n",
        "          accuracy1= cnn_model_i.fit(train_images, train_labels, batch_size=batch[i], epochs=25, verbose=0)\n",
        "          acc1[i]=accuracy1.history['accuracy'][24]\n",
        "        elif k==1:\n",
        "          opt_lr = tf.keras.optimizers.SGD(learning_rate=0.001)\n",
        "          cnn_model_i.compile(loss='sparse_categorical_crossentropy', optimizer=opt_lr, metrics=['accuracy'])\n",
        "          cnn_model_i.build(input_shape=(1,28,28,1))\n",
        "          accuracy2= cnn_model_i.fit(train_images, train_labels, batch_size=batch[i], epochs=25, verbose=0)\n",
        "          acc2[i]=accuracy2.history['accuracy'][24]\n",
        "        else:\n",
        "          opt_lr = tf.keras.optimizers.RMSprop(learning_rate=0.001)\n",
        "          cnn_model_i.compile(loss='sparse_categorical_crossentropy', optimizer=opt_lr, metrics=['accuracy'])\n",
        "          cnn_model_i.build(input_shape=(1,28,28,1))\n",
        "          accuracy2= cnn_model_i.fit(train_images, train_labels, batch_size=batch[i], epochs=25, verbose=0)\n",
        "          acc2[i]=accuracy2.history['accuracy'][24]"
      ],
      "metadata": {
        "id": "R9wRa-TxSxZJ"
      },
      "execution_count": 42,
      "outputs": []
    },
    {
      "cell_type": "code",
      "source": [
        "print(acc1)\n",
        "print(acc2)"
      ],
      "metadata": {
        "colab": {
          "base_uri": "https://localhost:8080/"
        },
        "id": "vWz8TFqCS0RZ",
        "outputId": "8142a84d-9451-49e1-9662-12848bb042bd"
      },
      "execution_count": 44,
      "outputs": [
        {
          "output_type": "stream",
          "name": "stdout",
          "text": [
            "[0.99736667]\n",
            "[0.99855]\n"
          ]
        }
      ]
    }
  ]
}